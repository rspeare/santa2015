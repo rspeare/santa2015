{
 "cells": [
  {
   "cell_type": "code",
   "execution_count": 16,
   "metadata": {
    "collapsed": false
   },
   "outputs": [],
   "source": [
    "import numpy as np\n",
    "import pandas as pd"
   ]
  },
  {
   "cell_type": "code",
   "execution_count": 107,
   "metadata": {
    "collapsed": true
   },
   "outputs": [],
   "source": [
    "import matplotlib.pyplot as plt\n",
    "%matplotlib inline"
   ]
  },
  {
   "cell_type": "code",
   "execution_count": 136,
   "metadata": {
    "collapsed": false
   },
   "outputs": [
    {
     "data": {
      "text/plain": [
       "<module 'improve_path' from '/Users/rspeare/Code/python/kaggle/santa/improve_path.py'>"
      ]
     },
     "execution_count": 136,
     "metadata": {},
     "output_type": "execute_result"
    }
   ],
   "source": [
    "import improve_path\n",
    "import imp\n",
    "imp.reload(improve_path)"
   ]
  },
  {
   "cell_type": "code",
   "execution_count": 142,
   "metadata": {
    "collapsed": false
   },
   "outputs": [],
   "source": [
    "df0=pd.read_csv('santas_route_2.csv')\n",
    "df0=df0.T.drop('Unnamed: 0').T\n",
    "df=df0[df0.GiftId!=-1]\n",
    "df=df.T.drop('tripW').T\n",
    "df=df.set_index(np.arange(0,len(df)))"
   ]
  },
  {
   "cell_type": "code",
   "execution_count": 143,
   "metadata": {
    "collapsed": false
   },
   "outputs": [
    {
     "data": {
      "text/plain": [
       "Index(['GiftId', 'TripId', 'Latitude', 'Longitude', 'Weight'], dtype='object')"
      ]
     },
     "execution_count": 143,
     "metadata": {},
     "output_type": "execute_result"
    }
   ],
   "source": [
    "gifts = pd.read_csv('gifts.csv')\n",
    "sample_sub = pd.read_csv('sample_submission.csv')\n",
    "\n",
    "all_trips = sample_sub.merge(gifts, on='GiftId')\n",
    "all_trips.columns"
   ]
  },
  {
   "cell_type": "code",
   "execution_count": 144,
   "metadata": {
    "collapsed": false
   },
   "outputs": [
    {
     "name": "stdout",
     "output_type": "stream",
     "text": [
      "log(T): 4.86 var: 5.01\n",
      "        equilibriation(0)  var: 0.550461343518\n",
      "25693940929.8\n",
      "log(T): 4.81424250944 var: 0.550461343518\n",
      "        equilibriation(0)  var: 0.422475480791\n",
      "25693487469.0\n",
      "log(T): 4.76848501888 var: 0.422475480791\n",
      "        equilibriation(0)  var: 0.619694458712\n",
      "25692624649.9\n",
      "log(T): 4.72272752832 var: 0.619694458712\n"
     ]
    }
   ],
   "source": [
    "Temp=10**4.86\n",
    "m0=1000\n",
    "var=5.01\n",
    "count=0\n",
    "print('log(T): '+str(np.log(Temp)/np.log(10.))+' var: '+str(var))\n",
    "for n in np.arange(3):\n",
    "    m0=np.amax([var,1.])**2.5*400\n",
    "    mu=improve_path.burn_swaps(Temp,m0,df0,0,len(df0))\n",
    "    var=np.std(mu/Temp)\n",
    "    print('        equilibriation('+str(count)+')  var: '+str(var))\n",
    "    score2=improve_path.weighted_reindeer_weariness(df0[all_trips.columns])\n",
    "    print(score2)\n",
    "    if (var < 5.):\n",
    "        Temp*=.9\n",
    "        print('log(T): '+str(np.log(Temp)/np.log(10.))+' var: '+str(var))\n",
    "        count=0\n",
    "    else:\n",
    "        count+=m0"
   ]
  },
  {
   "cell_type": "code",
   "execution_count": null,
   "metadata": {
    "collapsed": true
   },
   "outputs": [],
   "source": []
  }
 ],
 "metadata": {
  "kernelspec": {
   "display_name": "Python 3",
   "language": "python",
   "name": "python3"
  },
  "language_info": {
   "codemirror_mode": {
    "name": "ipython",
    "version": 3
   },
   "file_extension": ".py",
   "mimetype": "text/x-python",
   "name": "python",
   "nbconvert_exporter": "python",
   "pygments_lexer": "ipython3",
   "version": "3.5.1"
  }
 },
 "nbformat": 4,
 "nbformat_minor": 0
}
