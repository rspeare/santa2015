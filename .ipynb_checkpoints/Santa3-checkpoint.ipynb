{
 "cells": [
  {
   "cell_type": "code",
   "execution_count": 1,
   "metadata": {
    "collapsed": false
   },
   "outputs": [
    {
     "name": "stderr",
     "output_type": "stream",
     "text": [
      "/Users/rspeare/anaconda/lib/python3.5/site-packages/matplotlib/__init__.py:872: UserWarning: axes.color_cycle is deprecated and replaced with axes.prop_cycle; please use the latter.\n",
      "  warnings.warn(self.msg_depr % (key, alt_key))\n"
     ]
    }
   ],
   "source": [
    "import pandas as pd\n",
    "import numpy as np\n",
    "from haversine import haversine\n",
    "import matplotlib.pyplot as plt\n",
    "import seaborn as sns\n",
    "%matplotlib inline"
   ]
  },
  {
   "cell_type": "code",
   "execution_count": 2,
   "metadata": {
    "collapsed": true
   },
   "outputs": [],
   "source": [
    "north_pole = [90.,0.]\n",
    "weight_limit = 1000.\n",
    "sleigh_weight = 10."
   ]
  },
  {
   "cell_type": "code",
   "execution_count": 3,
   "metadata": {
    "collapsed": true
   },
   "outputs": [],
   "source": [
    "def weighted_trip_length(stops, weights): \n",
    "    tuples = [tuple(x) for x in stops.values]\n",
    "    # adding the last trip back to north pole, with just the sleigh weight\n",
    "    tuples.append(north_pole)\n",
    "    weights.append(sleigh_weight)\n",
    "    \n",
    "    dist = 0.0\n",
    "    prev_stop = north_pole\n",
    "    prev_weight = sum(weights)\n",
    "    for location, weight in zip(tuples, weights):\n",
    "        dist = dist + haversine(location, prev_stop) * prev_weight\n",
    "        prev_stop = location\n",
    "        prev_weight = prev_weight - weight\n",
    "    if (np.sum(weights)> weight_limit):\n",
    "        return np.inf\n",
    "    else:\n",
    "        return dist\n",
    "\n",
    "def weighted_reindeer_weariness(all_trips):\n",
    "    uniq_trips = all_trips.TripId.unique()\n",
    "    \n",
    "    if any(all_trips.groupby('TripId').Weight.sum() > weight_limit):\n",
    "        raise Exception(\"One of the sleighs over weight limit!\")\n",
    " \n",
    "    dist = 0.0\n",
    "    for t in uniq_trips:\n",
    "        this_trip = all_trips[all_trips.TripId==t]\n",
    "        dist = dist + weighted_trip_length(this_trip[['Latitude','Longitude']], this_trip.Weight.tolist())\n",
    "    \n",
    "    return dist    "
   ]
  },
  {
   "cell_type": "markdown",
   "metadata": {
    "collapsed": false
   },
   "source": [
    "def havsin(lon1, lat1, lon2, lat2):\n",
    "    \"\"\"\n",
    "    Calculate the great circle distance between two points \n",
    "    on the earth (specified in decimal degrees)\n",
    "    \"\"\"\n",
    "    # convert decimal degrees to radians \n",
    "    lat1/= np.pi/180.\n",
    "    lon1/= np.pi/180.\n",
    "    lat2/= np.pi/180.\n",
    "    lon2= np.pi/180.\n",
    "\n",
    "    # haversine formula \n",
    "    dlon = lon2 - lon1 \n",
    "    dlat = lat2 - lat1 \n",
    "    a = np.sin(dlat/2)**2 + np.cos(lat1) * np.cos(lat2) * np.sin(dlon/2)**2\n",
    "    c = 2 * np.arcsin(np.sqrt(a)) \n",
    "    r = 6371 # Radius of earth in kilometers. Use 3956 for miles\n",
    "    return c * r"
   ]
  },
  {
   "cell_type": "code",
   "execution_count": 220,
   "metadata": {
    "collapsed": false
   },
   "outputs": [],
   "source": [
    "X=np.insert([north_pole],1,all_trips[all_trips['TripId']==0][['Latitude','Longitude']].values,axis=0)\n",
    "X=np.insert([north_pole],-1,X,axis=0)"
   ]
  },
  {
   "cell_type": "code",
   "execution_count": 221,
   "metadata": {
    "collapsed": false
   },
   "outputs": [],
   "source": [
    "t=np.random.randint(0,5000)\n",
    "X=np.insert([north_pole],1,all_trips[all_trips['TripId']==t][['Latitude','Longitude']].values,axis=0)\n",
    "X=np.insert([north_pole],-1,X,axis=0)\n",
    "lat,lon=X[:,0],X[:,1]\n",
    "w=np.append(sleigh_weight,all_trips[all_trips['TripId']==t][['Weight']].values)\n",
    "res1=(np.cumsum(w)*havsin(lat[:-1],lon[:-1],lat[1:],lon[1:])).sum()"
   ]
  },
  {
   "cell_type": "code",
   "execution_count": 222,
   "metadata": {
    "collapsed": false
   },
   "outputs": [],
   "source": [
    "def weighted_trip_length2(trip):\n",
    "    north_pole=[90.,0.]\n",
    "    X=np.insert([north_pole],1,trip[['Latitude','Longitude']].values,axis=0)\n",
    "    X=np.insert([north_pole],-1,X,axis=0)\n",
    "    lat,lon=X[:,0],X[:,1]\n",
    "    w=np.append(sleigh_weight,trip[['Weight']].values)\n",
    "    return (np.cumsum(w)*havsin(lat[:-1],lon[:-1],lat[1:],lon[1:])).sum()"
   ]
  },
  {
   "cell_type": "code",
   "execution_count": 229,
   "metadata": {
    "collapsed": false
   },
   "outputs": [],
   "source": [
    "t=np.random.randint(0,400)\n",
    "this_trip = all_trips[all_trips.TripId==t]\n",
    "#res2=weighted_trip_length(this_trip[['Latitude','Longitude']], this_trip.Weight.tolist())"
   ]
  },
  {
   "cell_type": "code",
   "execution_count": 230,
   "metadata": {
    "collapsed": false
   },
   "outputs": [
    {
     "name": "stdout",
     "output_type": "stream",
     "text": [
      "1000 loops, best of 3: 492 µs per loop\n"
     ]
    }
   ],
   "source": [
    "%timeit weighted_trip_length(this_trip[['Latitude','Longitude']], this_trip.Weight.tolist())"
   ]
  },
  {
   "cell_type": "code",
   "execution_count": 231,
   "metadata": {
    "collapsed": false
   },
   "outputs": [
    {
     "name": "stdout",
     "output_type": "stream",
     "text": [
      "1000 loops, best of 3: 870 µs per loop\n"
     ]
    }
   ],
   "source": [
    "%timeit weighted_trip_length2(this_trip)"
   ]
  },
  {
   "cell_type": "code",
   "execution_count": null,
   "metadata": {
    "collapsed": true
   },
   "outputs": [],
   "source": []
  },
  {
   "cell_type": "code",
   "execution_count": null,
   "metadata": {
    "collapsed": true
   },
   "outputs": [],
   "source": []
  },
  {
   "cell_type": "markdown",
   "metadata": {},
   "source": [
    "# Read the Initial Data"
   ]
  },
  {
   "cell_type": "code",
   "execution_count": 4,
   "metadata": {
    "collapsed": false
   },
   "outputs": [],
   "source": [
    "gifts = pd.read_csv('gifts.csv')\n",
    "sample_sub = pd.read_csv('sample_submission.csv')\n",
    "\n",
    "all_trips = sample_sub.merge(gifts, on='GiftId')"
   ]
  },
  {
   "cell_type": "code",
   "execution_count": 5,
   "metadata": {
    "collapsed": true
   },
   "outputs": [],
   "source": [
    "naive_score=weighted_reindeer_weariness(all_trips)"
   ]
  },
  {
   "cell_type": "code",
   "execution_count": 6,
   "metadata": {
    "collapsed": false
   },
   "outputs": [
    {
     "name": "stdout",
     "output_type": "stream",
     "text": [
      "144525525772.0 12395765387.8785\n"
     ]
    }
   ],
   "source": [
    "best_score=12395765387.87850\n",
    "print(naive_score,best_score)"
   ]
  },
  {
   "cell_type": "markdown",
   "metadata": {},
   "source": [
    "# Initializiaton: Setup stops, Check for Validity"
   ]
  },
  {
   "cell_type": "code",
   "execution_count": 233,
   "metadata": {
    "collapsed": false
   },
   "outputs": [],
   "source": [
    "# Add lots of 'north pole' stops, concatenate them to the original gifts data frame\n",
    "def initialize(frac):\n",
    "    notValid=True\n",
    "    while (notValid):\n",
    "        seed1=np.insert(north_pole,0,-1)\n",
    "        seed1=np.insert(seed1,3,0.)\n",
    "        s=pd.DataFrame(seed1,index=gifts.columns.values).T\n",
    "        s.head()\n",
    "        s=pd.DataFrame(seed1,index=gifts.columns.values).T\n",
    "        for i in np.arange(np.log(len(gifts)*frac)/np.log(2.)):\n",
    "            s=pd.concat([s,s])\n",
    "        print(len(s))\n",
    "    \n",
    "        dfc=pd.concat([gifts,s])\n",
    "        dfc.head()\n",
    "        \n",
    "        # Now randomly distribute the stops\n",
    "        dfc=dfc.iloc[np.random.permutation(len(dfc))]\n",
    "        dfc.head()\n",
    "    \n",
    "        stops=np.where(dfc['GiftId']==-1)[0]\n",
    "        \n",
    "        dfc['tripW']=np.zeros(len(dfc))\n",
    "        dfc['TripId']=np.zeros(len(dfc))\n",
    "\n",
    "        ###### CHECK IF A VALID SET OF STOPS\n",
    "        cumWeights=[]\n",
    "    \n",
    "        np.insert(stops,0,0)\n",
    "        np.insert(stops,len(stops),len(dfc)+1)\n",
    "    \n",
    "        tripWeight=np.sum(dfc['Weight'].values[:stops[0]])\n",
    "        cumWeights.append(tripWeight)\n",
    "        dfc['tripW'].values[:stops[0]]=tripWeight\n",
    "        dfc['TripId'].values[:stops[0]]=0\n",
    "        \n",
    "        for i in np.arange(len(stops)-1):\n",
    "    #    print(i)\n",
    "            tripWeight=np.sum(dfc['Weight'].values[stops[i]:stops[i+1]])\n",
    "            cumWeights.append(tripWeight)\n",
    "            dfc['tripW'].values[stops[i]:stops[i+1]]=tripWeight\n",
    "            dfc['TripId'].values[stops[i]:stops[i+1]]=i\n",
    "        \n",
    "        tripWeight=np.sum(dfc['Weight'].values[stops[-1]:])\n",
    "        cumWeights.append(tripWeight)\n",
    "        dfc['tripW'].values[stops[-1]:]=tripWeight\n",
    "        dfc['TripId'].values[stops[-1]:]=i+1\n",
    "\n",
    "        cumWeights=np.array(cumWeights)\n",
    "        \n",
    "        if np.any(dfc['tripW'].values > 1000.-10.):\n",
    "            print('Too much weight in the sleigh!')\n",
    "            frac*=1.01\n",
    "        else:\n",
    "            print('legal set of stops')\n",
    "            notValid=False\n",
    "    if np.any(np.isnan(dfc)):\n",
    "        print('WARNING THERE ARE NAN TRIP IDS')\n",
    "    #print('calculating initial score fraction...relative to Naive')\n",
    "    return dfc\n",
    "   \n"
   ]
  },
  {
   "cell_type": "markdown",
   "metadata": {},
   "source": [
    "# Two Opt Code: Swap two stops, see if valid and check for improvement"
   ]
  },
  {
   "cell_type": "code",
   "execution_count": 8,
   "metadata": {
    "collapsed": false
   },
   "outputs": [],
   "source": [
    "def swap2(i,j,dfc):\n",
    "    for attr in ['GiftId','Latitude','Longitude','Weight']:\n",
    "        tmpi=dfc.iloc[i][attr]\n",
    "        tmpj=dfc.iloc[j][attr]\n",
    "        dfc.iloc[i][attr]=tmpj\n",
    "        dfc.iloc[j][attr]=tmpi"
   ]
  },
  {
   "cell_type": "code",
   "execution_count": 9,
   "metadata": {
    "collapsed": true
   },
   "outputs": [],
   "source": [
    "def propose_swap(dfc,Temp,lbound,hbound):\n",
    "    \"\"\"\n",
    "    Propose a random Swap of two cities in the traveling salesmen problem\n",
    "    \"\"\"\n",
    "    i1,i2=np.random.randint(lbound,high=hbound,size=2)\n",
    "    trip0ID=dfc.iloc[i1]['TripId']\n",
    "    trip1ID=dfc.iloc[i2]['TripId']\n",
    "    trip0=dfc[dfc['TripId']==trip0ID]\n",
    "    trip1=dfc[dfc['TripId']==trip1ID]\n",
    "\n",
    "    dist1=weighted_trip_length(trip0[['Latitude','Longitude']], trip0.Weight.tolist())+weighted_trip_length(trip1[['Latitude','Longitude']], trip1.Weight.tolist())\n",
    "    \n",
    "    swap2(i1,i2,dfc)\n",
    "    trip0ID=dfc.iloc[i1]['TripId']\n",
    "    trip1ID=dfc.iloc[i2]['TripId']\n",
    "    trip0=dfc[dfc['TripId']==trip0ID]\n",
    "    trip1=dfc[dfc['TripId']==trip1ID]\n",
    "\n",
    "    dist2=weighted_trip_length(trip0[['Latitude','Longitude']], trip0.Weight.tolist())+weighted_trip_length(trip1[['Latitude','Longitude']], trip1.Weight.tolist())\n",
    "\n",
    "    if (dist2 < dist1):\n",
    "#        print('accepted')\n",
    "#        print(dist2-dist1)\n",
    "        return (dist2 - dist1)\n",
    "    else:\n",
    "        prob=np.exp((dist1-dist2)/Temp)\n",
    "        sample=np.random.rand()\n",
    "        # Accept Swap with probability exp(-deltaD/T)\n",
    "        if (sample < prob):\n",
    "#            print('accepted with probability :',prob)\n",
    "#            print(dist2-dist1)\n",
    "            return (dist2 - dist1)\n",
    "        else:\n",
    "#            print('rejected with probability :',1.-prob)\n",
    "            swap2(i1,i2,dfc)\n",
    "            return 0.\n",
    "    # should never get here\n",
    "    return (dist2 - dist1)"
   ]
  },
  {
   "cell_type": "code",
   "execution_count": 10,
   "metadata": {
    "collapsed": true
   },
   "outputs": [],
   "source": [
    "def running_mean(x,N):\n",
    "    return np.convolve(x, np.ones((N,))/N, mode='valid')"
   ]
  },
  {
   "cell_type": "markdown",
   "metadata": {},
   "source": [
    "# The Burn In Process"
   ]
  },
  {
   "cell_type": "code",
   "execution_count": 235,
   "metadata": {
    "collapsed": false
   },
   "outputs": [
    {
     "name": "stdout",
     "output_type": "stream",
     "text": [
      "2048\n",
      "Too much weight in the sleigh!\n",
      "2048\n",
      "Too much weight in the sleigh!\n",
      "2048\n",
      "Too much weight in the sleigh!\n",
      "4096\n",
      "Too much weight in the sleigh!\n",
      "4096\n",
      "Too much weight in the sleigh!\n",
      "4096\n",
      "Too much weight in the sleigh!\n",
      "4096\n",
      "Too much weight in the sleigh!\n",
      "4096\n",
      "Too much weight in the sleigh!\n",
      "4096\n",
      "Too much weight in the sleigh!\n",
      "4096\n",
      "Too much weight in the sleigh!\n",
      "4096\n",
      "Too much weight in the sleigh!\n",
      "4096\n",
      "Too much weight in the sleigh!\n",
      "4096\n",
      "Too much weight in the sleigh!\n",
      "4096\n",
      "Too much weight in the sleigh!\n",
      "4096\n",
      "Too much weight in the sleigh!\n",
      "4096\n",
      "Too much weight in the sleigh!\n",
      "4096\n",
      "Too much weight in the sleigh!\n",
      "4096\n",
      "Too much weight in the sleigh!\n",
      "4096\n",
      "Too much weight in the sleigh!\n",
      "4096\n",
      "Too much weight in the sleigh!\n",
      "4096\n",
      "Too much weight in the sleigh!\n",
      "4096\n",
      "Too much weight in the sleigh!\n",
      "4096\n",
      "Too much weight in the sleigh!\n",
      "4096\n",
      "Too much weight in the sleigh!\n",
      "4096\n",
      "Too much weight in the sleigh!\n",
      "4096\n",
      "Too much weight in the sleigh!\n",
      "4096\n",
      "Too much weight in the sleigh!\n",
      "4096\n",
      "Too much weight in the sleigh!\n",
      "4096\n",
      "Too much weight in the sleigh!\n",
      "4096\n",
      "Too much weight in the sleigh!\n",
      "4096\n",
      "Too much weight in the sleigh!\n",
      "4096\n",
      "Too much weight in the sleigh!\n",
      "4096\n",
      "Too much weight in the sleigh!\n",
      "4096\n",
      "Too much weight in the sleigh!\n",
      "4096\n",
      "Too much weight in the sleigh!\n",
      "4096\n",
      "Too much weight in the sleigh!\n",
      "4096\n",
      "Too much weight in the sleigh!\n",
      "4096\n",
      "Too much weight in the sleigh!\n",
      "4096\n",
      "Too much weight in the sleigh!\n",
      "4096\n",
      "Too much weight in the sleigh!\n",
      "4096\n",
      "Too much weight in the sleigh!\n",
      "4096\n",
      "Too much weight in the sleigh!\n",
      "4096\n",
      "Too much weight in the sleigh!\n",
      "4096\n",
      "Too much weight in the sleigh!\n",
      "4096\n",
      "Too much weight in the sleigh!\n",
      "4096\n",
      "Too much weight in the sleigh!\n",
      "4096\n",
      "Too much weight in the sleigh!\n",
      "4096\n",
      "Too much weight in the sleigh!\n",
      "4096\n",
      "Too much weight in the sleigh!\n",
      "4096\n",
      "Too much weight in the sleigh!\n",
      "4096\n",
      "Too much weight in the sleigh!\n",
      "4096\n",
      "Too much weight in the sleigh!\n",
      "4096\n",
      "Too much weight in the sleigh!\n",
      "4096\n",
      "Too much weight in the sleigh!\n",
      "4096\n",
      "Too much weight in the sleigh!\n",
      "4096\n",
      "Too much weight in the sleigh!\n",
      "4096\n",
      "Too much weight in the sleigh!\n",
      "4096\n",
      "Too much weight in the sleigh!\n",
      "4096\n",
      "Too much weight in the sleigh!\n",
      "4096\n",
      "Too much weight in the sleigh!\n",
      "4096\n",
      "Too much weight in the sleigh!\n",
      "4096\n",
      "Too much weight in the sleigh!\n",
      "4096\n",
      "Too much weight in the sleigh!\n",
      "4096\n",
      "Too much weight in the sleigh!\n",
      "4096\n",
      "Too much weight in the sleigh!\n",
      "4096\n",
      "Too much weight in the sleigh!\n",
      "4096\n",
      "Too much weight in the sleigh!\n",
      "4096\n",
      "Too much weight in the sleigh!\n",
      "4096\n",
      "Too much weight in the sleigh!\n",
      "4096\n",
      "Too much weight in the sleigh!\n",
      "4096\n",
      "Too much weight in the sleigh!\n",
      "4096\n",
      "Too much weight in the sleigh!\n",
      "4096\n",
      "Too much weight in the sleigh!\n",
      "8192\n",
      "Too much weight in the sleigh!\n",
      "8192\n",
      "Too much weight in the sleigh!\n",
      "8192\n",
      "Too much weight in the sleigh!\n",
      "8192\n",
      "Too much weight in the sleigh!\n",
      "8192\n",
      "Too much weight in the sleigh!\n",
      "8192\n",
      "Too much weight in the sleigh!\n",
      "8192\n",
      "Too much weight in the sleigh!\n",
      "8192\n",
      "Too much weight in the sleigh!\n",
      "8192\n",
      "Too much weight in the sleigh!\n",
      "8192\n",
      "Too much weight in the sleigh!\n",
      "8192\n",
      "Too much weight in the sleigh!\n",
      "8192\n",
      "Too much weight in the sleigh!\n",
      "8192\n",
      "Too much weight in the sleigh!\n",
      "8192\n",
      "Too much weight in the sleigh!\n",
      "8192\n",
      "Too much weight in the sleigh!\n",
      "8192\n",
      "Too much weight in the sleigh!\n",
      "8192\n",
      "Too much weight in the sleigh!\n",
      "8192\n",
      "Too much weight in the sleigh!\n",
      "8192\n",
      "Too much weight in the sleigh!\n",
      "8192\n",
      "Too much weight in the sleigh!\n",
      "8192\n",
      "Too much weight in the sleigh!\n",
      "8192\n",
      "Too much weight in the sleigh!\n",
      "8192\n",
      "Too much weight in the sleigh!\n",
      "8192\n",
      "Too much weight in the sleigh!\n",
      "8192\n",
      "Too much weight in the sleigh!\n",
      "8192\n",
      "Too much weight in the sleigh!\n",
      "8192\n",
      "Too much weight in the sleigh!\n",
      "8192\n",
      "Too much weight in the sleigh!\n",
      "8192\n",
      "Too much weight in the sleigh!\n",
      "8192\n",
      "Too much weight in the sleigh!\n",
      "8192\n",
      "Too much weight in the sleigh!\n",
      "8192\n",
      "Too much weight in the sleigh!\n",
      "8192\n",
      "Too much weight in the sleigh!\n",
      "8192\n",
      "Too much weight in the sleigh!\n",
      "8192\n",
      "Too much weight in the sleigh!\n",
      "8192\n",
      "Too much weight in the sleigh!\n",
      "8192\n",
      "Too much weight in the sleigh!\n",
      "8192\n",
      "Too much weight in the sleigh!\n",
      "8192\n",
      "Too much weight in the sleigh!\n",
      "8192\n",
      "Too much weight in the sleigh!\n",
      "8192\n",
      "Too much weight in the sleigh!\n",
      "8192\n",
      "Too much weight in the sleigh!\n",
      "8192\n",
      "Too much weight in the sleigh!\n",
      "8192\n",
      "Too much weight in the sleigh!\n",
      "8192\n",
      "Too much weight in the sleigh!\n",
      "8192\n",
      "Too much weight in the sleigh!\n",
      "8192\n",
      "Too much weight in the sleigh!\n",
      "8192\n",
      "Too much weight in the sleigh!\n",
      "8192\n",
      "Too much weight in the sleigh!\n",
      "8192\n",
      "Too much weight in the sleigh!\n",
      "8192\n",
      "Too much weight in the sleigh!\n",
      "8192\n",
      "Too much weight in the sleigh!\n",
      "8192\n",
      "Too much weight in the sleigh!\n",
      "8192\n",
      "Too much weight in the sleigh!\n",
      "8192\n",
      "Too much weight in the sleigh!\n",
      "8192\n",
      "Too much weight in the sleigh!\n",
      "8192\n",
      "Too much weight in the sleigh!\n",
      "8192\n",
      "Too much weight in the sleigh!\n",
      "8192\n",
      "Too much weight in the sleigh!\n",
      "8192\n",
      "Too much weight in the sleigh!\n",
      "8192\n",
      "Too much weight in the sleigh!\n",
      "8192\n",
      "Too much weight in the sleigh!\n",
      "8192\n",
      "Too much weight in the sleigh!\n",
      "8192\n",
      "Too much weight in the sleigh!\n",
      "8192\n",
      "Too much weight in the sleigh!\n",
      "8192\n",
      "Too much weight in the sleigh!\n",
      "8192\n",
      "Too much weight in the sleigh!\n",
      "8192\n",
      "Too much weight in the sleigh!\n",
      "8192\n",
      "Too much weight in the sleigh!\n",
      "16384\n",
      "legal set of stops\n"
     ]
    },
    {
     "data": {
      "text/plain": [
       "8.0906658690160516"
      ]
     },
     "execution_count": 235,
     "metadata": {},
     "output_type": "execute_result"
    }
   ],
   "source": [
    "df0=initialize(0.02)\n",
    "weighted_reindeer_weariness(df0[all_trips.columns])/best_score"
   ]
  },
  {
   "cell_type": "code",
   "execution_count": 12,
   "metadata": {
    "collapsed": false
   },
   "outputs": [],
   "source": [
    "def burn_in(T,m,df,lbound,hbound):\n",
    "    c=[]\n",
    "    for i in np.arange(m):\n",
    "        delta=propose_swap(df,Temp,lbound,hbound)\n",
    "        c.append(delta)\n",
    "    return np.array(c)"
   ]
  },
  {
   "cell_type": "code",
   "execution_count": null,
   "metadata": {
    "collapsed": true
   },
   "outputs": [],
   "source": [
    "count=0\n",
    "Temp=10**5.5\n",
    "var=100."
   ]
  },
  {
   "cell_type": "code",
   "execution_count": 70,
   "metadata": {
    "collapsed": false
   },
   "outputs": [
    {
     "name": "stdout",
     "output_type": "stream",
     "text": [
      "log(T): 4.15048673886 var: 5.01\n"
     ]
    },
    {
     "ename": "KeyboardInterrupt",
     "evalue": "",
     "output_type": "error",
     "traceback": [
      "\u001b[0;31m---------------------------------------------------------------------------\u001b[0m",
      "\u001b[0;31mKeyboardInterrupt\u001b[0m                         Traceback (most recent call last)",
      "\u001b[0;32m<ipython-input-70-4d8476306160>\u001b[0m in \u001b[0;36m<module>\u001b[0;34m()\u001b[0m\n\u001b[1;32m      4\u001b[0m \u001b[0;32mfor\u001b[0m \u001b[0mn\u001b[0m \u001b[0;32min\u001b[0m \u001b[0mnp\u001b[0m\u001b[0;34m.\u001b[0m\u001b[0marange\u001b[0m\u001b[0;34m(\u001b[0m\u001b[0;36m100\u001b[0m\u001b[0;34m)\u001b[0m\u001b[0;34m:\u001b[0m\u001b[0;34m\u001b[0m\u001b[0m\n\u001b[1;32m      5\u001b[0m     \u001b[0mm0\u001b[0m\u001b[0;34m=\u001b[0m\u001b[0mint\u001b[0m\u001b[0;34m(\u001b[0m\u001b[0mnp\u001b[0m\u001b[0;34m.\u001b[0m\u001b[0mamax\u001b[0m\u001b[0;34m(\u001b[0m\u001b[0;34m[\u001b[0m\u001b[0mvar\u001b[0m\u001b[0;34m,\u001b[0m\u001b[0;36m1.\u001b[0m\u001b[0;34m]\u001b[0m\u001b[0;34m)\u001b[0m\u001b[0;34m**\u001b[0m\u001b[0;36m2.5\u001b[0m\u001b[0;34m*\u001b[0m\u001b[0;36m400\u001b[0m\u001b[0;34m)\u001b[0m\u001b[0;34m\u001b[0m\u001b[0m\n\u001b[0;32m----> 6\u001b[0;31m     \u001b[0mmu\u001b[0m\u001b[0;34m=\u001b[0m\u001b[0mburn_in\u001b[0m\u001b[0;34m(\u001b[0m\u001b[0mTemp\u001b[0m\u001b[0;34m,\u001b[0m\u001b[0mm0\u001b[0m\u001b[0;34m,\u001b[0m\u001b[0mdf0\u001b[0m\u001b[0;34m,\u001b[0m\u001b[0;36m0\u001b[0m\u001b[0;34m,\u001b[0m\u001b[0mlen\u001b[0m\u001b[0;34m(\u001b[0m\u001b[0mdf0\u001b[0m\u001b[0;34m)\u001b[0m\u001b[0;34m)\u001b[0m\u001b[0;34m\u001b[0m\u001b[0m\n\u001b[0m\u001b[1;32m      7\u001b[0m     \u001b[0mvar\u001b[0m\u001b[0;34m=\u001b[0m\u001b[0mnp\u001b[0m\u001b[0;34m.\u001b[0m\u001b[0mstd\u001b[0m\u001b[0;34m(\u001b[0m\u001b[0mmu\u001b[0m\u001b[0;34m/\u001b[0m\u001b[0mTemp\u001b[0m\u001b[0;34m)\u001b[0m\u001b[0;34m\u001b[0m\u001b[0m\n\u001b[1;32m      8\u001b[0m     \u001b[0mprint\u001b[0m\u001b[0;34m(\u001b[0m\u001b[0;34m'        equilibriation('\u001b[0m\u001b[0;34m+\u001b[0m\u001b[0mstr\u001b[0m\u001b[0;34m(\u001b[0m\u001b[0mcount\u001b[0m\u001b[0;34m)\u001b[0m\u001b[0;34m+\u001b[0m\u001b[0;34m')  var: '\u001b[0m\u001b[0;34m+\u001b[0m\u001b[0mstr\u001b[0m\u001b[0;34m(\u001b[0m\u001b[0mvar\u001b[0m\u001b[0;34m)\u001b[0m\u001b[0;34m)\u001b[0m\u001b[0;34m\u001b[0m\u001b[0m\n",
      "\u001b[0;32m<ipython-input-12-2eb7545fb928>\u001b[0m in \u001b[0;36mburn_in\u001b[0;34m(T, m, df, lbound, hbound)\u001b[0m\n\u001b[1;32m      2\u001b[0m     \u001b[0mc\u001b[0m\u001b[0;34m=\u001b[0m\u001b[0;34m[\u001b[0m\u001b[0;34m]\u001b[0m\u001b[0;34m\u001b[0m\u001b[0m\n\u001b[1;32m      3\u001b[0m     \u001b[0;32mfor\u001b[0m \u001b[0mi\u001b[0m \u001b[0;32min\u001b[0m \u001b[0mnp\u001b[0m\u001b[0;34m.\u001b[0m\u001b[0marange\u001b[0m\u001b[0;34m(\u001b[0m\u001b[0mm\u001b[0m\u001b[0;34m)\u001b[0m\u001b[0;34m:\u001b[0m\u001b[0;34m\u001b[0m\u001b[0m\n\u001b[0;32m----> 4\u001b[0;31m         \u001b[0mdelta\u001b[0m\u001b[0;34m=\u001b[0m\u001b[0mpropose_swap\u001b[0m\u001b[0;34m(\u001b[0m\u001b[0mdf\u001b[0m\u001b[0;34m,\u001b[0m\u001b[0mTemp\u001b[0m\u001b[0;34m,\u001b[0m\u001b[0mlbound\u001b[0m\u001b[0;34m,\u001b[0m\u001b[0mhbound\u001b[0m\u001b[0;34m)\u001b[0m\u001b[0;34m\u001b[0m\u001b[0m\n\u001b[0m\u001b[1;32m      5\u001b[0m         \u001b[0mc\u001b[0m\u001b[0;34m.\u001b[0m\u001b[0mappend\u001b[0m\u001b[0;34m(\u001b[0m\u001b[0mdelta\u001b[0m\u001b[0;34m)\u001b[0m\u001b[0;34m\u001b[0m\u001b[0m\n\u001b[1;32m      6\u001b[0m     \u001b[0;32mreturn\u001b[0m \u001b[0mnp\u001b[0m\u001b[0;34m.\u001b[0m\u001b[0marray\u001b[0m\u001b[0;34m(\u001b[0m\u001b[0mc\u001b[0m\u001b[0;34m)\u001b[0m\u001b[0;34m\u001b[0m\u001b[0m\n",
      "\u001b[0;32m<ipython-input-9-2d525e0f4290>\u001b[0m in \u001b[0;36mpropose_swap\u001b[0;34m(dfc, Temp, lbound, hbound)\u001b[0m\n\u001b[1;32m     33\u001b[0m         \u001b[0;32melse\u001b[0m\u001b[0;34m:\u001b[0m\u001b[0;34m\u001b[0m\u001b[0m\n\u001b[1;32m     34\u001b[0m \u001b[0;31m#            print('rejected with probability :',1.-prob)\u001b[0m\u001b[0;34m\u001b[0m\u001b[0;34m\u001b[0m\u001b[0m\n\u001b[0;32m---> 35\u001b[0;31m             \u001b[0mswap2\u001b[0m\u001b[0;34m(\u001b[0m\u001b[0mi1\u001b[0m\u001b[0;34m,\u001b[0m\u001b[0mi2\u001b[0m\u001b[0;34m,\u001b[0m\u001b[0mdfc\u001b[0m\u001b[0;34m)\u001b[0m\u001b[0;34m\u001b[0m\u001b[0m\n\u001b[0m\u001b[1;32m     36\u001b[0m             \u001b[0;32mreturn\u001b[0m \u001b[0;36m0.\u001b[0m\u001b[0;34m\u001b[0m\u001b[0m\n\u001b[1;32m     37\u001b[0m     \u001b[0;31m# should never get here\u001b[0m\u001b[0;34m\u001b[0m\u001b[0;34m\u001b[0m\u001b[0m\n",
      "\u001b[0;32m<ipython-input-8-c681ac143df4>\u001b[0m in \u001b[0;36mswap2\u001b[0;34m(i, j, dfc)\u001b[0m\n\u001b[1;32m      1\u001b[0m \u001b[0;32mdef\u001b[0m \u001b[0mswap2\u001b[0m\u001b[0;34m(\u001b[0m\u001b[0mi\u001b[0m\u001b[0;34m,\u001b[0m\u001b[0mj\u001b[0m\u001b[0;34m,\u001b[0m\u001b[0mdfc\u001b[0m\u001b[0;34m)\u001b[0m\u001b[0;34m:\u001b[0m\u001b[0;34m\u001b[0m\u001b[0m\n\u001b[1;32m      2\u001b[0m     \u001b[0;32mfor\u001b[0m \u001b[0mattr\u001b[0m \u001b[0;32min\u001b[0m \u001b[0;34m[\u001b[0m\u001b[0;34m'GiftId'\u001b[0m\u001b[0;34m,\u001b[0m\u001b[0;34m'Latitude'\u001b[0m\u001b[0;34m,\u001b[0m\u001b[0;34m'Longitude'\u001b[0m\u001b[0;34m,\u001b[0m\u001b[0;34m'Weight'\u001b[0m\u001b[0;34m]\u001b[0m\u001b[0;34m:\u001b[0m\u001b[0;34m\u001b[0m\u001b[0m\n\u001b[0;32m----> 3\u001b[0;31m         \u001b[0mtmpi\u001b[0m\u001b[0;34m=\u001b[0m\u001b[0mdfc\u001b[0m\u001b[0;34m.\u001b[0m\u001b[0miloc\u001b[0m\u001b[0;34m[\u001b[0m\u001b[0mi\u001b[0m\u001b[0;34m]\u001b[0m\u001b[0;34m[\u001b[0m\u001b[0mattr\u001b[0m\u001b[0;34m]\u001b[0m\u001b[0;34m\u001b[0m\u001b[0m\n\u001b[0m\u001b[1;32m      4\u001b[0m         \u001b[0mtmpj\u001b[0m\u001b[0;34m=\u001b[0m\u001b[0mdfc\u001b[0m\u001b[0;34m.\u001b[0m\u001b[0miloc\u001b[0m\u001b[0;34m[\u001b[0m\u001b[0mj\u001b[0m\u001b[0;34m]\u001b[0m\u001b[0;34m[\u001b[0m\u001b[0mattr\u001b[0m\u001b[0;34m]\u001b[0m\u001b[0;34m\u001b[0m\u001b[0m\n\u001b[1;32m      5\u001b[0m         \u001b[0mdfc\u001b[0m\u001b[0;34m.\u001b[0m\u001b[0miloc\u001b[0m\u001b[0;34m[\u001b[0m\u001b[0mi\u001b[0m\u001b[0;34m]\u001b[0m\u001b[0;34m[\u001b[0m\u001b[0mattr\u001b[0m\u001b[0;34m]\u001b[0m\u001b[0;34m=\u001b[0m\u001b[0mtmpj\u001b[0m\u001b[0;34m\u001b[0m\u001b[0m\n",
      "\u001b[0;32m/Users/rspeare/anaconda/lib/python3.5/site-packages/pandas/core/indexing.py\u001b[0m in \u001b[0;36m__getitem__\u001b[0;34m(self, key)\u001b[0m\n\u001b[1;32m   1225\u001b[0m             \u001b[0;32mreturn\u001b[0m \u001b[0mself\u001b[0m\u001b[0;34m.\u001b[0m\u001b[0m_getitem_tuple\u001b[0m\u001b[0;34m(\u001b[0m\u001b[0mkey\u001b[0m\u001b[0;34m)\u001b[0m\u001b[0;34m\u001b[0m\u001b[0m\n\u001b[1;32m   1226\u001b[0m         \u001b[0;32melse\u001b[0m\u001b[0;34m:\u001b[0m\u001b[0;34m\u001b[0m\u001b[0m\n\u001b[0;32m-> 1227\u001b[0;31m             \u001b[0;32mreturn\u001b[0m \u001b[0mself\u001b[0m\u001b[0;34m.\u001b[0m\u001b[0m_getitem_axis\u001b[0m\u001b[0;34m(\u001b[0m\u001b[0mkey\u001b[0m\u001b[0;34m,\u001b[0m \u001b[0maxis\u001b[0m\u001b[0;34m=\u001b[0m\u001b[0;36m0\u001b[0m\u001b[0;34m)\u001b[0m\u001b[0;34m\u001b[0m\u001b[0m\n\u001b[0m\u001b[1;32m   1228\u001b[0m \u001b[0;34m\u001b[0m\u001b[0m\n\u001b[1;32m   1229\u001b[0m     \u001b[0;32mdef\u001b[0m \u001b[0m_getitem_axis\u001b[0m\u001b[0;34m(\u001b[0m\u001b[0mself\u001b[0m\u001b[0;34m,\u001b[0m \u001b[0mkey\u001b[0m\u001b[0;34m,\u001b[0m \u001b[0maxis\u001b[0m\u001b[0;34m=\u001b[0m\u001b[0;36m0\u001b[0m\u001b[0;34m)\u001b[0m\u001b[0;34m:\u001b[0m\u001b[0;34m\u001b[0m\u001b[0m\n",
      "\u001b[0;32m/Users/rspeare/anaconda/lib/python3.5/site-packages/pandas/core/indexing.py\u001b[0m in \u001b[0;36m_getitem_axis\u001b[0;34m(self, key, axis)\u001b[0m\n\u001b[1;32m   1508\u001b[0m \u001b[0;34m\u001b[0m\u001b[0m\n\u001b[1;32m   1509\u001b[0m             \u001b[0;32melse\u001b[0m\u001b[0;34m:\u001b[0m\u001b[0;34m\u001b[0m\u001b[0m\n\u001b[0;32m-> 1510\u001b[0;31m                 \u001b[0mkey\u001b[0m \u001b[0;34m=\u001b[0m \u001b[0mself\u001b[0m\u001b[0;34m.\u001b[0m\u001b[0m_convert_scalar_indexer\u001b[0m\u001b[0;34m(\u001b[0m\u001b[0mkey\u001b[0m\u001b[0;34m,\u001b[0m \u001b[0maxis\u001b[0m\u001b[0;34m)\u001b[0m\u001b[0;34m\u001b[0m\u001b[0m\n\u001b[0m\u001b[1;32m   1511\u001b[0m \u001b[0;34m\u001b[0m\u001b[0m\n\u001b[1;32m   1512\u001b[0m                 \u001b[0;32mif\u001b[0m \u001b[0;32mnot\u001b[0m \u001b[0mis_integer\u001b[0m\u001b[0;34m(\u001b[0m\u001b[0mkey\u001b[0m\u001b[0;34m)\u001b[0m\u001b[0;34m:\u001b[0m\u001b[0;34m\u001b[0m\u001b[0m\n",
      "\u001b[0;32m/Users/rspeare/anaconda/lib/python3.5/site-packages/pandas/core/indexing.py\u001b[0m in \u001b[0;36m_convert_scalar_indexer\u001b[0;34m(self, key, axis)\u001b[0m\n\u001b[1;32m    165\u001b[0m     \u001b[0;32mdef\u001b[0m \u001b[0m_convert_scalar_indexer\u001b[0m\u001b[0;34m(\u001b[0m\u001b[0mself\u001b[0m\u001b[0;34m,\u001b[0m \u001b[0mkey\u001b[0m\u001b[0;34m,\u001b[0m \u001b[0maxis\u001b[0m\u001b[0;34m)\u001b[0m\u001b[0;34m:\u001b[0m\u001b[0;34m\u001b[0m\u001b[0m\n\u001b[1;32m    166\u001b[0m         \u001b[0;31m# if we are accessing via lowered dim, use the last dim\u001b[0m\u001b[0;34m\u001b[0m\u001b[0;34m\u001b[0m\u001b[0m\n\u001b[0;32m--> 167\u001b[0;31m         \u001b[0max\u001b[0m \u001b[0;34m=\u001b[0m \u001b[0mself\u001b[0m\u001b[0;34m.\u001b[0m\u001b[0mobj\u001b[0m\u001b[0;34m.\u001b[0m\u001b[0m_get_axis\u001b[0m\u001b[0;34m(\u001b[0m\u001b[0mmin\u001b[0m\u001b[0;34m(\u001b[0m\u001b[0maxis\u001b[0m\u001b[0;34m,\u001b[0m \u001b[0mself\u001b[0m\u001b[0;34m.\u001b[0m\u001b[0mndim\u001b[0m \u001b[0;34m-\u001b[0m \u001b[0;36m1\u001b[0m\u001b[0;34m)\u001b[0m\u001b[0;34m)\u001b[0m\u001b[0;34m\u001b[0m\u001b[0m\n\u001b[0m\u001b[1;32m    168\u001b[0m         \u001b[0;31m# a scalar\u001b[0m\u001b[0;34m\u001b[0m\u001b[0;34m\u001b[0m\u001b[0m\n\u001b[1;32m    169\u001b[0m         \u001b[0;32mreturn\u001b[0m \u001b[0max\u001b[0m\u001b[0;34m.\u001b[0m\u001b[0m_convert_scalar_indexer\u001b[0m\u001b[0;34m(\u001b[0m\u001b[0mkey\u001b[0m\u001b[0;34m,\u001b[0m \u001b[0mkind\u001b[0m\u001b[0;34m=\u001b[0m\u001b[0mself\u001b[0m\u001b[0;34m.\u001b[0m\u001b[0mname\u001b[0m\u001b[0;34m)\u001b[0m\u001b[0;34m\u001b[0m\u001b[0m\n",
      "\u001b[0;31mKeyboardInterrupt\u001b[0m: "
     ]
    }
   ],
   "source": [
    "count=0\n",
    "var=5.01\n",
    "print('log(T): '+str(np.log(Temp)/np.log(10.))+' var: '+str(var))\n",
    "for n in np.arange(100):\n",
    "    m0=int(np.amax([var,1.])**2.5*400)\n",
    "    mu=burn_in(Temp,m0,df0,0,len(df0))\n",
    "    var=np.std(mu/Temp)\n",
    "    print('        equilibriation('+str(count)+')  var: '+str(var))\n",
    "    score2=weighted_reindeer_weariness(df0[all_trips.columns])\n",
    "    print(score2)\n",
    "    if (var < 5.):\n",
    "        Temp*=.9\n",
    "        print('log(T): '+str(np.log(Temp)/np.log(10.))+' var: '+str(var))\n",
    "        count=0\n",
    "    else:\n",
    "        count+=m0\n",
    "#    plt.plot(mu/Temp)\n",
    "#score2=weighted_reindeer_weariness(df0[all_trips.columns])\n",
    "#print(score2/best_score)\n",
    "plt.plot(mu/Temp)\n",
    "#print(np.mean(mu/Temp),np.std(mu/Temp))\n",
    "plt.show()"
   ]
  },
  {
   "cell_type": "code",
   "execution_count": 73,
   "metadata": {
    "collapsed": false
   },
   "outputs": [
    {
     "name": "stdout",
     "output_type": "stream",
     "text": [
      "16384\n",
      "legal set of stops\n"
     ]
    }
   ],
   "source": [
    "df1=initialize(0.1)"
   ]
  },
  {
   "cell_type": "code",
   "execution_count": 74,
   "metadata": {
    "collapsed": false
   },
   "outputs": [
    {
     "name": "stdout",
     "output_type": "stream",
     "text": [
      "log(T): 5.5 var: 5.01\n",
      "        equilibriation(0)  var: 4.17362294419\n",
      "86786308756.4\n",
      "log(T): 5.45424250944 var: 4.17362294419\n"
     ]
    },
    {
     "ename": "KeyboardInterrupt",
     "evalue": "",
     "output_type": "error",
     "traceback": [
      "\u001b[0;31m---------------------------------------------------------------------------\u001b[0m",
      "\u001b[0;31mAttributeError\u001b[0m                            Traceback (most recent call last)",
      "\u001b[0;32m/Users/rspeare/anaconda/lib/python3.5/site-packages/numpy/core/fromnumeric.py\u001b[0m in \u001b[0;36msum\u001b[0;34m(a, axis, dtype, out, keepdims)\u001b[0m\n\u001b[1;32m   1822\u001b[0m         \u001b[0;32mtry\u001b[0m\u001b[0;34m:\u001b[0m\u001b[0;34m\u001b[0m\u001b[0m\n\u001b[0;32m-> 1823\u001b[0;31m             \u001b[0msum\u001b[0m \u001b[0;34m=\u001b[0m \u001b[0ma\u001b[0m\u001b[0;34m.\u001b[0m\u001b[0msum\u001b[0m\u001b[0;34m\u001b[0m\u001b[0m\n\u001b[0m\u001b[1;32m   1824\u001b[0m         \u001b[0;32mexcept\u001b[0m \u001b[0mAttributeError\u001b[0m\u001b[0;34m:\u001b[0m\u001b[0;34m\u001b[0m\u001b[0m\n",
      "\u001b[0;31mAttributeError\u001b[0m: 'list' object has no attribute 'sum'",
      "\nDuring handling of the above exception, another exception occurred:\n",
      "\u001b[0;31mKeyboardInterrupt\u001b[0m                         Traceback (most recent call last)",
      "\u001b[0;32m<ipython-input-74-a118e8dad331>\u001b[0m in \u001b[0;36m<module>\u001b[0;34m()\u001b[0m\n\u001b[1;32m      5\u001b[0m \u001b[0;32mfor\u001b[0m \u001b[0mn\u001b[0m \u001b[0;32min\u001b[0m \u001b[0mnp\u001b[0m\u001b[0;34m.\u001b[0m\u001b[0marange\u001b[0m\u001b[0;34m(\u001b[0m\u001b[0;36m100\u001b[0m\u001b[0;34m)\u001b[0m\u001b[0;34m:\u001b[0m\u001b[0;34m\u001b[0m\u001b[0m\n\u001b[1;32m      6\u001b[0m     \u001b[0mm0\u001b[0m\u001b[0;34m=\u001b[0m\u001b[0mint\u001b[0m\u001b[0;34m(\u001b[0m\u001b[0mnp\u001b[0m\u001b[0;34m.\u001b[0m\u001b[0mamax\u001b[0m\u001b[0;34m(\u001b[0m\u001b[0;34m[\u001b[0m\u001b[0mvar\u001b[0m\u001b[0;34m,\u001b[0m\u001b[0;36m1.\u001b[0m\u001b[0;34m]\u001b[0m\u001b[0;34m)\u001b[0m\u001b[0;34m**\u001b[0m\u001b[0;36m2.5\u001b[0m\u001b[0;34m*\u001b[0m\u001b[0;36m400\u001b[0m\u001b[0;34m)\u001b[0m\u001b[0;34m\u001b[0m\u001b[0m\n\u001b[0;32m----> 7\u001b[0;31m     \u001b[0mmu\u001b[0m\u001b[0;34m=\u001b[0m\u001b[0mburn_in\u001b[0m\u001b[0;34m(\u001b[0m\u001b[0mTemp\u001b[0m\u001b[0;34m,\u001b[0m\u001b[0mm0\u001b[0m\u001b[0;34m,\u001b[0m\u001b[0mdf1\u001b[0m\u001b[0;34m,\u001b[0m\u001b[0;36m0\u001b[0m\u001b[0;34m,\u001b[0m\u001b[0mlen\u001b[0m\u001b[0;34m(\u001b[0m\u001b[0mdf1\u001b[0m\u001b[0;34m)\u001b[0m\u001b[0;34m)\u001b[0m\u001b[0;34m\u001b[0m\u001b[0m\n\u001b[0m\u001b[1;32m      8\u001b[0m     \u001b[0mvar\u001b[0m\u001b[0;34m=\u001b[0m\u001b[0mnp\u001b[0m\u001b[0;34m.\u001b[0m\u001b[0mstd\u001b[0m\u001b[0;34m(\u001b[0m\u001b[0mmu\u001b[0m\u001b[0;34m/\u001b[0m\u001b[0mTemp\u001b[0m\u001b[0;34m)\u001b[0m\u001b[0;34m\u001b[0m\u001b[0m\n\u001b[1;32m      9\u001b[0m     \u001b[0mprint\u001b[0m\u001b[0;34m(\u001b[0m\u001b[0;34m'        equilibriation('\u001b[0m\u001b[0;34m+\u001b[0m\u001b[0mstr\u001b[0m\u001b[0;34m(\u001b[0m\u001b[0mcount\u001b[0m\u001b[0;34m)\u001b[0m\u001b[0;34m+\u001b[0m\u001b[0;34m')  var: '\u001b[0m\u001b[0;34m+\u001b[0m\u001b[0mstr\u001b[0m\u001b[0;34m(\u001b[0m\u001b[0mvar\u001b[0m\u001b[0;34m)\u001b[0m\u001b[0;34m)\u001b[0m\u001b[0;34m\u001b[0m\u001b[0m\n",
      "\u001b[0;32m<ipython-input-12-2eb7545fb928>\u001b[0m in \u001b[0;36mburn_in\u001b[0;34m(T, m, df, lbound, hbound)\u001b[0m\n\u001b[1;32m      2\u001b[0m     \u001b[0mc\u001b[0m\u001b[0;34m=\u001b[0m\u001b[0;34m[\u001b[0m\u001b[0;34m]\u001b[0m\u001b[0;34m\u001b[0m\u001b[0m\n\u001b[1;32m      3\u001b[0m     \u001b[0;32mfor\u001b[0m \u001b[0mi\u001b[0m \u001b[0;32min\u001b[0m \u001b[0mnp\u001b[0m\u001b[0;34m.\u001b[0m\u001b[0marange\u001b[0m\u001b[0;34m(\u001b[0m\u001b[0mm\u001b[0m\u001b[0;34m)\u001b[0m\u001b[0;34m:\u001b[0m\u001b[0;34m\u001b[0m\u001b[0m\n\u001b[0;32m----> 4\u001b[0;31m         \u001b[0mdelta\u001b[0m\u001b[0;34m=\u001b[0m\u001b[0mpropose_swap\u001b[0m\u001b[0;34m(\u001b[0m\u001b[0mdf\u001b[0m\u001b[0;34m,\u001b[0m\u001b[0mTemp\u001b[0m\u001b[0;34m,\u001b[0m\u001b[0mlbound\u001b[0m\u001b[0;34m,\u001b[0m\u001b[0mhbound\u001b[0m\u001b[0;34m)\u001b[0m\u001b[0;34m\u001b[0m\u001b[0m\n\u001b[0m\u001b[1;32m      5\u001b[0m         \u001b[0mc\u001b[0m\u001b[0;34m.\u001b[0m\u001b[0mappend\u001b[0m\u001b[0;34m(\u001b[0m\u001b[0mdelta\u001b[0m\u001b[0;34m)\u001b[0m\u001b[0;34m\u001b[0m\u001b[0m\n\u001b[1;32m      6\u001b[0m     \u001b[0;32mreturn\u001b[0m \u001b[0mnp\u001b[0m\u001b[0;34m.\u001b[0m\u001b[0marray\u001b[0m\u001b[0;34m(\u001b[0m\u001b[0mc\u001b[0m\u001b[0;34m)\u001b[0m\u001b[0;34m\u001b[0m\u001b[0m\n",
      "\u001b[0;32m<ipython-input-9-2d525e0f4290>\u001b[0m in \u001b[0;36mpropose_swap\u001b[0;34m(dfc, Temp, lbound, hbound)\u001b[0m\n\u001b[1;32m      9\u001b[0m     \u001b[0mtrip1\u001b[0m\u001b[0;34m=\u001b[0m\u001b[0mdfc\u001b[0m\u001b[0;34m[\u001b[0m\u001b[0mdfc\u001b[0m\u001b[0;34m[\u001b[0m\u001b[0;34m'TripId'\u001b[0m\u001b[0;34m]\u001b[0m\u001b[0;34m==\u001b[0m\u001b[0mtrip1ID\u001b[0m\u001b[0;34m]\u001b[0m\u001b[0;34m\u001b[0m\u001b[0m\n\u001b[1;32m     10\u001b[0m \u001b[0;34m\u001b[0m\u001b[0m\n\u001b[0;32m---> 11\u001b[0;31m     \u001b[0mdist1\u001b[0m\u001b[0;34m=\u001b[0m\u001b[0mweighted_trip_length\u001b[0m\u001b[0;34m(\u001b[0m\u001b[0mtrip0\u001b[0m\u001b[0;34m[\u001b[0m\u001b[0;34m[\u001b[0m\u001b[0;34m'Latitude'\u001b[0m\u001b[0;34m,\u001b[0m\u001b[0;34m'Longitude'\u001b[0m\u001b[0;34m]\u001b[0m\u001b[0;34m]\u001b[0m\u001b[0;34m,\u001b[0m \u001b[0mtrip0\u001b[0m\u001b[0;34m.\u001b[0m\u001b[0mWeight\u001b[0m\u001b[0;34m.\u001b[0m\u001b[0mtolist\u001b[0m\u001b[0;34m(\u001b[0m\u001b[0;34m)\u001b[0m\u001b[0;34m)\u001b[0m\u001b[0;34m+\u001b[0m\u001b[0mweighted_trip_length\u001b[0m\u001b[0;34m(\u001b[0m\u001b[0mtrip1\u001b[0m\u001b[0;34m[\u001b[0m\u001b[0;34m[\u001b[0m\u001b[0;34m'Latitude'\u001b[0m\u001b[0;34m,\u001b[0m\u001b[0;34m'Longitude'\u001b[0m\u001b[0;34m]\u001b[0m\u001b[0;34m]\u001b[0m\u001b[0;34m,\u001b[0m \u001b[0mtrip1\u001b[0m\u001b[0;34m.\u001b[0m\u001b[0mWeight\u001b[0m\u001b[0;34m.\u001b[0m\u001b[0mtolist\u001b[0m\u001b[0;34m(\u001b[0m\u001b[0;34m)\u001b[0m\u001b[0;34m)\u001b[0m\u001b[0;34m\u001b[0m\u001b[0m\n\u001b[0m\u001b[1;32m     12\u001b[0m \u001b[0;34m\u001b[0m\u001b[0m\n\u001b[1;32m     13\u001b[0m     \u001b[0mswap2\u001b[0m\u001b[0;34m(\u001b[0m\u001b[0mi1\u001b[0m\u001b[0;34m,\u001b[0m\u001b[0mi2\u001b[0m\u001b[0;34m,\u001b[0m\u001b[0mdfc\u001b[0m\u001b[0;34m)\u001b[0m\u001b[0;34m\u001b[0m\u001b[0m\n",
      "\u001b[0;32m<ipython-input-3-64dea471874f>\u001b[0m in \u001b[0;36mweighted_trip_length\u001b[0;34m(stops, weights)\u001b[0m\n\u001b[1;32m     12\u001b[0m         \u001b[0mprev_stop\u001b[0m \u001b[0;34m=\u001b[0m \u001b[0mlocation\u001b[0m\u001b[0;34m\u001b[0m\u001b[0m\n\u001b[1;32m     13\u001b[0m         \u001b[0mprev_weight\u001b[0m \u001b[0;34m=\u001b[0m \u001b[0mprev_weight\u001b[0m \u001b[0;34m-\u001b[0m \u001b[0mweight\u001b[0m\u001b[0;34m\u001b[0m\u001b[0m\n\u001b[0;32m---> 14\u001b[0;31m     \u001b[0;32mif\u001b[0m \u001b[0;34m(\u001b[0m\u001b[0mnp\u001b[0m\u001b[0;34m.\u001b[0m\u001b[0msum\u001b[0m\u001b[0;34m(\u001b[0m\u001b[0mweights\u001b[0m\u001b[0;34m)\u001b[0m\u001b[0;34m>\u001b[0m \u001b[0mweight_limit\u001b[0m\u001b[0;34m)\u001b[0m\u001b[0;34m:\u001b[0m\u001b[0;34m\u001b[0m\u001b[0m\n\u001b[0m\u001b[1;32m     15\u001b[0m         \u001b[0;32mreturn\u001b[0m \u001b[0mnp\u001b[0m\u001b[0;34m.\u001b[0m\u001b[0minf\u001b[0m\u001b[0;34m\u001b[0m\u001b[0m\n\u001b[1;32m     16\u001b[0m     \u001b[0;32melse\u001b[0m\u001b[0;34m:\u001b[0m\u001b[0;34m\u001b[0m\u001b[0m\n",
      "\u001b[0;32m/Users/rspeare/anaconda/lib/python3.5/site-packages/numpy/core/fromnumeric.py\u001b[0m in \u001b[0;36msum\u001b[0;34m(a, axis, dtype, out, keepdims)\u001b[0m\n\u001b[1;32m   1824\u001b[0m         \u001b[0;32mexcept\u001b[0m \u001b[0mAttributeError\u001b[0m\u001b[0;34m:\u001b[0m\u001b[0;34m\u001b[0m\u001b[0m\n\u001b[1;32m   1825\u001b[0m             return _methods._sum(a, axis=axis, dtype=dtype,\n\u001b[0;32m-> 1826\u001b[0;31m                                  out=out, keepdims=keepdims)\n\u001b[0m\u001b[1;32m   1827\u001b[0m         \u001b[0;31m# NOTE: Dropping the keepdims parameters here...\u001b[0m\u001b[0;34m\u001b[0m\u001b[0;34m\u001b[0m\u001b[0m\n\u001b[1;32m   1828\u001b[0m         \u001b[0;32mreturn\u001b[0m \u001b[0msum\u001b[0m\u001b[0;34m(\u001b[0m\u001b[0maxis\u001b[0m\u001b[0;34m=\u001b[0m\u001b[0maxis\u001b[0m\u001b[0;34m,\u001b[0m \u001b[0mdtype\u001b[0m\u001b[0;34m=\u001b[0m\u001b[0mdtype\u001b[0m\u001b[0;34m,\u001b[0m \u001b[0mout\u001b[0m\u001b[0;34m=\u001b[0m\u001b[0mout\u001b[0m\u001b[0;34m)\u001b[0m\u001b[0;34m\u001b[0m\u001b[0m\n",
      "\u001b[0;32m/Users/rspeare/anaconda/lib/python3.5/site-packages/numpy/core/_methods.py\u001b[0m in \u001b[0;36m_sum\u001b[0;34m(a, axis, dtype, out, keepdims)\u001b[0m\n\u001b[1;32m     30\u001b[0m \u001b[0;34m\u001b[0m\u001b[0m\n\u001b[1;32m     31\u001b[0m \u001b[0;32mdef\u001b[0m \u001b[0m_sum\u001b[0m\u001b[0;34m(\u001b[0m\u001b[0ma\u001b[0m\u001b[0;34m,\u001b[0m \u001b[0maxis\u001b[0m\u001b[0;34m=\u001b[0m\u001b[0;32mNone\u001b[0m\u001b[0;34m,\u001b[0m \u001b[0mdtype\u001b[0m\u001b[0;34m=\u001b[0m\u001b[0;32mNone\u001b[0m\u001b[0;34m,\u001b[0m \u001b[0mout\u001b[0m\u001b[0;34m=\u001b[0m\u001b[0;32mNone\u001b[0m\u001b[0;34m,\u001b[0m \u001b[0mkeepdims\u001b[0m\u001b[0;34m=\u001b[0m\u001b[0;32mFalse\u001b[0m\u001b[0;34m)\u001b[0m\u001b[0;34m:\u001b[0m\u001b[0;34m\u001b[0m\u001b[0m\n\u001b[0;32m---> 32\u001b[0;31m     \u001b[0;32mreturn\u001b[0m \u001b[0mumr_sum\u001b[0m\u001b[0;34m(\u001b[0m\u001b[0ma\u001b[0m\u001b[0;34m,\u001b[0m \u001b[0maxis\u001b[0m\u001b[0;34m,\u001b[0m \u001b[0mdtype\u001b[0m\u001b[0;34m,\u001b[0m \u001b[0mout\u001b[0m\u001b[0;34m,\u001b[0m \u001b[0mkeepdims\u001b[0m\u001b[0;34m)\u001b[0m\u001b[0;34m\u001b[0m\u001b[0m\n\u001b[0m\u001b[1;32m     33\u001b[0m \u001b[0;34m\u001b[0m\u001b[0m\n\u001b[1;32m     34\u001b[0m \u001b[0;32mdef\u001b[0m \u001b[0m_prod\u001b[0m\u001b[0;34m(\u001b[0m\u001b[0ma\u001b[0m\u001b[0;34m,\u001b[0m \u001b[0maxis\u001b[0m\u001b[0;34m=\u001b[0m\u001b[0;32mNone\u001b[0m\u001b[0;34m,\u001b[0m \u001b[0mdtype\u001b[0m\u001b[0;34m=\u001b[0m\u001b[0;32mNone\u001b[0m\u001b[0;34m,\u001b[0m \u001b[0mout\u001b[0m\u001b[0;34m=\u001b[0m\u001b[0;32mNone\u001b[0m\u001b[0;34m,\u001b[0m \u001b[0mkeepdims\u001b[0m\u001b[0;34m=\u001b[0m\u001b[0;32mFalse\u001b[0m\u001b[0;34m)\u001b[0m\u001b[0;34m:\u001b[0m\u001b[0;34m\u001b[0m\u001b[0m\n",
      "\u001b[0;31mKeyboardInterrupt\u001b[0m: "
     ]
    }
   ],
   "source": [
    "count=0\n",
    "var=5.01\n",
    "Temp=10**5.5\n",
    "print('log(T): '+str(np.log(Temp)/np.log(10.))+' var: '+str(var))\n",
    "for n in np.arange(100):\n",
    "    m0=int(np.amax([var,1.])**2.5*400)\n",
    "    mu=burn_in(Temp,m0,df1,0,len(df1))\n",
    "    var=np.std(mu/Temp)\n",
    "    print('        equilibriation('+str(count)+')  var: '+str(var))\n",
    "    score2=weighted_reindeer_weariness(df1[all_trips.columns])\n",
    "    print(score2)\n",
    "    if (var < 5.):\n",
    "        Temp*=.9\n",
    "        print('log(T): '+str(np.log(Temp)/np.log(10.))+' var: '+str(var))\n",
    "        count=0\n",
    "    else:\n",
    "        count+=m0\n"
   ]
  },
  {
   "cell_type": "code",
   "execution_count": null,
   "metadata": {
    "collapsed": true
   },
   "outputs": [],
   "source": []
  },
  {
   "cell_type": "code",
   "execution_count": null,
   "metadata": {
    "collapsed": true
   },
   "outputs": [],
   "source": []
  },
  {
   "cell_type": "code",
   "execution_count": 72,
   "metadata": {
    "collapsed": false
   },
   "outputs": [],
   "source": [
    "df0.to_csv('santas_route_3.csv')"
   ]
  },
  {
   "cell_type": "code",
   "execution_count": 76,
   "metadata": {
    "collapsed": false
   },
   "outputs": [],
   "source": [
    "np.savetxt('submission0.csv',df1[df1['GiftId']!=-1][['GiftId','TripId']].values.astype(np.int),fmt='%2.0d',delimiter=',',header='GiftId,TripId')\n",
    "%more submission0.csv"
   ]
  },
  {
   "cell_type": "code",
   "execution_count": null,
   "metadata": {
    "collapsed": true
   },
   "outputs": [],
   "source": []
  },
  {
   "cell_type": "code",
   "execution_count": null,
   "metadata": {
    "collapsed": true
   },
   "outputs": [],
   "source": []
  },
  {
   "cell_type": "code",
   "execution_count": null,
   "metadata": {
    "collapsed": true
   },
   "outputs": [],
   "source": []
  },
  {
   "cell_type": "markdown",
   "metadata": {},
   "source": [
    "# Parellelized Burn in"
   ]
  },
  {
   "cell_type": "code",
   "execution_count": null,
   "metadata": {
    "collapsed": true
   },
   "outputs": [],
   "source": [
    "from IPython import parallel\n",
    "\n",
    "rc = parallel.Client()\n",
    "all_engines = rc[:]\n",
    "lbv = rc.load_balanced_view()\n",
    "lbv.block = True"
   ]
  },
  {
   "cell_type": "code",
   "execution_count": null,
   "metadata": {
    "collapsed": true
   },
   "outputs": [],
   "source": [
    "@lbv.parallel()\n",
    "def f(x):\n",
    "    return 10.0*x**4"
   ]
  },
  {
   "cell_type": "code",
   "execution_count": null,
   "metadata": {
    "collapsed": true
   },
   "outputs": [],
   "source": [
    "f.map(np.arange(10**2))"
   ]
  },
  {
   "cell_type": "code",
   "execution_count": 908,
   "metadata": {
    "collapsed": true
   },
   "outputs": [],
   "source": [
    "def power(base, exponent):\n",
    "    return base ** exponent\n",
    "\n",
    "from functools import partial\n",
    "\n",
    "square = partial(power, exponent=2)\n",
    "cube = partial(power, exponent=3)\n",
    "\n",
    "def test_partials():\n",
    "    assert square(2) == 4\n",
    "    assert cube(2) == 8"
   ]
  },
  {
   "cell_type": "code",
   "execution_count": null,
   "metadata": {
    "collapsed": true
   },
   "outputs": [],
   "source": []
  }
 ],
 "metadata": {
  "kernelspec": {
   "display_name": "Python 3",
   "language": "python",
   "name": "python3"
  },
  "language_info": {
   "codemirror_mode": {
    "name": "ipython",
    "version": 3
   },
   "file_extension": ".py",
   "mimetype": "text/x-python",
   "name": "python",
   "nbconvert_exporter": "python",
   "pygments_lexer": "ipython3",
   "version": "3.5.1"
  }
 },
 "nbformat": 4,
 "nbformat_minor": 0
}
