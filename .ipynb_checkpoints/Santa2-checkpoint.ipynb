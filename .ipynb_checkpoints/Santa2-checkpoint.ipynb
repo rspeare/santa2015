{
 "cells": [
  {
   "cell_type": "code",
   "execution_count": 1,
   "metadata": {
    "collapsed": false
   },
   "outputs": [
    {
     "name": "stderr",
     "output_type": "stream",
     "text": [
      "/Users/rspeare/anaconda/lib/python3.5/site-packages/matplotlib/__init__.py:872: UserWarning: axes.color_cycle is deprecated and replaced with axes.prop_cycle; please use the latter.\n",
      "  warnings.warn(self.msg_depr % (key, alt_key))\n"
     ]
    }
   ],
   "source": [
    "import pandas as pd\n",
    "import numpy as np\n",
    "from haversine import haversine\n",
    "import matplotlib.pyplot as plt\n",
    "import seaborn as sns\n",
    "%matplotlib inline"
   ]
  },
  {
   "cell_type": "code",
   "execution_count": 2,
   "metadata": {
    "collapsed": true
   },
   "outputs": [],
   "source": [
    "north_pole = [90.,0.]\n",
    "weight_limit = 1000.\n",
    "sleigh_weight = 10."
   ]
  },
  {
   "cell_type": "code",
   "execution_count": 3,
   "metadata": {
    "collapsed": true
   },
   "outputs": [],
   "source": [
    "def weighted_trip_length(stops, weights): \n",
    "    tuples = [tuple(x) for x in stops.values]\n",
    "    # adding the last trip back to north pole, with just the sleigh weight\n",
    "    tuples.append(north_pole)\n",
    "    weights.append(sleigh_weight)\n",
    "    \n",
    "    dist = 0.0\n",
    "    prev_stop = north_pole\n",
    "    prev_weight = sum(weights)\n",
    "    for location, weight in zip(tuples, weights):\n",
    "        dist = dist + haversine(location, prev_stop) * prev_weight\n",
    "        prev_stop = location\n",
    "        prev_weight = prev_weight - weight\n",
    "    if (np.sum(weights)> weight_limit):\n",
    "        return np.inf\n",
    "    else:\n",
    "        return dist\n",
    "\n",
    "def weighted_reindeer_weariness(all_trips):\n",
    "    uniq_trips = all_trips.TripId.unique()\n",
    "    \n",
    "    if any(all_trips.groupby('TripId').Weight.sum() > weight_limit):\n",
    "        raise Exception(\"One of the sleighs over weight limit!\")\n",
    " \n",
    "    dist = 0.0\n",
    "    for t in uniq_trips:\n",
    "        this_trip = all_trips[all_trips.TripId==t]\n",
    "        dist = dist + weighted_trip_length(this_trip[['Latitude','Longitude']], this_trip.Weight.tolist())\n",
    "    \n",
    "    return dist    "
   ]
  },
  {
   "cell_type": "code",
   "execution_count": null,
   "metadata": {
    "collapsed": false
   },
   "outputs": [],
   "source": []
  },
  {
   "cell_type": "code",
   "execution_count": 4,
   "metadata": {
    "collapsed": false
   },
   "outputs": [],
   "source": [
    "gifts = pd.read_csv('gifts.csv')\n",
    "sample_sub = pd.read_csv('sample_submission.csv')\n",
    "\n",
    "all_trips = sample_sub.merge(gifts, on='GiftId')"
   ]
  },
  {
   "cell_type": "code",
   "execution_count": 5,
   "metadata": {
    "collapsed": true
   },
   "outputs": [],
   "source": [
    "#naive_score=weighted_reindeer_weariness(all_trips)"
   ]
  },
  {
   "cell_type": "code",
   "execution_count": 6,
   "metadata": {
    "collapsed": false
   },
   "outputs": [
    {
     "name": "stdout",
     "output_type": "stream",
     "text": [
      "144525525772.0 12395765387.8785\n"
     ]
    }
   ],
   "source": [
    "best_score=12395765387.87850\n",
    "print(naive_score,best_score)"
   ]
  },
  {
   "cell_type": "markdown",
   "metadata": {},
   "source": [
    "# Initializiaton: Setup stops, Check for Validity"
   ]
  },
  {
   "cell_type": "code",
   "execution_count": 6,
   "metadata": {
    "collapsed": false
   },
   "outputs": [],
   "source": [
    "# Add lots of 'north pole' stops, concatenate them to the original gifts data frame\n",
    "def initialize(frac):\n",
    "    notValid=True\n",
    "    while (notValid):\n",
    "        seed1=np.insert(north_pole,0,-1)\n",
    "        seed1=np.insert(seed1,3,0.)\n",
    "        s=pd.DataFrame(seed1,index=gifts.columns.values).T\n",
    "        s.head()\n",
    "        s=pd.DataFrame(seed1,index=gifts.columns.values).T\n",
    "        for i in np.arange(np.log(len(gifts)*frac)/np.log(2.)):\n",
    "            s=pd.concat([s,s])\n",
    "        print(len(s))\n",
    "    \n",
    "        dfc=pd.concat([gifts,s])\n",
    "        dfc.head()\n",
    "        \n",
    "        # Now randomly distribute the stops\n",
    "        dfc=dfc.iloc[np.random.permutation(len(dfc))]\n",
    "        dfc.head()\n",
    "    \n",
    "        stops=np.where(dfc['GiftId']==-1)[0]\n",
    "        \n",
    "        dfc['tripW']=np.zeros(len(dfc))\n",
    "        dfc['TripId']=np.zeros(len(dfc))\n",
    "\n",
    "        ###### CHECK IF A VALID SET OF STOPS\n",
    "        cumWeights=[]\n",
    "    \n",
    "        np.insert(stops,0,0)\n",
    "        np.insert(stops,len(stops),len(dfc)+1)\n",
    "    \n",
    "        tripWeight=np.sum(dfc['Weight'].values[:stops[0]])\n",
    "        cumWeights.append(tripWeight)\n",
    "        dfc['tripW'].values[:stops[0]]=tripWeight\n",
    "        dfc['TripId'].values[:stops[0]]=0\n",
    "        \n",
    "        for i in np.arange(len(stops)-1):\n",
    "    #    print(i)\n",
    "            tripWeight=np.sum(dfc['Weight'].values[stops[i]:stops[i+1]])\n",
    "            cumWeights.append(tripWeight)\n",
    "            dfc['tripW'].values[stops[i]:stops[i+1]]=tripWeight\n",
    "            dfc['TripId'].values[stops[i]:stops[i+1]]=i\n",
    "        \n",
    "        tripWeight=np.sum(dfc['Weight'].values[stops[-1]:])\n",
    "        cumWeights.append(tripWeight)\n",
    "        dfc['tripW'].values[stops[-1]:]=tripWeight\n",
    "        dfc['TripId'].values[stops[-1]:]=i+1\n",
    "\n",
    "        cumWeights=np.array(cumWeights)\n",
    "        \n",
    "        if np.any(dfc['tripW'].values > 1000.-10.):\n",
    "            print('Too much weight in the sleigh!')\n",
    "            frac*=1.1\n",
    "        else:\n",
    "            print('legal set of stops')\n",
    "            notValid=False\n",
    "    if np.any(np.isnan(dfc)):\n",
    "        print('WARNING THERE ARE NAN TRIP IDS')\n",
    "    #print('calculating initial score fraction...relative to Naive')\n",
    "    return dfc\n",
    "   \n"
   ]
  },
  {
   "cell_type": "markdown",
   "metadata": {},
   "source": [
    "# Two Opt Code: Swap two stops, see if valid and check for improvement"
   ]
  },
  {
   "cell_type": "code",
   "execution_count": 7,
   "metadata": {
    "collapsed": false
   },
   "outputs": [],
   "source": [
    "def swap2(i,j,dfc):\n",
    "    for attr in ['GiftId','Latitude','Longitude','Weight']:\n",
    "        tmpi=dfc.iloc[i][attr]\n",
    "        tmpj=dfc.iloc[j][attr]\n",
    "        dfc.iloc[i][attr]=tmpj\n",
    "        dfc.iloc[j][attr]=tmpi"
   ]
  },
  {
   "cell_type": "code",
   "execution_count": 8,
   "metadata": {
    "collapsed": true
   },
   "outputs": [],
   "source": [
    "def propose_swap(dfc,Temp,lbound,hbound):\n",
    "    \"\"\"\n",
    "    Propose a random Swap of two cities in the traveling salesmen problem\n",
    "    \"\"\"\n",
    "    i1,i2=np.random.randint(lbound,high=hbound,size=2)\n",
    "    trip0ID=dfc.iloc[i1]['TripId']\n",
    "    trip1ID=dfc.iloc[i2]['TripId']\n",
    "    trip0=dfc[dfc['TripId']==trip0ID]\n",
    "    trip1=dfc[dfc['TripId']==trip1ID]\n",
    "\n",
    "    dist1=weighted_trip_length(trip0[['Latitude','Longitude']], trip0.Weight.tolist())+weighted_trip_length(trip1[['Latitude','Longitude']], trip1.Weight.tolist())\n",
    "    \n",
    "    swap2(i1,i2,dfc)\n",
    "    trip0ID=dfc.iloc[i1]['TripId']\n",
    "    trip1ID=dfc.iloc[i2]['TripId']\n",
    "    trip0=dfc[dfc['TripId']==trip0ID]\n",
    "    trip1=dfc[dfc['TripId']==trip1ID]\n",
    "\n",
    "    dist2=weighted_trip_length(trip0[['Latitude','Longitude']], trip0.Weight.tolist())+weighted_trip_length(trip1[['Latitude','Longitude']], trip1.Weight.tolist())\n",
    "\n",
    "    if (dist2 < dist1):\n",
    "#        print('accepted')\n",
    "#        print(dist2-dist1)\n",
    "        return (dist2 - dist1)\n",
    "    else:\n",
    "        prob=np.exp((dist1-dist2)/Temp)\n",
    "        sample=np.random.rand()\n",
    "        # Accept Swap with probability exp(-deltaD/T)\n",
    "        if (sample < prob):\n",
    "#            print('accepted with probability :',prob)\n",
    "#            print(dist2-dist1)\n",
    "            return (dist2 - dist1)\n",
    "        else:\n",
    "#            print('rejected with probability :',1.-prob)\n",
    "            swap2(i1,i2,dfc)\n",
    "            return 0.\n",
    "    # should never get here\n",
    "    return (dist2 - dist1)"
   ]
  },
  {
   "cell_type": "code",
   "execution_count": 9,
   "metadata": {
    "collapsed": true
   },
   "outputs": [],
   "source": [
    "def running_mean(x,N):\n",
    "    return np.convolve(x, np.ones((N,))/N, mode='valid')"
   ]
  },
  {
   "cell_type": "markdown",
   "metadata": {},
   "source": [
    "# The Burn In Process"
   ]
  },
  {
   "cell_type": "code",
   "execution_count": 25,
   "metadata": {
    "collapsed": false
   },
   "outputs": [
    {
     "name": "stdout",
     "output_type": "stream",
     "text": [
      "16384\n",
      "legal set of stops\n"
     ]
    },
    {
     "data": {
      "text/plain": [
       "8.2585999039398494"
      ]
     },
     "execution_count": 25,
     "metadata": {},
     "output_type": "execute_result"
    }
   ],
   "source": [
    "df0=initialize(0.1)\n",
    "weighted_reindeer_weariness(df0[all_trips.columns])/best_score"
   ]
  },
  {
   "cell_type": "code",
   "execution_count": 10,
   "metadata": {
    "collapsed": false
   },
   "outputs": [],
   "source": [
    "def burn_in(T,m,df,lbound,hbound):\n",
    "    c=[]\n",
    "    for i in np.arange(m):\n",
    "        delta=propose_swap(df,Temp,lbound,hbound)\n",
    "        c.append(delta)\n",
    "    return np.array(c)"
   ]
  },
  {
   "cell_type": "code",
   "execution_count": null,
   "metadata": {
    "collapsed": true
   },
   "outputs": [],
   "source": [
    "m0=1000\n",
    "count=0\n",
    "Temp=10**5.6\n",
    "var=100."
   ]
  },
  {
   "cell_type": "code",
   "execution_count": 26,
   "metadata": {
    "collapsed": false
   },
   "outputs": [
    {
     "data": {
      "text/html": [
       "<div>\n",
       "<table border=\"1\" class=\"dataframe\">\n",
       "  <thead>\n",
       "    <tr style=\"text-align: right;\">\n",
       "      <th></th>\n",
       "      <th>GiftId</th>\n",
       "      <th>Latitude</th>\n",
       "      <th>Longitude</th>\n",
       "      <th>Weight</th>\n",
       "      <th>tripW</th>\n",
       "      <th>TripId</th>\n",
       "    </tr>\n",
       "  </thead>\n",
       "  <tbody>\n",
       "    <tr>\n",
       "      <th>0</th>\n",
       "      <td>-1</td>\n",
       "      <td>90.000000</td>\n",
       "      <td>0.000000</td>\n",
       "      <td>0.000000</td>\n",
       "      <td>379.658949</td>\n",
       "      <td>0</td>\n",
       "    </tr>\n",
       "    <tr>\n",
       "      <th>1</th>\n",
       "      <td>18900</td>\n",
       "      <td>67.026740</td>\n",
       "      <td>95.997109</td>\n",
       "      <td>14.559178</td>\n",
       "      <td>379.658949</td>\n",
       "      <td>0</td>\n",
       "    </tr>\n",
       "    <tr>\n",
       "      <th>2</th>\n",
       "      <td>70517</td>\n",
       "      <td>62.126464</td>\n",
       "      <td>50.578612</td>\n",
       "      <td>25.789425</td>\n",
       "      <td>379.658949</td>\n",
       "      <td>0</td>\n",
       "    </tr>\n",
       "    <tr>\n",
       "      <th>3</th>\n",
       "      <td>26034</td>\n",
       "      <td>69.638752</td>\n",
       "      <td>87.285451</td>\n",
       "      <td>9.682529</td>\n",
       "      <td>379.658949</td>\n",
       "      <td>0</td>\n",
       "    </tr>\n",
       "    <tr>\n",
       "      <th>4</th>\n",
       "      <td>-1</td>\n",
       "      <td>90.000000</td>\n",
       "      <td>0.000000</td>\n",
       "      <td>0.000000</td>\n",
       "      <td>379.658949</td>\n",
       "      <td>0</td>\n",
       "    </tr>\n",
       "  </tbody>\n",
       "</table>\n",
       "</div>"
      ],
      "text/plain": [
       "   GiftId   Latitude  Longitude     Weight       tripW  TripId\n",
       "0      -1  90.000000   0.000000   0.000000  379.658949       0\n",
       "1   18900  67.026740  95.997109  14.559178  379.658949       0\n",
       "2   70517  62.126464  50.578612  25.789425  379.658949       0\n",
       "3   26034  69.638752  87.285451   9.682529  379.658949       0\n",
       "4      -1  90.000000   0.000000   0.000000  379.658949       0"
      ]
     },
     "execution_count": 26,
     "metadata": {},
     "output_type": "execute_result"
    }
   ],
   "source": [
    "df0=pd.read_csv('santas_route_2.csv')\n",
    "df0=df0.T.drop('Unnamed: 0').T\n",
    "df0.head()"
   ]
  },
  {
   "cell_type": "code",
   "execution_count": 87,
   "metadata": {
    "collapsed": false
   },
   "outputs": [],
   "source": [
    "df=df0[df0.GiftId!=-1]\n",
    "df=df.T.drop('tripW').T"
   ]
  },
  {
   "cell_type": "code",
   "execution_count": 94,
   "metadata": {
    "collapsed": false
   },
   "outputs": [
    {
     "data": {
      "text/plain": [
       "(1929, 39661)"
      ]
     },
     "execution_count": 94,
     "metadata": {},
     "output_type": "execute_result"
    }
   ],
   "source": [
    "i1,i2=np.random.randint(0,high=len(df),size=2)\n",
    "i1,i2"
   ]
  },
  {
   "cell_type": "code",
   "execution_count": 99,
   "metadata": {
    "collapsed": false
   },
   "outputs": [
    {
     "data": {
      "text/html": [
       "<div>\n",
       "<table border=\"1\" class=\"dataframe\">\n",
       "  <thead>\n",
       "    <tr style=\"text-align: right;\">\n",
       "      <th></th>\n",
       "      <th>GiftId</th>\n",
       "      <th>Latitude</th>\n",
       "      <th>Longitude</th>\n",
       "      <th>Weight</th>\n",
       "      <th>TripId</th>\n",
       "    </tr>\n",
       "  </thead>\n",
       "  <tbody>\n",
       "    <tr>\n",
       "      <th>2213</th>\n",
       "      <td>63029</td>\n",
       "      <td>43.799772</td>\n",
       "      <td>10.338864</td>\n",
       "      <td>34.539121</td>\n",
       "      <td>304</td>\n",
       "    </tr>\n",
       "  </tbody>\n",
       "</table>\n",
       "</div>"
      ],
      "text/plain": [
       "      GiftId   Latitude  Longitude     Weight  TripId\n",
       "2213   63029  43.799772  10.338864  34.539121     304"
      ]
     },
     "execution_count": 99,
     "metadata": {},
     "output_type": "execute_result"
    }
   ],
   "source": [
    "tmp1=df.iloc[[i1]]\n",
    "tmp2=df.iloc[[i2]]\n",
    "tmp1"
   ]
  },
  {
   "cell_type": "code",
   "execution_count": null,
   "metadata": {
    "collapsed": false
   },
   "outputs": [
    {
     "name": "stdout",
     "output_type": "stream",
     "text": [
      "reading old model file\n",
      "   Unnamed: 0  GiftId   Latitude  Longitude     Weight       tripW  TripId\n",
      "0       72087      -1  90.000000   0.000000   0.000000  379.658949       0\n",
      "1        9193   18900  67.026740  95.997109  14.559178  379.658949       0\n",
      "2        5853   70517  62.126464  50.578612  25.789425  379.658949       0\n",
      "3        3922   26034  69.638752  87.285451   9.682529  379.658949       0\n",
      "4       74919      -1  90.000000   0.000000   0.000000  379.658949       0"
     ]
    }
   ],
   "source": [
    "import improve_path"
   ]
  },
  {
   "cell_type": "code",
   "execution_count": 52,
   "metadata": {
    "collapsed": false
   },
   "outputs": [
    {
     "data": {
      "image/png": "[encoded data removed]",
      "text/plain": [
       "<matplotlib.figure.Figure at 0x1101a8780>"
      ]
     },
     "metadata": {},
     "output_type": "display_data"
    }
   ],
   "source": [
    "total_weights=[df0[df0.TripId==t].Weight.sum() for t in df0['TripId'].unique()]\n",
    "plt.hist(total_weights)\n",
    "plt.show()"
   ]
  },
  {
   "cell_type": "code",
   "execution_count": 49,
   "metadata": {
    "collapsed": false
   },
   "outputs": [
    {
     "data": {
      "text/plain": [
       "array([ 379.65894932,  379.65894932,  379.65894932,  379.65894932,\n",
       "        379.65894932,  379.65894932,  379.65894932,  379.65894932,\n",
       "        379.65894932,  379.65894932,  379.65894932,  379.65894932,\n",
       "        379.65894932,  379.65894932,  379.65894932,  379.65894932,\n",
       "        379.65894932,  379.65894932,  379.65894932,  379.65894932,\n",
       "        379.65894932,  379.65894932,  379.65894932,  137.10022852,\n",
       "        137.10022852,  137.10022852,  137.10022852,  137.10022852,\n",
       "        137.10022852])"
      ]
     },
     "execution_count": 49,
     "metadata": {},
     "output_type": "execute_result"
    }
   ],
   "source": [
    "\n"
   ]
  },
  {
   "cell_type": "code",
   "execution_count": null,
   "metadata": {
    "collapsed": true
   },
   "outputs": [],
   "source": [
    "def update_trip_weights(df):\n",
    "    df"
   ]
  },
  {
   "cell_type": "code",
   "execution_count": 105,
   "metadata": {
    "collapsed": false
   },
   "outputs": [
    {
     "name": "stdout",
     "output_type": "stream",
     "text": [
      "log(T): 4.2 var: 5.01\n"
     ]
    },
    {
     "ename": "KeyboardInterrupt",
     "evalue": "",
     "output_type": "error",
     "traceback": [
      "\u001b[0;31m---------------------------------------------------------------------------\u001b[0m",
      "\u001b[0;31mKeyboardInterrupt\u001b[0m                         Traceback (most recent call last)",
      "\u001b[0;32m<ipython-input-105-c4f5c6e3fd04>\u001b[0m in \u001b[0;36m<module>\u001b[0;34m()\u001b[0m\n\u001b[1;32m      6\u001b[0m \u001b[0;32mfor\u001b[0m \u001b[0mn\u001b[0m \u001b[0;32min\u001b[0m \u001b[0mnp\u001b[0m\u001b[0;34m.\u001b[0m\u001b[0marange\u001b[0m\u001b[0;34m(\u001b[0m\u001b[0;36m100\u001b[0m\u001b[0;34m)\u001b[0m\u001b[0;34m:\u001b[0m\u001b[0;34m\u001b[0m\u001b[0m\n\u001b[1;32m      7\u001b[0m     \u001b[0mm0\u001b[0m\u001b[0;34m=\u001b[0m\u001b[0mnp\u001b[0m\u001b[0;34m.\u001b[0m\u001b[0mamax\u001b[0m\u001b[0;34m(\u001b[0m\u001b[0;34m[\u001b[0m\u001b[0mvar\u001b[0m\u001b[0;34m,\u001b[0m\u001b[0;36m1.\u001b[0m\u001b[0;34m]\u001b[0m\u001b[0;34m)\u001b[0m\u001b[0;34m**\u001b[0m\u001b[0;36m2.5\u001b[0m\u001b[0;34m*\u001b[0m\u001b[0;36m400\u001b[0m\u001b[0;34m\u001b[0m\u001b[0m\n\u001b[0;32m----> 8\u001b[0;31m     \u001b[0mmu\u001b[0m\u001b[0;34m=\u001b[0m\u001b[0mburn_in\u001b[0m\u001b[0;34m(\u001b[0m\u001b[0mTemp\u001b[0m\u001b[0;34m,\u001b[0m\u001b[0mm0\u001b[0m\u001b[0;34m,\u001b[0m\u001b[0mdf0\u001b[0m\u001b[0;34m,\u001b[0m\u001b[0;36m0\u001b[0m\u001b[0;34m,\u001b[0m\u001b[0mlen\u001b[0m\u001b[0;34m(\u001b[0m\u001b[0mdf0\u001b[0m\u001b[0;34m)\u001b[0m\u001b[0;34m)\u001b[0m\u001b[0;34m\u001b[0m\u001b[0m\n\u001b[0m\u001b[1;32m      9\u001b[0m     \u001b[0mvar\u001b[0m\u001b[0;34m=\u001b[0m\u001b[0mnp\u001b[0m\u001b[0;34m.\u001b[0m\u001b[0mstd\u001b[0m\u001b[0;34m(\u001b[0m\u001b[0mmu\u001b[0m\u001b[0;34m/\u001b[0m\u001b[0mTemp\u001b[0m\u001b[0;34m)\u001b[0m\u001b[0;34m\u001b[0m\u001b[0m\n\u001b[1;32m     10\u001b[0m     \u001b[0mprint\u001b[0m\u001b[0;34m(\u001b[0m\u001b[0;34m'        equilibriation('\u001b[0m\u001b[0;34m+\u001b[0m\u001b[0mstr\u001b[0m\u001b[0;34m(\u001b[0m\u001b[0mcount\u001b[0m\u001b[0;34m)\u001b[0m\u001b[0;34m+\u001b[0m\u001b[0;34m')  var: '\u001b[0m\u001b[0;34m+\u001b[0m\u001b[0mstr\u001b[0m\u001b[0;34m(\u001b[0m\u001b[0mvar\u001b[0m\u001b[0;34m)\u001b[0m\u001b[0;34m)\u001b[0m\u001b[0;34m\u001b[0m\u001b[0m\n",
      "\u001b[0;32m<ipython-input-10-2eb7545fb928>\u001b[0m in \u001b[0;36mburn_in\u001b[0;34m(T, m, df, lbound, hbound)\u001b[0m\n\u001b[1;32m      2\u001b[0m     \u001b[0mc\u001b[0m\u001b[0;34m=\u001b[0m\u001b[0;34m[\u001b[0m\u001b[0;34m]\u001b[0m\u001b[0;34m\u001b[0m\u001b[0m\n\u001b[1;32m      3\u001b[0m     \u001b[0;32mfor\u001b[0m \u001b[0mi\u001b[0m \u001b[0;32min\u001b[0m \u001b[0mnp\u001b[0m\u001b[0;34m.\u001b[0m\u001b[0marange\u001b[0m\u001b[0;34m(\u001b[0m\u001b[0mm\u001b[0m\u001b[0;34m)\u001b[0m\u001b[0;34m:\u001b[0m\u001b[0;34m\u001b[0m\u001b[0m\n\u001b[0;32m----> 4\u001b[0;31m         \u001b[0mdelta\u001b[0m\u001b[0;34m=\u001b[0m\u001b[0mpropose_swap\u001b[0m\u001b[0;34m(\u001b[0m\u001b[0mdf\u001b[0m\u001b[0;34m,\u001b[0m\u001b[0mTemp\u001b[0m\u001b[0;34m,\u001b[0m\u001b[0mlbound\u001b[0m\u001b[0;34m,\u001b[0m\u001b[0mhbound\u001b[0m\u001b[0;34m)\u001b[0m\u001b[0;34m\u001b[0m\u001b[0m\n\u001b[0m\u001b[1;32m      5\u001b[0m         \u001b[0mc\u001b[0m\u001b[0;34m.\u001b[0m\u001b[0mappend\u001b[0m\u001b[0;34m(\u001b[0m\u001b[0mdelta\u001b[0m\u001b[0;34m)\u001b[0m\u001b[0;34m\u001b[0m\u001b[0m\n\u001b[1;32m      6\u001b[0m     \u001b[0;32mreturn\u001b[0m \u001b[0mnp\u001b[0m\u001b[0;34m.\u001b[0m\u001b[0marray\u001b[0m\u001b[0;34m(\u001b[0m\u001b[0mc\u001b[0m\u001b[0;34m)\u001b[0m\u001b[0;34m\u001b[0m\u001b[0m\n",
      "\u001b[0;32m<ipython-input-8-2d525e0f4290>\u001b[0m in \u001b[0;36mpropose_swap\u001b[0;34m(dfc, Temp, lbound, hbound)\u001b[0m\n\u001b[1;32m      7\u001b[0m     \u001b[0mtrip1ID\u001b[0m\u001b[0;34m=\u001b[0m\u001b[0mdfc\u001b[0m\u001b[0;34m.\u001b[0m\u001b[0miloc\u001b[0m\u001b[0;34m[\u001b[0m\u001b[0mi2\u001b[0m\u001b[0;34m]\u001b[0m\u001b[0;34m[\u001b[0m\u001b[0;34m'TripId'\u001b[0m\u001b[0;34m]\u001b[0m\u001b[0;34m\u001b[0m\u001b[0m\n\u001b[1;32m      8\u001b[0m     \u001b[0mtrip0\u001b[0m\u001b[0;34m=\u001b[0m\u001b[0mdfc\u001b[0m\u001b[0;34m[\u001b[0m\u001b[0mdfc\u001b[0m\u001b[0;34m[\u001b[0m\u001b[0;34m'TripId'\u001b[0m\u001b[0;34m]\u001b[0m\u001b[0;34m==\u001b[0m\u001b[0mtrip0ID\u001b[0m\u001b[0;34m]\u001b[0m\u001b[0;34m\u001b[0m\u001b[0m\n\u001b[0;32m----> 9\u001b[0;31m     \u001b[0mtrip1\u001b[0m\u001b[0;34m=\u001b[0m\u001b[0mdfc\u001b[0m\u001b[0;34m[\u001b[0m\u001b[0mdfc\u001b[0m\u001b[0;34m[\u001b[0m\u001b[0;34m'TripId'\u001b[0m\u001b[0;34m]\u001b[0m\u001b[0;34m==\u001b[0m\u001b[0mtrip1ID\u001b[0m\u001b[0;34m]\u001b[0m\u001b[0;34m\u001b[0m\u001b[0m\n\u001b[0m\u001b[1;32m     10\u001b[0m \u001b[0;34m\u001b[0m\u001b[0m\n\u001b[1;32m     11\u001b[0m     \u001b[0mdist1\u001b[0m\u001b[0;34m=\u001b[0m\u001b[0mweighted_trip_length\u001b[0m\u001b[0;34m(\u001b[0m\u001b[0mtrip0\u001b[0m\u001b[0;34m[\u001b[0m\u001b[0;34m[\u001b[0m\u001b[0;34m'Latitude'\u001b[0m\u001b[0;34m,\u001b[0m\u001b[0;34m'Longitude'\u001b[0m\u001b[0;34m]\u001b[0m\u001b[0;34m]\u001b[0m\u001b[0;34m,\u001b[0m \u001b[0mtrip0\u001b[0m\u001b[0;34m.\u001b[0m\u001b[0mWeight\u001b[0m\u001b[0;34m.\u001b[0m\u001b[0mtolist\u001b[0m\u001b[0;34m(\u001b[0m\u001b[0;34m)\u001b[0m\u001b[0;34m)\u001b[0m\u001b[0;34m+\u001b[0m\u001b[0mweighted_trip_length\u001b[0m\u001b[0;34m(\u001b[0m\u001b[0mtrip1\u001b[0m\u001b[0;34m[\u001b[0m\u001b[0;34m[\u001b[0m\u001b[0;34m'Latitude'\u001b[0m\u001b[0;34m,\u001b[0m\u001b[0;34m'Longitude'\u001b[0m\u001b[0;34m]\u001b[0m\u001b[0;34m]\u001b[0m\u001b[0;34m,\u001b[0m \u001b[0mtrip1\u001b[0m\u001b[0;34m.\u001b[0m\u001b[0mWeight\u001b[0m\u001b[0;34m.\u001b[0m\u001b[0mtolist\u001b[0m\u001b[0;34m(\u001b[0m\u001b[0;34m)\u001b[0m\u001b[0;34m)\u001b[0m\u001b[0;34m\u001b[0m\u001b[0m\n",
      "\u001b[0;32m/Users/rspeare/anaconda/lib/python3.5/site-packages/pandas/core/frame.py\u001b[0m in \u001b[0;36m__getitem__\u001b[0;34m(self, key)\u001b[0m\n\u001b[1;32m   1961\u001b[0m         \u001b[0;32mif\u001b[0m \u001b[0misinstance\u001b[0m\u001b[0;34m(\u001b[0m\u001b[0mkey\u001b[0m\u001b[0;34m,\u001b[0m \u001b[0;34m(\u001b[0m\u001b[0mSeries\u001b[0m\u001b[0;34m,\u001b[0m \u001b[0mnp\u001b[0m\u001b[0;34m.\u001b[0m\u001b[0mndarray\u001b[0m\u001b[0;34m,\u001b[0m \u001b[0mIndex\u001b[0m\u001b[0;34m,\u001b[0m \u001b[0mlist\u001b[0m\u001b[0;34m)\u001b[0m\u001b[0;34m)\u001b[0m\u001b[0;34m:\u001b[0m\u001b[0;34m\u001b[0m\u001b[0m\n\u001b[1;32m   1962\u001b[0m             \u001b[0;31m# either boolean or fancy integer index\u001b[0m\u001b[0;34m\u001b[0m\u001b[0;34m\u001b[0m\u001b[0m\n\u001b[0;32m-> 1963\u001b[0;31m             \u001b[0;32mreturn\u001b[0m \u001b[0mself\u001b[0m\u001b[0;34m.\u001b[0m\u001b[0m_getitem_array\u001b[0m\u001b[0;34m(\u001b[0m\u001b[0mkey\u001b[0m\u001b[0;34m)\u001b[0m\u001b[0;34m\u001b[0m\u001b[0m\n\u001b[0m\u001b[1;32m   1964\u001b[0m         \u001b[0;32melif\u001b[0m \u001b[0misinstance\u001b[0m\u001b[0;34m(\u001b[0m\u001b[0mkey\u001b[0m\u001b[0;34m,\u001b[0m \u001b[0mDataFrame\u001b[0m\u001b[0;34m)\u001b[0m\u001b[0;34m:\u001b[0m\u001b[0;34m\u001b[0m\u001b[0m\n\u001b[1;32m   1965\u001b[0m             \u001b[0;32mreturn\u001b[0m \u001b[0mself\u001b[0m\u001b[0;34m.\u001b[0m\u001b[0m_getitem_frame\u001b[0m\u001b[0;34m(\u001b[0m\u001b[0mkey\u001b[0m\u001b[0;34m)\u001b[0m\u001b[0;34m\u001b[0m\u001b[0m\n",
      "\u001b[0;32m/Users/rspeare/anaconda/lib/python3.5/site-packages/pandas/core/frame.py\u001b[0m in \u001b[0;36m_getitem_array\u001b[0;34m(self, key)\u001b[0m\n\u001b[1;32m   2002\u001b[0m             \u001b[0;31m# be reindexed to match DataFrame rows\u001b[0m\u001b[0;34m\u001b[0m\u001b[0;34m\u001b[0m\u001b[0m\n\u001b[1;32m   2003\u001b[0m             \u001b[0mkey\u001b[0m \u001b[0;34m=\u001b[0m \u001b[0mcheck_bool_indexer\u001b[0m\u001b[0;34m(\u001b[0m\u001b[0mself\u001b[0m\u001b[0;34m.\u001b[0m\u001b[0mindex\u001b[0m\u001b[0;34m,\u001b[0m \u001b[0mkey\u001b[0m\u001b[0;34m)\u001b[0m\u001b[0;34m\u001b[0m\u001b[0m\n\u001b[0;32m-> 2004\u001b[0;31m             \u001b[0mindexer\u001b[0m \u001b[0;34m=\u001b[0m \u001b[0mkey\u001b[0m\u001b[0;34m.\u001b[0m\u001b[0mnonzero\u001b[0m\u001b[0;34m(\u001b[0m\u001b[0;34m)\u001b[0m\u001b[0;34m[\u001b[0m\u001b[0;36m0\u001b[0m\u001b[0;34m]\u001b[0m\u001b[0;34m\u001b[0m\u001b[0m\n\u001b[0m\u001b[1;32m   2005\u001b[0m             \u001b[0;32mreturn\u001b[0m \u001b[0mself\u001b[0m\u001b[0;34m.\u001b[0m\u001b[0mtake\u001b[0m\u001b[0;34m(\u001b[0m\u001b[0mindexer\u001b[0m\u001b[0;34m,\u001b[0m \u001b[0maxis\u001b[0m\u001b[0;34m=\u001b[0m\u001b[0;36m0\u001b[0m\u001b[0;34m,\u001b[0m \u001b[0mconvert\u001b[0m\u001b[0;34m=\u001b[0m\u001b[0;32mFalse\u001b[0m\u001b[0;34m)\u001b[0m\u001b[0;34m\u001b[0m\u001b[0m\n\u001b[1;32m   2006\u001b[0m         \u001b[0;32melse\u001b[0m\u001b[0;34m:\u001b[0m\u001b[0;34m\u001b[0m\u001b[0m\n",
      "\u001b[0;31mKeyboardInterrupt\u001b[0m: "
     ]
    }
   ],
   "source": [
    "Temp=10**4.2\n",
    "m0=20000\n",
    "var=5.01\n",
    "count=0\n",
    "print('log(T): '+str(np.log(Temp)/np.log(10.))+' var: '+str(var))\n",
    "for n in np.arange(100):\n",
    "    m0=np.amax([var,1.])**2.5*400\n",
    "    mu=burn_in(Temp,m0,df0,0,len(df0))\n",
    "    var=np.std(mu/Temp)\n",
    "    print('        equilibriation('+str(count)+')  var: '+str(var))\n",
    "    score2=weighted_reindeer_weariness(df0[all_trips.columns])\n",
    "    print(score2)\n",
    "    if (var < 5.):\n",
    "        Temp*=.9\n",
    "        print('log(T): '+str(np.log(Temp)/np.log(10.))+' var: '+str(var))\n",
    "        count=0\n",
    "    else:\n",
    "        count+=m0"
   ]
  },
  {
   "cell_type": "code",
   "execution_count": 56,
   "metadata": {
    "collapsed": false
   },
   "outputs": [],
   "source": [
    "df0.to_csv('santas_route_2.csv')"
   ]
  },
  {
   "cell_type": "code",
   "execution_count": 57,
   "metadata": {
    "collapsed": false
   },
   "outputs": [],
   "source": [
    "np.savetxt('submission3.csv',df0[df0['GiftId']!=-1][['GiftId','TripId']].values.astype(np.int),fmt='%2.0d',delimiter=',',header='GiftId,TripId')\n",
    "%more submission1.csv"
   ]
  },
  {
   "cell_type": "code",
   "execution_count": null,
   "metadata": {
    "collapsed": true
   },
   "outputs": [],
   "source": []
  },
  {
   "cell_type": "code",
   "execution_count": null,
   "metadata": {
    "collapsed": true
   },
   "outputs": [],
   "source": []
  },
  {
   "cell_type": "code",
   "execution_count": null,
   "metadata": {
    "collapsed": true
   },
   "outputs": [],
   "source": []
  },
  {
   "cell_type": "code",
   "execution_count": null,
   "metadata": {
    "collapsed": true
   },
   "outputs": [],
   "source": []
  },
  {
   "cell_type": "markdown",
   "metadata": {},
   "source": [
    "# Parellelized Burn in"
   ]
  },
  {
   "cell_type": "code",
   "execution_count": null,
   "metadata": {
    "collapsed": true
   },
   "outputs": [],
   "source": [
    "from IPython import parallel\n",
    "\n",
    "rc = parallel.Client()\n",
    "all_engines = rc[:]\n",
    "lbv = rc.load_balanced_view()\n",
    "lbv.block = True"
   ]
  },
  {
   "cell_type": "code",
   "execution_count": null,
   "metadata": {
    "collapsed": true
   },
   "outputs": [],
   "source": [
    "@lbv.parallel()\n",
    "def f(x):\n",
    "    return 10.0*x**4"
   ]
  },
  {
   "cell_type": "code",
   "execution_count": null,
   "metadata": {
    "collapsed": true
   },
   "outputs": [],
   "source": [
    "f.map(np.arange(10**2))"
   ]
  },
  {
   "cell_type": "code",
   "execution_count": 908,
   "metadata": {
    "collapsed": true
   },
   "outputs": [],
   "source": [
    "def power(base, exponent):\n",
    "    return base ** exponent\n",
    "\n",
    "from functools import partial\n",
    "\n",
    "square = partial(power, exponent=2)\n",
    "cube = partial(power, exponent=3)\n",
    "\n",
    "def test_partials():\n",
    "    assert square(2) == 4\n",
    "    assert cube(2) == 8"
   ]
  },
  {
   "cell_type": "code",
   "execution_count": null,
   "metadata": {
    "collapsed": true
   },
   "outputs": [],
   "source": []
  }
 ],
 "metadata": {
  "kernelspec": {
   "display_name": "Python 3",
   "language": "python",
   "name": "python3"
  },
  "language_info": {
   "codemirror_mode": {
    "name": "ipython",
    "version": 3
   },
   "file_extension": ".py",
   "mimetype": "text/x-python",
   "name": "python",
   "nbconvert_exporter": "python",
   "pygments_lexer": "ipython3",
   "version": "3.5.1"
  }
 },
 "nbformat": 4,
 "nbformat_minor": 0
}
