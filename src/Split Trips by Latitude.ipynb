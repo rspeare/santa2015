{
 "cells": [
  {
   "cell_type": "code",
   "execution_count": 132,
   "metadata": {
    "collapsed": true
   },
   "outputs": [],
   "source": [
    "import numpy as np\n",
    "import pandas as pd\n",
    "import imp\n",
    "import mTSP\n",
    "imp.reload(mTSP)\n",
    "import matplotlib.pyplot as plt\n",
    "%matplotlib inline"
   ]
  },
  {
   "cell_type": "code",
   "execution_count": 257,
   "metadata": {
    "collapsed": false
   },
   "outputs": [],
   "source": [
    "imp.reload(mTSP)\n",
    "m=mTSP.mission(20)\n",
    "m.read_submission('../data/2000trips.csv')"
   ]
  },
  {
   "cell_type": "code",
   "execution_count": 258,
   "metadata": {
    "collapsed": false
   },
   "outputs": [
    {
     "data": {
      "image/png": "[encoded data removed]",
      "text/plain": [
       "<matplotlib.figure.Figure at 0x11566d2b0>"
      ]
     },
     "metadata": {},
     "output_type": "display_data"
    }
   ],
   "source": [
    "loads=m.check_loads()\n",
    "plt.figure(figsize=(8,6))\n",
    "ax1=plt.subplot(211)\n",
    "ax1.hist(loads,30)\n",
    "\n",
    "ax2=plt.subplot(212)\n",
    "ax2.hist([len(t) for t in m.trips],30)\n",
    "#plt.hist([len(t) for t in m.trips])\n",
    "plt.show()"
   ]
  },
  {
   "cell_type": "code",
   "execution_count": 260,
   "metadata": {
    "collapsed": false
   },
   "outputs": [],
   "source": [
    "m.check_tmap()\n",
    "lads=m.check_loads()"
   ]
  },
  {
   "cell_type": "code",
   "execution_count": null,
   "metadata": {
    "collapsed": false
   },
   "outputs": [
    {
     "name": "stdout",
     "output_type": "stream",
     "text": [
      "score: 24012935362.3 var2: 0.158061579624\n",
      "Log(T) 4.3956351946\n",
      "score: 23920638572.2 var2: 0.226995375141\n",
      "Log(T) 4.3912703892\n",
      "score: 23823347089.0 var2: 0.343401303769\n",
      "Log(T) 4.38690558379\n",
      "score: 23730620255.2 var2: 0.256487451984\n",
      "Log(T) 4.38254077839\n",
      "score: 23634820943.7 var2: 0.298579562395\n",
      "Log(T) 4.37817597299\n",
      "score: 23550941925.3 var2: 0.344502128187\n",
      "Log(T) 4.37381116759\n",
      "score: 23456942241.5 var2: 0.271264356298\n",
      "Log(T)"
     ]
    }
   ],
   "source": [
    "m.anneal(2001,10**4.4,10**4,10**2,.99)"
   ]
  },
  {
   "cell_type": "code",
   "execution_count": null,
   "metadata": {
    "collapsed": true
   },
   "outputs": [],
   "source": []
  }
 ],
 "metadata": {
  "kernelspec": {
   "display_name": "Python 3",
   "language": "python",
   "name": "python3"
  },
  "language_info": {
   "codemirror_mode": {
    "name": "ipython",
    "version": 3
   },
   "file_extension": ".py",
   "mimetype": "text/x-python",
   "name": "python",
   "nbconvert_exporter": "python",
   "pygments_lexer": "ipython3",
   "version": "3.5.1"
  }
 },
 "nbformat": 4,
 "nbformat_minor": 0
}
