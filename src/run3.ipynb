{
 "cells": [
  {
   "cell_type": "code",
   "execution_count": 27,
   "metadata": {
    "collapsed": false
   },
   "outputs": [],
   "source": [
    "\n",
    "north_pole = (90,0)\n",
    "weight_limit = 1000\n",
    "sleigh_weight = 10\n",
    "\n",
    "\n",
    "import pandas as pd\n",
    "import numpy as np\n",
    "from haversine import haversine\n",
    "\n",
    "def weighted_trip_length(stops, weights): \n",
    "    tuples = [tuple(x) for x in stops.values]\n",
    "    # adding the last trip back to north pole, with just the sleigh weight\n",
    "    tuples.append(north_pole)\n",
    "    weights.append(sleigh_weight)\n",
    "    \n",
    "    dist = 0.0\n",
    "    prev_stop = north_pole\n",
    "    prev_weight = sum(weights)\n",
    "    for location, weight in zip(tuples, weights):\n",
    "        dist = dist + haversine(location, prev_stop) * prev_weight\n",
    "#        print(weight,location,dist)\n",
    "        prev_stop = location\n",
    "        prev_weight = prev_weight - weight\n",
    "    return dist\n",
    "\n",
    "def weighted_reindeer_weariness(all_trips):\n",
    "    uniq_trips = all_trips.TripId.unique()\n",
    "    \n",
    "    if any(all_trips.groupby('TripId').Weight.sum() > weight_limit):\n",
    "        raise Exception(\"One of the sleighs over weight limit!\")\n",
    " \n",
    "    dist = 0.0\n",
    "    for t in uniq_trips:\n",
    "        this_trip = all_trips[all_trips.TripId==t]\n",
    "        dist = dist + weighted_trip_length(this_trip[['Latitude','Longitude']], this_trip.Weight.tolist())\n",
    "    \n",
    "    return dist    "
   ]
  },
  {
   "cell_type": "code",
   "execution_count": 28,
   "metadata": {
    "collapsed": false
   },
   "outputs": [
    {
     "name": "stdout",
     "output_type": "stream",
     "text": [
      "29903395956.9\n"
     ]
    }
   ],
   "source": [
    "gifts = pd.read_csv('../data/gifts.csv')\n",
    "sample_sub = pd.read_csv('../submissions/submission7.csv')\n",
    "\n",
    "all_trips = sample_sub.merge(gifts, on='GiftId')\n",
    "\n",
    "print(weighted_reindeer_weariness(all_trips))"
   ]
  },
  {
   "cell_type": "code",
   "execution_count": 22,
   "metadata": {
    "collapsed": false
   },
   "outputs": [
    {
     "name": "stdout",
     "output_type": "stream",
     "text": [
      "19\n",
      "[86434, 64086, 40931, 11361, 33371, 93475, 31122, 88983, 73647, 17045, 18109, 97148, 3375, 36821, 71862, 27870, 71257, 30274, 93474]\n"
     ]
    }
   ],
   "source": [
    "t=0\n",
    "trip=all_trips[all_trips['TripId']==t]\n",
    "print(len(trip))\n",
    "print(trip['GiftId'].tolist())"
   ]
  },
  {
   "cell_type": "code",
   "execution_count": 26,
   "metadata": {
    "collapsed": false
   },
   "outputs": [
    {
     "name": "stdout",
     "output_type": "stream",
     "text": [
      "33.5607566668 (13.067425678800001, 105.30426294600001) 1361304.74146\n",
      "13.5172523779 (35.233034592300001, 117.686492266) 1707945.82236\n",
      "24.1451240818 (38.882003630500002, 112.17181891600001) 1779152.54649\n",
      "16.3405996343 (-78.841379810100008, 99.952189902499995) 2932075.16892\n",
      "29.6804239071 (-88.483499073299996, 112.91174357) 3009162.77422\n",
      "1.0 (19.403951367099999, 46.016238671099998) 3515947.55498\n",
      "6.00717031197 (19.2015954427, 18.735542514700001) 3632890.30932\n",
      "1.0 (14.824518438, -8.6644016828500003) 3735808.00301\n",
      "8.40479913383 (45.245823712700002, 3.02134129452) 3856297.58116\n",
      "3.42870395891 (35.428164692199999, 2.5210985984400001) 3884130.77327\n",
      "4.04812200109 (19.172905300299998, -1.9122880077000002) 3925122.59099\n",
      "1.0 (3.9567856714, -54.5216252759) 4032198.1887\n",
      "1.0 (-5.9139848579600001, -73.254616376000001) 4072181.04393\n",
      "1.0 (-29.9854628844, -68.110984932799994) 4115866.03179\n",
      "1.0 (-28.420624720799999, -49.0632636562) 4143688.44442\n",
      "1.0 (63.756832159200002, 149.850765333) 4365730.88018\n",
      "1.0 (38.816703355900003, 107.23607673399999) 4416811.30798\n",
      "1.0 (33.064037617099999, 114.92111837500001) 4428110.16745\n",
      "1.0 (55.0772334603, 102.57223678700001) 4457040.25012\n",
      "10 (90, 0) 4495872.59475\n"
     ]
    },
    {
     "data": {
      "text/plain": [
       "4495872.5947545879"
      ]
     },
     "execution_count": 26,
     "metadata": {},
     "output_type": "execute_result"
    }
   ],
   "source": [
    "weighted_trip_length(trip[['Latitude','Longitude']],trip.Weight.tolist())"
   ]
  },
  {
   "cell_type": "code",
   "execution_count": null,
   "metadata": {
    "collapsed": true
   },
   "outputs": [],
   "source": []
  },
  {
   "cell_type": "code",
   "execution_count": null,
   "metadata": {
    "collapsed": true
   },
   "outputs": [],
   "source": []
  },
  {
   "cell_type": "code",
   "execution_count": 8,
   "metadata": {
    "collapsed": false
   },
   "outputs": [
    {
     "data": {
      "text/plain": [
       "(array([], dtype=int64),)"
      ]
     },
     "execution_count": 8,
     "metadata": {},
     "output_type": "execute_result"
    }
   ],
   "source": [
    "np.where(np.sort(sample_sub.GiftId.unique()) != gifts.GiftId)"
   ]
  },
  {
   "cell_type": "code",
   "execution_count": null,
   "metadata": {
    "collapsed": true
   },
   "outputs": [],
   "source": [
    "29903395956.94750"
   ]
  }
 ],
 "metadata": {
  "kernelspec": {
   "display_name": "Python 3",
   "language": "python",
   "name": "python3"
  },
  "language_info": {
   "codemirror_mode": {
    "name": "ipython",
    "version": 3
   },
   "file_extension": ".py",
   "mimetype": "text/x-python",
   "name": "python",
   "nbconvert_exporter": "python",
   "pygments_lexer": "ipython3",
   "version": "3.5.1"
  }
 },
 "nbformat": 4,
 "nbformat_minor": 0
}
