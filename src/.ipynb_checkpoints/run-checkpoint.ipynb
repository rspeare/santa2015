{
 "cells": [
  {
   "cell_type": "code",
   "execution_count": 1,
   "metadata": {
    "collapsed": true
   },
   "outputs": [],
   "source": [
    "import pandas as pd\n",
    "import numpy as np\n",
    "import pickle"
   ]
  },
  {
   "cell_type": "code",
   "execution_count": 2,
   "metadata": {
    "collapsed": false
   },
   "outputs": [
    {
     "data": {
      "text/plain": [
       "<module 'mTSP' from '/Users/rspeare/Code/python/kaggle/santa/src/mTSP.py'>"
      ]
     },
     "execution_count": 2,
     "metadata": {},
     "output_type": "execute_result"
    }
   ],
   "source": [
    "import mTSP\n",
    "import imp\n",
    "imp.reload(mTSP)"
   ]
  },
  {
   "cell_type": "code",
   "execution_count": 3,
   "metadata": {
    "collapsed": false
   },
   "outputs": [],
   "source": [
    "import matplotlib.pyplot as plt\n",
    "%matplotlib inline"
   ]
  },
  {
   "cell_type": "code",
   "execution_count": 4,
   "metadata": {
    "collapsed": false
   },
   "outputs": [],
   "source": [
    "imp.reload(mTSP)\n",
    "m=mTSP.mission(20)\n",
    "#m.read_submission('../data/submission8.csv')\n",
    "#m.loss()"
   ]
  },
  {
   "cell_type": "code",
   "execution_count": 7,
   "metadata": {
    "collapsed": false
   },
   "outputs": [
    {
     "data": {
      "text/plain": [
       "678106990424.89148"
      ]
     },
     "execution_count": 7,
     "metadata": {},
     "output_type": "execute_result"
    }
   ],
   "source": [
    "m.init_small_trips(1500)"
   ]
  },
  {
   "cell_type": "code",
   "execution_count": 8,
   "metadata": {
    "collapsed": false
   },
   "outputs": [],
   "source": [
    "loads=m.check_loads()\n",
    "m.check_tmap()"
   ]
  },
  {
   "cell_type": "code",
   "execution_count": 9,
   "metadata": {
    "collapsed": false
   },
   "outputs": [
    {
     "data": {
      "image/png": "[encoded data removed]",
      "text/plain": [
       "<matplotlib.figure.Figure at 0x10f7b4358>"
      ]
     },
     "metadata": {},
     "output_type": "display_data"
    }
   ],
   "source": [
    "plt.hist(loads,30)\n",
    "plt.show()"
   ]
  },
  {
   "cell_type": "code",
   "execution_count": 10,
   "metadata": {
    "collapsed": false
   },
   "outputs": [
    {
     "name": "stdout",
     "output_type": "stream",
     "text": [
      "score: 597597697908.0 var2: 7.25424147125\n",
      "score: 540625539375.0 var2: 5.92337418707\n",
      "score: 495464591838.0 var2: 5.1271713545\n",
      "score: 459796392851.0 var2: 4.38488868584\n",
      "score: 429401312089.0 var2: 4.01448435256\n",
      "score: 403290815235.0 var2: 3.61604310133\n",
      "score: 381079894656.0 var2: 3.1789303953\n",
      "score: 361292236538.0 var2: 2.96845159083\n",
      "Log(T) 5.95424250944\n",
      "score: 344714249069.0 var2: 3.03548034122\n",
      "score: 329547719264.0 var2: 2.77734412811\n",
      "Log(T) 5.90848501888\n"
     ]
    }
   ],
   "source": [
    "#m2=10**4\n",
    "t=10**6\n",
    "m3=10**4\n",
    "for i in np.arange(10):\n",
    "    var2=m.burn_swap(m3,t)\n",
    "#    var3=m.burn_swap3(m3,t)\n",
    "    var=m.burn_merge(m3,t)\n",
    "    print('score: '+str(m.loss())+' var2: '+str(var2))#\n",
    "    m.check_tmap()\n",
    "    m.check_loads()\n",
    "    if (var2<3.0):\n",
    "        t*=.9\n",
    "        print('Log(T)',np.log(t)/np.log(10))"
   ]
  },
  {
   "cell_type": "code",
   "execution_count": 11,
   "metadata": {
    "collapsed": false
   },
   "outputs": [
    {
     "name": "stdout",
     "output_type": "stream",
     "text": [
      "1500\n"
     ]
    }
   ],
   "source": [
    "print(len(m.trips))"
   ]
  },
  {
   "cell_type": "code",
   "execution_count": 12,
   "metadata": {
    "collapsed": true
   },
   "outputs": [],
   "source": [
    "m.write_submission('../data/1500trips.csv')"
   ]
  },
  {
   "cell_type": "code",
   "execution_count": null,
   "metadata": {
    "collapsed": true
   },
   "outputs": [],
   "source": []
  }
 ],
 "metadata": {
  "kernelspec": {
   "display_name": "Python 3",
   "language": "python",
   "name": "python3"
  },
  "language_info": {
   "codemirror_mode": {
    "name": "ipython",
    "version": 3
   },
   "file_extension": ".py",
   "mimetype": "text/x-python",
   "name": "python",
   "nbconvert_exporter": "python",
   "pygments_lexer": "ipython3",
   "version": "3.5.1"
  }
 },
 "nbformat": 4,
 "nbformat_minor": 0
}
