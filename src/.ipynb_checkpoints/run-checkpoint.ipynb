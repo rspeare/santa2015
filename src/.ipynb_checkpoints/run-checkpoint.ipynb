{
 "cells": [
  {
   "cell_type": "code",
   "execution_count": 336,
   "metadata": {
    "collapsed": true
   },
   "outputs": [],
   "source": [
    "import numpy as np\n",
    "import pickle"
   ]
  },
  {
   "cell_type": "code",
   "execution_count": 347,
   "metadata": {
    "collapsed": false
   },
   "outputs": [
    {
     "data": {
      "text/plain": [
       "<module 'mTSP' from '/Users/rspeare/Code/python/kaggle/santa/src/mTSP.py'>"
      ]
     },
     "execution_count": 347,
     "metadata": {},
     "output_type": "execute_result"
    }
   ],
   "source": [
    "import mTSP\n",
    "import imp\n",
    "imp.reload(mTSP)"
   ]
  },
  {
   "cell_type": "code",
   "execution_count": 348,
   "metadata": {
    "collapsed": true
   },
   "outputs": [],
   "source": [
    "12395763029"
   ]
  },
  {
   "cell_type": "code",
   "execution_count": null,
   "metadata": {
    "collapsed": true
   },
   "outputs": [],
   "source": [
    "147128871504"
   ]
  },
  {
   "cell_type": "code",
   "execution_count": 349,
   "metadata": {
    "collapsed": false
   },
   "outputs": [],
   "source": [
    "m=mTSP.mission(20)"
   ]
  },
  {
   "cell_type": "code",
   "execution_count": 367,
   "metadata": {
    "collapsed": false
   },
   "outputs": [
    {
     "name": "stdout",
     "output_type": "stream",
     "text": [
      "trying initial trips of size,  47\n"
     ]
    },
    {
     "data": {
      "text/plain": [
       "325396877065.60278"
      ]
     },
     "execution_count": 367,
     "metadata": {},
     "output_type": "execute_result"
    }
   ],
   "source": [
    "m.init_trips(47)"
   ]
  },
  {
   "cell_type": "code",
   "execution_count": 370,
   "metadata": {
    "collapsed": false
   },
   "outputs": [
    {
     "name": "stdout",
     "output_type": "stream",
     "text": [
      "Log(T)=6.0 var=0.958626129223 score: 145866768805.0\n",
      "Log(T)=5.9956351946 var=0.958811207995 score: 144583176716.0\n",
      "Log(T)=5.9912703892 var=0.903264442114 score: 143188662545.0\n",
      "Log(T)=5.98690558379 var=0.885200611296 score: 141945489151.0\n",
      "Log(T)=5.98254077839 var=0.899712996034 score: 140771749064.0\n",
      "Log(T)=5.97817597299 var=0.850500527788 score: 139640108118.0\n",
      "Log(T)=5.97381116759 var=0.88700828413 score: 138396978353.0\n",
      "Log(T)=5.96944636218 var=0.865943330707 score: 137319327000.0\n",
      "Log(T)=5.96508155678 var=0.890176620284 score: 136212756067.0\n",
      "Log(T)=5.96071675138 var=0.85707224292 score: 135076811419.0\n",
      "Log(T)=5.95635194598 var=0.890667054526 score: 133923129180.0\n",
      "Log(T)=5.95198714057 var=0.818477503668 score: 132926968767.0\n",
      "Log(T)=5.94762233517 var=0.825637478761 score: 131898796494.0\n",
      "Log(T)=5.94325752977 var=0.850074237869 score: 130910751467.0\n",
      "Log(T)=5.93889272437 var=0.843064697711 score: 129926603733.0\n",
      "Log(T)=5.93452791896 var=0.836063013199 score: 128970773388.0\n",
      "Log(T)=5.93016311356 var=0.83847503147 score: 128124264797.0\n",
      "Log(T)=5.92579830816 var=0.788312528747 score: 127422200490.0\n",
      "Log(T)=5.92143350276 var=0.792741182569 score: 126615271738.0\n",
      "Log(T)=5.91706869735 var=0.838205076855 score: 125709450709.0\n",
      "Log(T)=5.91270389195 var=0.783524878637 score: 124870251721.0\n",
      "Log(T)=5.90833908655 var=0.809791298717 score: 124065180174.0\n",
      "Log(T)=5.90397428115 var=0.782828520164 score: 123357459599.0\n",
      "Log(T)=5.89960947574 var=0.798435521344 score: 122639262559.0\n",
      "Log(T)=5.89524467034 var=0.776842374963 score: 121989915579.0\n",
      "Log(T)=5.89087986494 var=0.829695358254 score: 121225643432.0\n",
      "Log(T)=5.88651505954 var=0.788347734652 score: 120465294857.0\n",
      "Log(T)=5.88215025413 var=0.774176234663 score: 119758109415.0\n",
      "Log(T)=5.87778544873 var=0.778281300516 score: 119085216216.0\n",
      "Log(T)=5.87342064333 var=0.737256442664 score: 118421937664.0\n",
      "Log(T)=5.86905583793 var=0.787817632147 score: 117774328548.0\n",
      "Log(T)=5.86469103252 var=0.782958837474 score: 117129028579.0\n",
      "Log(T)=5.86032622712 var=0.730927391491 score: 116544161555.0\n",
      "Log(T)=5.85596142172 var=0.759130193665 score: 115869659666.0\n",
      "Log(T)=5.85159661632 var=0.715616119899 score: 115336881304.0\n",
      "Log(T)=5.84723181091 var=0.715248911203 score: 114890830408.0\n",
      "Log(T)=5.84286700551 var=0.772862374847 score: 114351830474.0\n",
      "Log(T)=5.83850220011 var=0.770934795401 score: 113766451318.0\n",
      "Log(T)=5.83413739471 var=0.814395930276 score: 113094635162.0\n",
      "Log(T)=5.8297725893 var=0.746287369367 score: 112531210925.0\n",
      "Log(T)=5.8254077839 var=0.775979377616 score: 112001582677.0\n",
      "Log(T)=5.8210429785 var=0.766557844147 score: 111398992835.0\n",
      "Log(T)=5.8166781731 var=0.748455885939 score: 110912458630.0\n",
      "Log(T)=5.81231336769 var=0.773892299062 score: 110336279515.0\n",
      "Log(T)=5.80794856229 var=0.689532014779 score: 109872453399.0\n",
      "Log(T)=5.80358375689 var=0.730525339186 score: 109333584382.0\n",
      "Log(T)=5.79921895149 var=0.731023042378 score: 108938958947.0\n",
      "Log(T)=5.79485414608 var=0.719127832056 score: 108473830860.0\n",
      "Log(T)=5.79048934068 var=0.774833112403 score: 107949651854.0\n",
      "Log(T)=5.78612453528 var=0.72794982865 score: 107512895894.0\n",
      "Log(T)=5.78175972988 var=0.696099735515 score: 107053959260.0\n",
      "Log(T)=5.77739492448 var=0.752535670827 score: 106566025040.0\n",
      "Log(T)=5.77303011907 var=0.771552937378 score: 106018308618.0\n",
      "Log(T)=5.76866531367 var=0.780382670965 score: 105527508546.0\n",
      "Log(T)=5.76430050827 var=0.720490633403 score: 105051369634.0\n",
      "Log(T)=5.75993570287 var=0.746302295296 score: 104613573155.0\n",
      "Log(T)=5.75557089746 var=0.724640354772 score: 104170290728.0\n",
      "Log(T)=5.75120609206 var=0.787805332445 score: 103708966521.0\n",
      "Log(T)=5.74684128666 var=0.719922802621 score: 103327001323.0\n",
      "Log(T)=5.74247648126 var=0.69818771723 score: 102925240711.0\n",
      "Log(T)=5.73811167585 var=0.714876026087 score: 102493632808.0\n",
      "Log(T)=5.73374687045 var=0.746245189519 score: 102060517366.0\n",
      "Log(T)=5.72938206505 var=0.751851473636 score: 101617142606.0\n",
      "Log(T)=5.72501725965 var=0.705333359546 score: 101193424809.0\n",
      "Log(T)=5.72065245424 var=0.733595563017 score: 100741811074.0\n",
      "Log(T)=5.71628764884 var=0.694281273914 score: 100359420984.0\n",
      "Log(T)=5.71192284344 var=0.749503791867 score: 99933195673.9\n",
      "Log(T)=5.70755803804 var=0.728286976001 score: 99505642351.3\n",
      "Log(T)=5.70319323263 var=0.752364613092 score: 99142210561.5\n",
      "Log(T)=5.69882842723 var=0.721575828447 score: 98740438267.6\n",
      "Log(T)=5.69446362183 var=0.688709146032 score: 98329102512.8\n",
      "Log(T)=5.69009881643 var=0.779311695736 score: 97937511443.2\n",
      "Log(T)=5.68573401102 var=0.733280135484 score: 97534364710.5\n",
      "Log(T)=5.68136920562 var=0.685360017087 score: 97204051125.9\n",
      "Log(T)=5.67700440022 var=0.706125956772 score: 96821704939.2\n",
      "Log(T)=5.67263959482 var=0.664579125171 score: 96495264337.5\n",
      "Log(T)=5.66827478941 var=0.70182879706 score: 96146922596.9\n",
      "Log(T)=5.66390998401 var=0.723810292258 score: 95781149118.0\n",
      "Log(T)=5.65954517861 var=0.704881738026 score: 95386428848.1\n"
     ]
    },
    {
     "ename": "KeyboardInterrupt",
     "evalue": "",
     "output_type": "error",
     "traceback": [
      "\u001b[0;31m---------------------------------------------------------------------------\u001b[0m",
      "\u001b[0;31mKeyboardInterrupt\u001b[0m                         Traceback (most recent call last)",
      "\u001b[0;32m<ipython-input-370-08b45cfea4c1>\u001b[0m in \u001b[0;36m<module>\u001b[0;34m()\u001b[0m\n\u001b[1;32m      2\u001b[0m \u001b[0mm0\u001b[0m\u001b[0;34m=\u001b[0m\u001b[0;36m10\u001b[0m\u001b[0;34m**\u001b[0m\u001b[0;36m4\u001b[0m\u001b[0;34m\u001b[0m\u001b[0m\n\u001b[1;32m      3\u001b[0m \u001b[0;32mfor\u001b[0m \u001b[0mj\u001b[0m \u001b[0;32min\u001b[0m \u001b[0mnp\u001b[0m\u001b[0;34m.\u001b[0m\u001b[0marange\u001b[0m\u001b[0;34m(\u001b[0m\u001b[0;36m100\u001b[0m\u001b[0;34m)\u001b[0m\u001b[0;34m:\u001b[0m\u001b[0;34m\u001b[0m\u001b[0m\n\u001b[0;32m----> 4\u001b[0;31m     \u001b[0mvar\u001b[0m\u001b[0;34m=\u001b[0m\u001b[0mm\u001b[0m\u001b[0;34m.\u001b[0m\u001b[0mburn_in\u001b[0m\u001b[0;34m(\u001b[0m\u001b[0mm0\u001b[0m\u001b[0;34m,\u001b[0m\u001b[0mt\u001b[0m\u001b[0;34m)\u001b[0m\u001b[0;34m\u001b[0m\u001b[0m\n\u001b[0m\u001b[1;32m      5\u001b[0m     \u001b[0mprint\u001b[0m\u001b[0;34m(\u001b[0m\u001b[0;34m'Log(T)='\u001b[0m\u001b[0;34m+\u001b[0m\u001b[0mstr\u001b[0m\u001b[0;34m(\u001b[0m\u001b[0mnp\u001b[0m\u001b[0;34m.\u001b[0m\u001b[0mlog\u001b[0m\u001b[0;34m(\u001b[0m\u001b[0mt\u001b[0m\u001b[0;34m)\u001b[0m\u001b[0;34m/\u001b[0m\u001b[0mnp\u001b[0m\u001b[0;34m.\u001b[0m\u001b[0mlog\u001b[0m\u001b[0;34m(\u001b[0m\u001b[0;36m10\u001b[0m\u001b[0;34m)\u001b[0m\u001b[0;34m)\u001b[0m\u001b[0;34m+\u001b[0m\u001b[0;34m' var='\u001b[0m\u001b[0;34m+\u001b[0m\u001b[0mstr\u001b[0m\u001b[0;34m(\u001b[0m\u001b[0mvar\u001b[0m\u001b[0;34m)\u001b[0m\u001b[0;34m+\u001b[0m\u001b[0;34m' score: '\u001b[0m\u001b[0;34m+\u001b[0m\u001b[0mstr\u001b[0m\u001b[0;34m(\u001b[0m\u001b[0mm\u001b[0m\u001b[0;34m.\u001b[0m\u001b[0mWRW\u001b[0m\u001b[0;34m(\u001b[0m\u001b[0;34m)\u001b[0m\u001b[0;34m)\u001b[0m\u001b[0;34m)\u001b[0m\u001b[0;34m\u001b[0m\u001b[0m\n\u001b[1;32m      6\u001b[0m     \u001b[0;32mif\u001b[0m\u001b[0;34m(\u001b[0m\u001b[0mvar\u001b[0m \u001b[0;34m<\u001b[0m \u001b[0;36m3.0\u001b[0m\u001b[0;34m)\u001b[0m\u001b[0;34m:\u001b[0m\u001b[0;34m\u001b[0m\u001b[0m\n",
      "\u001b[0;32m/Users/rspeare/Code/python/kaggle/santa/src/mTSP.py\u001b[0m in \u001b[0;36mburn_in\u001b[0;34m(self, m0, Temp)\u001b[0m\n\u001b[1;32m    110\u001b[0m         \u001b[0mmu\u001b[0m\u001b[0;34m=\u001b[0m\u001b[0mnp\u001b[0m\u001b[0;34m.\u001b[0m\u001b[0mzeros\u001b[0m\u001b[0;34m(\u001b[0m\u001b[0mm0\u001b[0m\u001b[0;34m)\u001b[0m\u001b[0;34m\u001b[0m\u001b[0m\n\u001b[1;32m    111\u001b[0m         \u001b[0;32mfor\u001b[0m \u001b[0mi\u001b[0m \u001b[0;32min\u001b[0m \u001b[0mnp\u001b[0m\u001b[0;34m.\u001b[0m\u001b[0marange\u001b[0m\u001b[0;34m(\u001b[0m\u001b[0mm0\u001b[0m\u001b[0;34m)\u001b[0m\u001b[0;34m:\u001b[0m\u001b[0;34m\u001b[0m\u001b[0m\n\u001b[0;32m--> 112\u001b[0;31m             \u001b[0mmu\u001b[0m\u001b[0;34m[\u001b[0m\u001b[0mi\u001b[0m\u001b[0;34m]\u001b[0m\u001b[0;34m=\u001b[0m\u001b[0mself\u001b[0m\u001b[0;34m.\u001b[0m\u001b[0mpropose_swap\u001b[0m\u001b[0;34m(\u001b[0m\u001b[0mTemp\u001b[0m\u001b[0;34m)\u001b[0m\u001b[0;34m\u001b[0m\u001b[0m\n\u001b[0m\u001b[1;32m    113\u001b[0m         \u001b[0;32mreturn\u001b[0m \u001b[0mnp\u001b[0m\u001b[0;34m.\u001b[0m\u001b[0mstd\u001b[0m\u001b[0;34m(\u001b[0m\u001b[0mmu\u001b[0m\u001b[0;34m/\u001b[0m\u001b[0mTemp\u001b[0m\u001b[0;34m)\u001b[0m\u001b[0;34m\u001b[0m\u001b[0m\n\u001b[1;32m    114\u001b[0m \u001b[0;34m\u001b[0m\u001b[0m\n",
      "\u001b[0;32m/Users/rspeare/Code/python/kaggle/santa/src/mTSP.py\u001b[0m in \u001b[0;36mpropose_swap\u001b[0;34m(self, Temp)\u001b[0m\n\u001b[1;32m    121\u001b[0m             \u001b[0mprint\u001b[0m\u001b[0;34m(\u001b[0m\u001b[0;34m'bad lookup at'\u001b[0m\u001b[0;34m,\u001b[0m\u001b[0;34m[\u001b[0m\u001b[0mg1\u001b[0m\u001b[0;34m,\u001b[0m\u001b[0mg2\u001b[0m\u001b[0;34m]\u001b[0m\u001b[0;34m)\u001b[0m\u001b[0;34m\u001b[0m\u001b[0m\n\u001b[1;32m    122\u001b[0m \u001b[0;34m\u001b[0m\u001b[0m\n\u001b[0;32m--> 123\u001b[0;31m         \u001b[0md1\u001b[0m\u001b[0;34m=\u001b[0m\u001b[0mself\u001b[0m\u001b[0;34m.\u001b[0m\u001b[0mtrip_weariness\u001b[0m\u001b[0;34m(\u001b[0m\u001b[0mself\u001b[0m\u001b[0;34m.\u001b[0m\u001b[0mtrips\u001b[0m\u001b[0;34m[\u001b[0m\u001b[0mt1\u001b[0m\u001b[0;34m]\u001b[0m\u001b[0;34m,\u001b[0m\u001b[0mt1\u001b[0m\u001b[0;34m)\u001b[0m\u001b[0;34m+\u001b[0m\u001b[0mself\u001b[0m\u001b[0;34m.\u001b[0m\u001b[0mtrip_weariness\u001b[0m\u001b[0;34m(\u001b[0m\u001b[0mself\u001b[0m\u001b[0;34m.\u001b[0m\u001b[0mtrips\u001b[0m\u001b[0;34m[\u001b[0m\u001b[0mt2\u001b[0m\u001b[0;34m]\u001b[0m\u001b[0;34m,\u001b[0m\u001b[0mt2\u001b[0m\u001b[0;34m)\u001b[0m\u001b[0;34m\u001b[0m\u001b[0m\n\u001b[0m\u001b[1;32m    124\u001b[0m         \u001b[0mself\u001b[0m\u001b[0;34m.\u001b[0m\u001b[0mswap\u001b[0m\u001b[0;34m(\u001b[0m\u001b[0mg1\u001b[0m\u001b[0;34m,\u001b[0m\u001b[0mg2\u001b[0m\u001b[0;34m)\u001b[0m\u001b[0;34m\u001b[0m\u001b[0m\n\u001b[1;32m    125\u001b[0m         \u001b[0;32mtry\u001b[0m\u001b[0;34m:\u001b[0m\u001b[0;34m\u001b[0m\u001b[0m\n",
      "\u001b[0;32m/Users/rspeare/Code/python/kaggle/santa/src/mTSP.py\u001b[0m in \u001b[0;36mtrip_weariness\u001b[0;34m(self, gifts, ii)\u001b[0m\n\u001b[1;32m     71\u001b[0m         \u001b[0;32mfor\u001b[0m \u001b[0mg\u001b[0m \u001b[0;32min\u001b[0m \u001b[0;34m[\u001b[0m\u001b[0;36m0\u001b[0m\u001b[0;34m]\u001b[0m\u001b[0;34m+\u001b[0m\u001b[0mgifts\u001b[0m\u001b[0;34m:\u001b[0m\u001b[0;34m\u001b[0m\u001b[0m\n\u001b[1;32m     72\u001b[0m             \u001b[0mnext\u001b[0m\u001b[0;34m=\u001b[0m\u001b[0mg\u001b[0m\u001b[0;34m\u001b[0m\u001b[0m\n\u001b[0;32m---> 73\u001b[0;31m             \u001b[0mweary\u001b[0m\u001b[0;34m+=\u001b[0m\u001b[0mload\u001b[0m\u001b[0;34m*\u001b[0m\u001b[0mself\u001b[0m\u001b[0;34m.\u001b[0m\u001b[0mdist\u001b[0m\u001b[0;34m(\u001b[0m\u001b[0mprev\u001b[0m\u001b[0;34m,\u001b[0m\u001b[0mnext\u001b[0m\u001b[0;34m)\u001b[0m\u001b[0;34m\u001b[0m\u001b[0m\n\u001b[0m\u001b[1;32m     74\u001b[0m             \u001b[0mload\u001b[0m\u001b[0;34m+=\u001b[0m\u001b[0mself\u001b[0m\u001b[0;34m.\u001b[0m\u001b[0mwmap\u001b[0m\u001b[0;34m[\u001b[0m\u001b[0mnext\u001b[0m\u001b[0;34m]\u001b[0m\u001b[0;34m\u001b[0m\u001b[0m\n\u001b[1;32m     75\u001b[0m             \u001b[0mprev\u001b[0m\u001b[0;34m=\u001b[0m\u001b[0mnext\u001b[0m\u001b[0;34m\u001b[0m\u001b[0m\n",
      "\u001b[0;32m/Users/rspeare/Code/python/kaggle/santa/src/mTSP.py\u001b[0m in \u001b[0;36mdist\u001b[0;34m(self, g1, g2)\u001b[0m\n\u001b[1;32m     40\u001b[0m         \u001b[0mCompute\u001b[0m \u001b[0mthe\u001b[0m \u001b[0mHaversine\u001b[0m \u001b[0mdistance\u001b[0m \u001b[0mbetween\u001b[0m \u001b[0mtwo\u001b[0m \u001b[0mgifts\u001b[0m\u001b[0;34m\u001b[0m\u001b[0m\n\u001b[1;32m     41\u001b[0m         \"\"\"\n\u001b[0;32m---> 42\u001b[0;31m         \u001b[0;32mreturn\u001b[0m \u001b[0mhaversine\u001b[0m\u001b[0;34m(\u001b[0m\u001b[0mself\u001b[0m\u001b[0;34m.\u001b[0m\u001b[0mdmap\u001b[0m\u001b[0;34m[\u001b[0m\u001b[0mg1\u001b[0m\u001b[0;34m]\u001b[0m\u001b[0;34m,\u001b[0m\u001b[0mself\u001b[0m\u001b[0;34m.\u001b[0m\u001b[0mdmap\u001b[0m\u001b[0;34m[\u001b[0m\u001b[0mg2\u001b[0m\u001b[0;34m]\u001b[0m\u001b[0;34m)\u001b[0m\u001b[0;34m\u001b[0m\u001b[0m\n\u001b[0m\u001b[1;32m     43\u001b[0m \u001b[0;34m\u001b[0m\u001b[0m\n\u001b[1;32m     44\u001b[0m     \u001b[0;32mdef\u001b[0m \u001b[0mcheck_loads\u001b[0m\u001b[0;34m(\u001b[0m\u001b[0mself\u001b[0m\u001b[0;34m)\u001b[0m\u001b[0;34m:\u001b[0m\u001b[0;34m\u001b[0m\u001b[0m\n",
      "\u001b[0;31mKeyboardInterrupt\u001b[0m: "
     ]
    }
   ],
   "source": [
    "t=10**6.\n",
    "m0=10**4\n",
    "for j in np.arange(100): \n",
    "    var=m.burn_in(m0,t)\n",
    "    print('Log(T)='+str(np.log(t)/np.log(10))+' var='+str(var)+' score: '+str(m.WRW()))\n",
    "    if(var < 3.0):\n",
    "        t*=.99"
   ]
  },
  {
   "cell_type": "code",
   "execution_count": 398,
   "metadata": {
    "collapsed": false
   },
   "outputs": [],
   "source": [
    "f = open('sub.csv', 'w')"
   ]
  },
  {
   "cell_type": "code",
   "execution_count": 413,
   "metadata": {
    "collapsed": false
   },
   "outputs": [],
   "source": [
    "#m.trips"
   ]
  },
  {
   "cell_type": "code",
   "execution_count": 411,
   "metadata": {
    "collapsed": false
   },
   "outputs": [
    {
     "data": {
      "text/plain": [
       "100000"
      ]
     },
     "execution_count": 411,
     "metadata": {},
     "output_type": "execute_result"
    }
   ],
   "source": [
    "gifts=[item for sublist in m.trips for item in sublist]                                                          \n",
    "len(gifts)"
   ]
  },
  {
   "cell_type": "code",
   "execution_count": 408,
   "metadata": {
    "collapsed": false
   },
   "outputs": [
    {
     "data": {
      "text/plain": [
       "0"
      ]
     },
     "execution_count": 408,
     "metadata": {},
     "output_type": "execute_result"
    }
   ],
   "source": [
    "m.tmap[gifts[0]][0]"
   ]
  },
  {
   "cell_type": "code",
   "execution_count": 434,
   "metadata": {
    "collapsed": false
   },
   "outputs": [],
   "source": [
    "f = open('../data/sub.csv', 'w')\n",
    "f.write('GiftId,TripId\\n')\n",
    "for g in m.gifts:\n",
    "#    print(g)\n",
    "    f.writelines(str(g)+','+str(m.tmap[g][0])+'\\n')\n",
    "#        f.write(str(g)+','+str(i)+'\\n')"
   ]
  },
  {
   "cell_type": "code",
   "execution_count": 429,
   "metadata": {
    "collapsed": false
   },
   "outputs": [
    {
     "data": {
      "text/plain": [
       "0.30486488494257985"
      ]
     },
     "execution_count": 429,
     "metadata": {},
     "output_type": "execute_result"
    }
   ],
   "source": [
    "m.WRW()/311908901482.64100"
   ]
  },
  {
   "cell_type": "code",
   "execution_count": null,
   "metadata": {
    "collapsed": true
   },
   "outputs": [],
   "source": [
    "np.savetxt('submission0.csv',df1[df1['GiftId']!=-1][['GiftId','TripId']].values.astype(np.int),fmt='%2.0d',delimiter=',',header='GiftId,TripId')\n",
    "%more submission0.csv"
   ]
  }
 ],
 "metadata": {
  "kernelspec": {
   "display_name": "Python 3",
   "language": "python",
   "name": "python3"
  },
  "language_info": {
   "codemirror_mode": {
    "name": "ipython",
    "version": 3
   },
   "file_extension": ".py",
   "mimetype": "text/x-python",
   "name": "python",
   "nbconvert_exporter": "python",
   "pygments_lexer": "ipython3",
   "version": "3.5.1"
  }
 },
 "nbformat": 4,
 "nbformat_minor": 0
}
