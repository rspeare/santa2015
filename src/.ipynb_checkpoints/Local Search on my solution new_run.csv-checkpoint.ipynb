{
 "cells": [
  {
   "cell_type": "code",
   "execution_count": 1,
   "metadata": {
    "collapsed": true
   },
   "outputs": [],
   "source": [
    "import numpy as np\n",
    "from sklearn.cluster import KMeans\n",
    "import matplotlib.pyplot as plt\n",
    "import pandas as pd\n",
    "%matplotlib inline"
   ]
  },
  {
   "cell_type": "code",
   "execution_count": 2,
   "metadata": {
    "collapsed": true
   },
   "outputs": [],
   "source": [
    "giftsDF=pd.read_csv('../data/gifts.csv')\n",
    "sampleDF=pd.read_csv('../data/sample_submission.csv')"
   ]
  },
  {
   "cell_type": "code",
   "execution_count": 3,
   "metadata": {
    "collapsed": false
   },
   "outputs": [
    {
     "data": {
      "text/plain": [
       "<module 'mTSP' from '/Users/rspeare/Code/python/kaggle/santa/src/mTSP.py'>"
      ]
     },
     "execution_count": 3,
     "metadata": {},
     "output_type": "execute_result"
    }
   ],
   "source": [
    "import mTSP\n",
    "import imp\n",
    "imp.reload(mTSP)"
   ]
  },
  {
   "cell_type": "code",
   "execution_count": 4,
   "metadata": {
    "collapsed": false
   },
   "outputs": [
    {
     "data": {
      "text/plain": [
       "234325423593.71149"
      ]
     },
     "execution_count": 4,
     "metadata": {},
     "output_type": "execute_result"
    }
   ],
   "source": [
    "m=mTSP.mission(10)\n",
    "#m.read_submission('../data/2002.csv')\n",
    "m.init_trips_by_longitude()"
   ]
  },
  {
   "cell_type": "code",
   "execution_count": 5,
   "metadata": {
    "collapsed": false
   },
   "outputs": [
    {
     "name": "stdout",
     "output_type": "stream",
     "text": [
      "188665165742.0\n"
     ]
    }
   ],
   "source": [
    "#m.reorder_all_trips()\n",
    "m.reorder_all_trips()\n",
    "print(m.loss())\n",
    "lds=m.check_loads()\n",
    "m.check_tmap()"
   ]
  },
  {
   "cell_type": "code",
   "execution_count": 29,
   "metadata": {
    "collapsed": false
   },
   "outputs": [
    {
     "name": "stdout",
     "output_type": "stream",
     "text": [
      "getting ready to index trips\n",
      "indexing now...\n",
      "13841758314.0\n",
      "8398\n"
     ]
    }
   ],
   "source": [
    "#m.read_submission('../data/kmeans_2000_greedy.csv')\n",
    "fname='../data/2002.csv'\n",
    "m.read_submission(fname)\n",
    "m.check_loads()\n",
    "m.check_tmap()\n",
    "print(m.loss())\n",
    "print(len(m.trips))\n"
   ]
  },
  {
   "cell_type": "code",
   "execution_count": 30,
   "metadata": {
    "collapsed": false
   },
   "outputs": [
    {
     "name": "stdout",
     "output_type": "stream",
     "text": [
      "score : 13841852558.0 temp: 3162.2776601683795 var 0.044181537452\n",
      "score : 13842038719.0 temp: 3130.654883566696 var 0.0520694581354\n",
      "score : 13842047054.5 temp: 3099.348334731029 var 0.0351857309079\n",
      "score : 13842129884.5 temp: 3068.3548513837186 var 0.0256449516469\n",
      "score : 13842190825.1 temp: 3037.6713028698814 var 0.0274958588863\n",
      "score : 13842233162.2 temp: 3007.2945898411826 var 0.0363077381415\n",
      "score : 13842287025.6 temp: 2977.2216439427707 var 0.00740472476305\n",
      "score : 13842269285.2 temp: 2947.449427503343 var 0.016334932904\n",
      "score : 13842370040.4 temp: 2917.9749332283095 var 0.0524553973673\n",
      "score : 13842452647.4 temp: 2888.795183896026 var 0.0157570474388\n",
      "writing to file...\n",
      "getting ready to index trips\n",
      "indexing now...\n",
      "number of trips  8392\n",
      "score : 13842497668.2 temp: 2859.907232057066 var 0.0338449119505\n",
      "score : 13842582393.7 temp: 2831.3081597364953 var 0.0100456871289\n",
      "score : 13842548310.9 temp: 2802.9950781391303 var 0.045523484327\n",
      "score : 13842595601.1 temp: 2774.965127357739 var 0.0604810622615\n",
      "score : 13842632744.5 temp: 2747.2154760841618 var 0.0464845188997\n",
      "score : 13842619140.9 temp: 2719.7433213233203 var 0.0310031994669\n",
      "score : 13842700793.5 temp: 2692.545888110087 var 0.025269491115\n",
      "score : 13842711052.7 temp: 2665.6204292289863 var 0.0245790760124\n",
      "score : 13842722185.3 temp: 2638.964224936696 var 0.0107763307868\n",
      "score : 13842800103.2 temp: 2612.574582687329 var 0.00861924873799\n",
      "writing to file...\n",
      "getting ready to index trips\n",
      "indexing now...\n",
      "number of trips  8386\n",
      "score : 13842844416.9 temp: 2586.4488368604557 var 0.0718219750018\n",
      "score : 13842840582.6 temp: 2560.584348491851 var 0.0340743934752\n",
      "score : 13842834245.0 temp: 2534.978505006932 var 0.0250735026151\n",
      "score : 13842837533.3 temp: 2509.628719956863 var 0.0433065615229\n",
      "score : 13842860064.8 temp: 2484.5324327572944 var 0.0417303941408\n",
      "score : 13842894877.5 temp: 2459.6871084297213 var 0.0359461859116\n",
      "score : 13842926730.1 temp: 2435.090237345424 var 0.0164035703322\n",
      "score : 13842826341.9 temp: 2410.73933497197 var 0.0659214326642\n",
      "score : 13842802787.3 temp: 2386.6319416222505 var 0.0412910454897\n",
      "score : 13842851357.0 temp: 2362.7656222060277 var 0.0260092058415\n",
      "writing to file...\n",
      "getting ready to index trips\n",
      "indexing now...\n",
      "number of trips  8380\n",
      "score : 13842860285.1 temp: 2339.137965983967 var 0.00601297831845\n",
      "score : 13842857253.0 temp: 2315.7465863241273 var 0.0270878760115\n",
      "score : 13842780997.6 temp: 2292.589120460886 var 0.0264885227869\n",
      "score : 13842692651.8 temp: 2269.663229256277 var 0.00740833444313\n",
      "score : 13842688454.3 temp: 2246.9665969637144 var 0.0307366372823\n",
      "score : 13842694587.4 temp: 2224.496930994077 var 0.00177401543642\n",
      "score : 13842632359.2 temp: 2202.2519616841364 var 0.0289194406043\n",
      "score : 13842608412.4 temp: 2180.229442067295 var 0.0242310482352\n",
      "score : 13842633068.7 temp: 2158.4271476466224 var 0.0232858956229\n",
      "score : 13842595357.5 temp: 2136.842876170156 var 0.0857255137649\n",
      "writing to file...\n",
      "getting ready to index trips\n",
      "indexing now...\n",
      "number of trips  8372\n",
      "score : 13842488733.0 temp: 2115.4744474084546 var 0.020122204599\n",
      "score : 13842401731.9 temp: 2094.31970293437 var 0.0304904384942\n",
      "score : 13842435923.2 temp: 2073.3765059050265 var 0.0\n",
      "score : 13842397853.7 temp: 2052.6427408459763 var 0.0258149817465\n",
      "score : 13842322998.3 temp: 2032.1163134375165 var 0.0272751816842\n",
      "score : 13842291502.6 temp: 2011.7951503031413 var 0.0428529285928\n",
      "score : 13842313514.0 temp: 1991.6771988001099 var 0.0224277412371\n",
      "score : 13842285128.5 temp: 1971.7604268121088 var 0.0212839681474\n",
      "score : 13842288595.9 temp: 1952.0428225439878 var 0.043139433821\n",
      "score : 13842229404.2 temp: 1932.5223943185479 var 0.0491142340829\n",
      "writing to file...\n",
      "getting ready to index trips\n",
      "indexing now...\n",
      "number of trips  8367\n",
      "score : 13842149462.8 temp: 1913.1971703753625 var 0.0445722841146\n",
      "score : 13842135879.7 temp: 1894.0651986716089 var 0.0231508035218\n",
      "score : 13842150910.9 temp: 1875.1245466848927 var 0.0164876776014\n",
      "score : 13842105234.6 temp: 1856.3733012180437 var 0.0174182531401\n",
      "score : 13842034867.4 temp: 1837.8095682058633 var 0.00865569056894\n",
      "score : 13841984611.4 temp: 1819.4314725238046 var 0.037472536762\n",
      "score : 13841937545.7 temp: 1801.2371577985666 var 0.0251908661732\n"
     ]
    },
    {
     "ename": "KeyboardInterrupt",
     "evalue": "",
     "output_type": "error",
     "traceback": [
      "\u001b[0;31m---------------------------------------------------------------------------\u001b[0m",
      "\u001b[0;31mKeyboardInterrupt\u001b[0m                         Traceback (most recent call last)",
      "\u001b[0;32m<ipython-input-30-1bc7292c6299>\u001b[0m in \u001b[0;36m<module>\u001b[0;34m()\u001b[0m\n\u001b[1;32m      7\u001b[0m     \u001b[0mm\u001b[0m\u001b[0;34m.\u001b[0m\u001b[0mburn_merge\u001b[0m\u001b[0;34m(\u001b[0m\u001b[0mm0\u001b[0m\u001b[0;34m,\u001b[0m\u001b[0mt\u001b[0m\u001b[0;34m)\u001b[0m\u001b[0;34m\u001b[0m\u001b[0m\n\u001b[1;32m      8\u001b[0m     \u001b[0mvar\u001b[0m\u001b[0;34m=\u001b[0m\u001b[0mm\u001b[0m\u001b[0;34m.\u001b[0m\u001b[0mburn_Kswap\u001b[0m\u001b[0;34m(\u001b[0m\u001b[0;36m3\u001b[0m\u001b[0;34m,\u001b[0m\u001b[0mm0\u001b[0m\u001b[0;34m,\u001b[0m\u001b[0mt\u001b[0m\u001b[0;34m,\u001b[0m\u001b[0mm\u001b[0m\u001b[0;34m.\u001b[0m\u001b[0mgifts\u001b[0m\u001b[0;34m)\u001b[0m\u001b[0;34m\u001b[0m\u001b[0m\n\u001b[0;32m----> 9\u001b[0;31m     \u001b[0mm\u001b[0m\u001b[0;34m.\u001b[0m\u001b[0mburn_merge\u001b[0m\u001b[0;34m(\u001b[0m\u001b[0;36m10\u001b[0m\u001b[0;34m*\u001b[0m\u001b[0mm0\u001b[0m\u001b[0;34m,\u001b[0m\u001b[0mt\u001b[0m\u001b[0;34m)\u001b[0m\u001b[0;34m\u001b[0m\u001b[0m\n\u001b[0m\u001b[1;32m     10\u001b[0m     \u001b[0mm\u001b[0m\u001b[0;34m.\u001b[0m\u001b[0mreorder_all_trips\u001b[0m\u001b[0;34m(\u001b[0m\u001b[0;34m)\u001b[0m\u001b[0;34m\u001b[0m\u001b[0m\n\u001b[1;32m     11\u001b[0m     \u001b[0mm\u001b[0m\u001b[0;34m.\u001b[0m\u001b[0mcheck_tmap\u001b[0m\u001b[0;34m(\u001b[0m\u001b[0;34m)\u001b[0m\u001b[0;34m\u001b[0m\u001b[0m\n",
      "\u001b[0;32m/Users/rspeare/Code/python/kaggle/santa/src/mTSP.py\u001b[0m in \u001b[0;36mburn_merge\u001b[0;34m(self, m0, Temp)\u001b[0m\n\u001b[1;32m    279\u001b[0m         \u001b[0mmu\u001b[0m\u001b[0;34m=\u001b[0m\u001b[0mnp\u001b[0m\u001b[0;34m.\u001b[0m\u001b[0mzeros\u001b[0m\u001b[0;34m(\u001b[0m\u001b[0mm0\u001b[0m\u001b[0;34m)\u001b[0m\u001b[0;34m\u001b[0m\u001b[0m\n\u001b[1;32m    280\u001b[0m \u001b[0;34m\u001b[0m\u001b[0m\n\u001b[0;32m--> 281\u001b[0;31m         \u001b[0;32mfor\u001b[0m \u001b[0mi\u001b[0m \u001b[0;32min\u001b[0m \u001b[0mnp\u001b[0m\u001b[0;34m.\u001b[0m\u001b[0marange\u001b[0m\u001b[0;34m(\u001b[0m\u001b[0mm0\u001b[0m\u001b[0;34m)\u001b[0m\u001b[0;34m:\u001b[0m\u001b[0;34m\u001b[0m\u001b[0m\n\u001b[0m\u001b[1;32m    282\u001b[0m             \u001b[0mlengths\u001b[0m\u001b[0;34m=\u001b[0m\u001b[0mnp\u001b[0m\u001b[0;34m.\u001b[0m\u001b[0marray\u001b[0m\u001b[0;34m(\u001b[0m\u001b[0;34m[\u001b[0m\u001b[0mlen\u001b[0m\u001b[0;34m(\u001b[0m\u001b[0mt\u001b[0m\u001b[0;34m)\u001b[0m \u001b[0;32mfor\u001b[0m \u001b[0mt\u001b[0m \u001b[0;32min\u001b[0m \u001b[0mself\u001b[0m\u001b[0;34m.\u001b[0m\u001b[0mtrips\u001b[0m\u001b[0;34m]\u001b[0m\u001b[0;34m)\u001b[0m\u001b[0;34m\u001b[0m\u001b[0m\n\u001b[1;32m    283\u001b[0m             \u001b[0msindex\u001b[0m\u001b[0;34m=\u001b[0m\u001b[0mnp\u001b[0m\u001b[0;34m.\u001b[0m\u001b[0margsort\u001b[0m\u001b[0;34m(\u001b[0m\u001b[0mlengths\u001b[0m\u001b[0;34m)\u001b[0m\u001b[0;34m\u001b[0m\u001b[0m\n",
      "\u001b[0;32m/Users/rspeare/Code/python/kaggle/santa/src/mTSP.py\u001b[0m in \u001b[0;36mpropose_merge\u001b[0;34m(self, Temp)\u001b[0m\n\u001b[1;32m    440\u001b[0m             \u001b[0mg\u001b[0m\u001b[0;34m=\u001b[0m\u001b[0mself\u001b[0m\u001b[0;34m.\u001b[0m\u001b[0mtrips\u001b[0m\u001b[0;34m[\u001b[0m\u001b[0mt\u001b[0m\u001b[0;34m]\u001b[0m\u001b[0;34m[\u001b[0m\u001b[0mi\u001b[0m\u001b[0;34m]\u001b[0m\u001b[0;34m\u001b[0m\u001b[0m\n\u001b[1;32m    441\u001b[0m             \u001b[0mself\u001b[0m\u001b[0;34m.\u001b[0m\u001b[0mtmap\u001b[0m\u001b[0;34m[\u001b[0m\u001b[0mg\u001b[0m\u001b[0;34m]\u001b[0m\u001b[0;34m=\u001b[0m\u001b[0;34m[\u001b[0m\u001b[0mt\u001b[0m\u001b[0;34m,\u001b[0m\u001b[0mi\u001b[0m\u001b[0;34m]\u001b[0m\u001b[0;34m\u001b[0m\u001b[0m\n\u001b[0;32m--> 442\u001b[0;31m     \u001b[0;32mdef\u001b[0m \u001b[0mindex_trips\u001b[0m\u001b[0;34m(\u001b[0m\u001b[0mself\u001b[0m\u001b[0;34m)\u001b[0m\u001b[0;34m:\u001b[0m\u001b[0;34m\u001b[0m\u001b[0m\n\u001b[0m\u001b[1;32m    443\u001b[0m         \u001b[0mself\u001b[0m\u001b[0;34m.\u001b[0m\u001b[0mtmap\u001b[0m\u001b[0;34m=\u001b[0m\u001b[0;34m{\u001b[0m\u001b[0;34m}\u001b[0m\u001b[0;34m\u001b[0m\u001b[0m\n\u001b[1;32m    444\u001b[0m         \u001b[0mprint\u001b[0m\u001b[0;34m(\u001b[0m\u001b[0;34m'indexing now...'\u001b[0m\u001b[0;34m)\u001b[0m\u001b[0;34m\u001b[0m\u001b[0m\n",
      "\u001b[0;32m/Users/rspeare/Code/python/kaggle/santa/src/mTSP.py\u001b[0m in \u001b[0;36m<listcomp>\u001b[0;34m(.0)\u001b[0m\n\u001b[1;32m    440\u001b[0m             \u001b[0mg\u001b[0m\u001b[0;34m=\u001b[0m\u001b[0mself\u001b[0m\u001b[0;34m.\u001b[0m\u001b[0mtrips\u001b[0m\u001b[0;34m[\u001b[0m\u001b[0mt\u001b[0m\u001b[0;34m]\u001b[0m\u001b[0;34m[\u001b[0m\u001b[0mi\u001b[0m\u001b[0;34m]\u001b[0m\u001b[0;34m\u001b[0m\u001b[0m\n\u001b[1;32m    441\u001b[0m             \u001b[0mself\u001b[0m\u001b[0;34m.\u001b[0m\u001b[0mtmap\u001b[0m\u001b[0;34m[\u001b[0m\u001b[0mg\u001b[0m\u001b[0;34m]\u001b[0m\u001b[0;34m=\u001b[0m\u001b[0;34m[\u001b[0m\u001b[0mt\u001b[0m\u001b[0;34m,\u001b[0m\u001b[0mi\u001b[0m\u001b[0;34m]\u001b[0m\u001b[0;34m\u001b[0m\u001b[0m\n\u001b[0;32m--> 442\u001b[0;31m     \u001b[0;32mdef\u001b[0m \u001b[0mindex_trips\u001b[0m\u001b[0;34m(\u001b[0m\u001b[0mself\u001b[0m\u001b[0;34m)\u001b[0m\u001b[0;34m:\u001b[0m\u001b[0;34m\u001b[0m\u001b[0m\n\u001b[0m\u001b[1;32m    443\u001b[0m         \u001b[0mself\u001b[0m\u001b[0;34m.\u001b[0m\u001b[0mtmap\u001b[0m\u001b[0;34m=\u001b[0m\u001b[0;34m{\u001b[0m\u001b[0;34m}\u001b[0m\u001b[0;34m\u001b[0m\u001b[0m\n\u001b[1;32m    444\u001b[0m         \u001b[0mprint\u001b[0m\u001b[0;34m(\u001b[0m\u001b[0;34m'indexing now...'\u001b[0m\u001b[0;34m)\u001b[0m\u001b[0;34m\u001b[0m\u001b[0m\n",
      "\u001b[0;32m/Users/rspeare/Code/python/kaggle/santa/src/mTSP.py\u001b[0m in \u001b[0;36mtrip_weariness\u001b[0;34m(self, gifts, ii)\u001b[0m\n\u001b[1;32m    164\u001b[0m         \u001b[0;32mif\u001b[0m \u001b[0;34m(\u001b[0m\u001b[0mlen\u001b[0m\u001b[0;34m(\u001b[0m\u001b[0mgifts\u001b[0m\u001b[0;34m)\u001b[0m\u001b[0;34m==\u001b[0m\u001b[0;36m0\u001b[0m\u001b[0;34m)\u001b[0m\u001b[0;34m:\u001b[0m\u001b[0;34m\u001b[0m\u001b[0m\n\u001b[1;32m    165\u001b[0m             \u001b[0;32mreturn\u001b[0m \u001b[0;36m0\u001b[0m\u001b[0;34m\u001b[0m\u001b[0m\n\u001b[0;32m--> 166\u001b[0;31m         \u001b[0mself\u001b[0m\u001b[0;34m.\u001b[0m\u001b[0mcheck_trip_load\u001b[0m\u001b[0;34m(\u001b[0m\u001b[0mgifts\u001b[0m\u001b[0;34m,\u001b[0m\u001b[0mii\u001b[0m\u001b[0;34m)\u001b[0m\u001b[0;34m\u001b[0m\u001b[0m\n\u001b[0m\u001b[1;32m    167\u001b[0m \u001b[0;34m\u001b[0m\u001b[0m\n\u001b[1;32m    168\u001b[0m         \u001b[0mdist\u001b[0m\u001b[0;34m=\u001b[0m\u001b[0;36m0.0\u001b[0m\u001b[0;34m\u001b[0m\u001b[0m\n",
      "\u001b[0;32m/Users/rspeare/Code/python/kaggle/santa/src/mTSP.py\u001b[0m in \u001b[0;36mcheck_trip_load\u001b[0;34m(self, trip, i)\u001b[0m\n\u001b[1;32m    145\u001b[0m         \u001b[0ms\u001b[0m\u001b[0;34m=\u001b[0m\u001b[0;36m0\u001b[0m\u001b[0;34m\u001b[0m\u001b[0m\n\u001b[1;32m    146\u001b[0m         \u001b[0;32mfor\u001b[0m \u001b[0mstop\u001b[0m \u001b[0;32min\u001b[0m \u001b[0mtrip\u001b[0m\u001b[0;34m:\u001b[0m\u001b[0;34m\u001b[0m\u001b[0m\n\u001b[0;32m--> 147\u001b[0;31m             \u001b[0ms\u001b[0m\u001b[0;34m+=\u001b[0m\u001b[0mself\u001b[0m\u001b[0;34m.\u001b[0m\u001b[0mwmap\u001b[0m\u001b[0;34m[\u001b[0m\u001b[0mstop\u001b[0m\u001b[0;34m]\u001b[0m\u001b[0;34m\u001b[0m\u001b[0m\n\u001b[0m\u001b[1;32m    148\u001b[0m             \u001b[0;32mif\u001b[0m \u001b[0;34m(\u001b[0m\u001b[0ms\u001b[0m \u001b[0;34m>\u001b[0m \u001b[0mself\u001b[0m\u001b[0;34m.\u001b[0m\u001b[0mlimit\u001b[0m\u001b[0;34m)\u001b[0m\u001b[0;34m:\u001b[0m\u001b[0;34m\u001b[0m\u001b[0m\n\u001b[1;32m    149\u001b[0m                 \u001b[0;32mraise\u001b[0m \u001b[0mValueError\u001b[0m\u001b[0;34m(\u001b[0m\u001b[0mstr\u001b[0m\u001b[0;34m(\u001b[0m\u001b[0ms\u001b[0m\u001b[0;34m)\u001b[0m\u001b[0;34m+\u001b[0m\u001b[0;34m' of mass in trip '\u001b[0m\u001b[0;34m+\u001b[0m\u001b[0mstr\u001b[0m\u001b[0;34m(\u001b[0m\u001b[0mi\u001b[0m\u001b[0;34m)\u001b[0m\u001b[0;34m+\u001b[0m\u001b[0;34m' with packages '\u001b[0m\u001b[0;34m+\u001b[0m\u001b[0mstr\u001b[0m\u001b[0;34m(\u001b[0m\u001b[0mtrip\u001b[0m\u001b[0;34m)\u001b[0m\u001b[0;34m+\u001b[0m\u001b[0;34m' and weight '\u001b[0m\u001b[0;34m)\u001b[0m\u001b[0;34m\u001b[0m\u001b[0m\n",
      "\u001b[0;31mKeyboardInterrupt\u001b[0m: "
     ]
    }
   ],
   "source": [
    "import numpy as np\n",
    "t=10**3.5\n",
    "m0=10**4\n",
    "i=0\n",
    "while(True):\n",
    "    i+=1\n",
    "    m.burn_merge(m0,t)\n",
    "    var=m.burn_Kswap(3,m0,t,m.gifts)\n",
    "    m.burn_merge(10*m0,t)\n",
    "    m.reorder_all_trips()\n",
    "    m.check_tmap()\n",
    "    m.check_loads()\n",
    "    print('score : '+str(m.loss())+' temp: '+str(t)+' var '+str(var))\n",
    "    if (var < 3.0):\n",
    "        t*=0.99\n",
    "    if (i %10 ==0):\n",
    "        print('writing to file...')\n",
    "        m.write_submission(fname)\n",
    "        m.read_submission(fname)\n",
    "        print('number of trips ',len(m.trips))"
   ]
  },
  {
   "cell_type": "code",
   "execution_count": null,
   "metadata": {
    "collapsed": false
   },
   "outputs": [],
   "source": []
  },
  {
   "cell_type": "code",
   "execution_count": null,
   "metadata": {
    "collapsed": false
   },
   "outputs": [],
   "source": []
  },
  {
   "cell_type": "code",
   "execution_count": null,
   "metadata": {
    "collapsed": true
   },
   "outputs": [],
   "source": []
  },
  {
   "cell_type": "code",
   "execution_count": 162,
   "metadata": {
    "collapsed": false
   },
   "outputs": [],
   "source": [
    "for i in np.arange(10):\n",
    "    m.burn_merge(2*10**5,10**3)\n",
    "    m.check_tmap()\n",
    "    m.check_loads()\n",
    "    print('score : ',m.loss())"
   ]
  },
  {
   "cell_type": "code",
   "execution_count": 156,
   "metadata": {
    "collapsed": false
   },
   "outputs": [],
   "source": [
    "m.check_tmap()\n",
    "lds=m.check_loads()\n",
    "m.write_submission('../data/2002.csv')"
   ]
  },
  {
   "cell_type": "code",
   "execution_count": 21,
   "metadata": {
    "collapsed": false
   },
   "outputs": [],
   "source": [
    "X=giftsDF[['Latitude','Longitude']].values"
   ]
  },
  {
   "cell_type": "code",
   "execution_count": 74,
   "metadata": {
    "collapsed": false
   },
   "outputs": [],
   "source": [
    "est=KMeans(3000)"
   ]
  },
  {
   "cell_type": "code",
   "execution_count": 75,
   "metadata": {
    "collapsed": false
   },
   "outputs": [
    {
     "data": {
      "text/plain": [
       "3000"
      ]
     },
     "execution_count": 75,
     "metadata": {},
     "output_type": "execute_result"
    }
   ],
   "source": [
    "est.n_clusters"
   ]
  },
  {
   "cell_type": "code",
   "execution_count": 76,
   "metadata": {
    "collapsed": false
   },
   "outputs": [
    {
     "data": {
      "text/plain": [
       "KMeans(copy_x=True, init='k-means++', max_iter=300, n_clusters=3000,\n",
       "    n_init=10, n_jobs=1, precompute_distances='auto', random_state=None,\n",
       "    tol=0.0001, verbose=0)"
      ]
     },
     "execution_count": 76,
     "metadata": {},
     "output_type": "execute_result"
    }
   ],
   "source": [
    "est.fit(X)"
   ]
  },
  {
   "cell_type": "code",
   "execution_count": 77,
   "metadata": {
    "collapsed": true
   },
   "outputs": [],
   "source": [
    "y=est.predict(X)"
   ]
  },
  {
   "cell_type": "code",
   "execution_count": 78,
   "metadata": {
    "collapsed": false
   },
   "outputs": [],
   "source": [
    "sampleDF.TripId=y"
   ]
  },
  {
   "cell_type": "code",
   "execution_count": 79,
   "metadata": {
    "collapsed": false
   },
   "outputs": [
    {
     "data": {
      "text/html": [
       "<div>\n",
       "<table border=\"1\" class=\"dataframe\">\n",
       "  <thead>\n",
       "    <tr style=\"text-align: right;\">\n",
       "      <th></th>\n",
       "      <th>GiftId</th>\n",
       "      <th>Latitude</th>\n",
       "      <th>Longitude</th>\n",
       "      <th>Weight</th>\n",
       "    </tr>\n",
       "  </thead>\n",
       "  <tbody>\n",
       "    <tr>\n",
       "      <th>0</th>\n",
       "      <td>1</td>\n",
       "      <td>16.345769</td>\n",
       "      <td>6.303545</td>\n",
       "      <td>1.000000</td>\n",
       "    </tr>\n",
       "    <tr>\n",
       "      <th>1</th>\n",
       "      <td>2</td>\n",
       "      <td>12.494749</td>\n",
       "      <td>28.626396</td>\n",
       "      <td>15.524480</td>\n",
       "    </tr>\n",
       "    <tr>\n",
       "      <th>2</th>\n",
       "      <td>3</td>\n",
       "      <td>27.794615</td>\n",
       "      <td>60.032495</td>\n",
       "      <td>8.058499</td>\n",
       "    </tr>\n",
       "    <tr>\n",
       "      <th>3</th>\n",
       "      <td>4</td>\n",
       "      <td>44.426992</td>\n",
       "      <td>110.114216</td>\n",
       "      <td>1.000000</td>\n",
       "    </tr>\n",
       "    <tr>\n",
       "      <th>4</th>\n",
       "      <td>5</td>\n",
       "      <td>-69.854088</td>\n",
       "      <td>87.946878</td>\n",
       "      <td>25.088892</td>\n",
       "    </tr>\n",
       "  </tbody>\n",
       "</table>\n",
       "</div>"
      ],
      "text/plain": [
       "   GiftId   Latitude   Longitude     Weight\n",
       "0       1  16.345769    6.303545   1.000000\n",
       "1       2  12.494749   28.626396  15.524480\n",
       "2       3  27.794615   60.032495   8.058499\n",
       "3       4  44.426992  110.114216   1.000000\n",
       "4       5 -69.854088   87.946878  25.088892"
      ]
     },
     "execution_count": 79,
     "metadata": {},
     "output_type": "execute_result"
    }
   ],
   "source": [
    "giftsDF.head()"
   ]
  },
  {
   "cell_type": "code",
   "execution_count": 80,
   "metadata": {
    "collapsed": false
   },
   "outputs": [],
   "source": [
    "XX=np.vstack([giftsDF.GiftId,y,giftsDF.Weight]).T"
   ]
  },
  {
   "cell_type": "code",
   "execution_count": 81,
   "metadata": {
    "collapsed": false
   },
   "outputs": [
    {
     "data": {
      "text/plain": [
       "array([[  1.00000000e+00,   2.65200000e+03,   1.00000000e+00],\n",
       "       [  2.00000000e+00,   2.62600000e+03,   1.55244796e+01],\n",
       "       [  3.00000000e+00,   1.99500000e+03,   8.05849862e+00],\n",
       "       ..., \n",
       "       [  9.99980000e+04,   5.17000000e+02,   1.00000000e+00],\n",
       "       [  9.99990000e+04,   2.98900000e+03,   1.00000000e+00],\n",
       "       [  1.00000000e+05,   2.07500000e+03,   1.00000000e+00]])"
      ]
     },
     "execution_count": 81,
     "metadata": {},
     "output_type": "execute_result"
    }
   ],
   "source": [
    "XX"
   ]
  },
  {
   "cell_type": "code",
   "execution_count": 82,
   "metadata": {
    "collapsed": false
   },
   "outputs": [
    {
     "data": {
      "text/plain": [
       "-107113.92974438409"
      ]
     },
     "execution_count": 82,
     "metadata": {},
     "output_type": "execute_result"
    }
   ],
   "source": [
    "est.score(X)"
   ]
  },
  {
   "cell_type": "code",
   "execution_count": 83,
   "metadata": {
    "collapsed": false
   },
   "outputs": [],
   "source": [
    "import mTSP"
   ]
  },
  {
   "cell_type": "code",
   "execution_count": 84,
   "metadata": {
    "collapsed": true
   },
   "outputs": [],
   "source": [
    "m=mTSP.mission(1)"
   ]
  },
  {
   "cell_type": "code",
   "execution_count": 85,
   "metadata": {
    "collapsed": false
   },
   "outputs": [],
   "source": [
    "sampleDF.to_csv('kmeans_sub.csv')"
   ]
  },
  {
   "cell_type": "code",
   "execution_count": 137,
   "metadata": {
    "collapsed": true
   },
   "outputs": [],
   "source": [
    "m.read_submission('kmeans_sub.csv')"
   ]
  },
  {
   "cell_type": "code",
   "execution_count": 139,
   "metadata": {
    "collapsed": false
   },
   "outputs": [
    {
     "data": {
      "image/png": "[encoded data removed]",
      "text/plain": [
       "<matplotlib.figure.Figure at 0x1160e3eb8>"
      ]
     },
     "metadata": {},
     "output_type": "display_data"
    }
   ],
   "source": [
    "loads=[]\n",
    "for i in np.arange(len(m.trips)):\n",
    "    load=sum([m.wmap[g] for g in m.trips[i]])\n",
    "    loads.append(load)\n",
    "plt.hist(loads)\n",
    "plt.show()"
   ]
  },
  {
   "cell_type": "code",
   "execution_count": null,
   "metadata": {
    "collapsed": true
   },
   "outputs": [],
   "source": []
  },
  {
   "cell_type": "code",
   "execution_count": null,
   "metadata": {
    "collapsed": true
   },
   "outputs": [],
   "source": []
  },
  {
   "cell_type": "code",
   "execution_count": null,
   "metadata": {
    "collapsed": true
   },
   "outputs": [],
   "source": []
  },
  {
   "cell_type": "code",
   "execution_count": 136,
   "metadata": {
    "collapsed": false
   },
   "outputs": [
    {
     "ename": "KeyboardInterrupt",
     "evalue": "",
     "output_type": "error",
     "traceback": [
      "\u001b[0;31m---------------------------------------------------------------------------\u001b[0m",
      "\u001b[0;31mKeyboardInterrupt\u001b[0m                         Traceback (most recent call last)",
      "\u001b[0;32m<ipython-input-136-3abf46de0b5e>\u001b[0m in \u001b[0;36m<module>\u001b[0;34m()\u001b[0m\n\u001b[1;32m      7\u001b[0m         \u001b[0mbads\u001b[0m\u001b[0;34m.\u001b[0m\u001b[0mappend\u001b[0m\u001b[0;34m(\u001b[0m\u001b[0mm\u001b[0m\u001b[0;34m.\u001b[0m\u001b[0mtrips\u001b[0m\u001b[0;34m[\u001b[0m\u001b[0mbad_trips\u001b[0m\u001b[0;34m[\u001b[0m\u001b[0mindex\u001b[0m\u001b[0;34m]\u001b[0m\u001b[0;34m]\u001b[0m\u001b[0;34m.\u001b[0m\u001b[0mpop\u001b[0m\u001b[0;34m(\u001b[0m\u001b[0;34m)\u001b[0m\u001b[0;34m)\u001b[0m\u001b[0;34m\u001b[0m\u001b[0m\n\u001b[1;32m      8\u001b[0m         \u001b[0mm\u001b[0m\u001b[0;34m.\u001b[0m\u001b[0mreindex_trip\u001b[0m\u001b[0;34m(\u001b[0m\u001b[0mbad_trips\u001b[0m\u001b[0;34m[\u001b[0m\u001b[0mindex\u001b[0m\u001b[0;34m]\u001b[0m\u001b[0;34m)\u001b[0m\u001b[0;34m\u001b[0m\u001b[0m\n\u001b[0;32m----> 9\u001b[0;31m     \u001b[0;32mif\u001b[0m \u001b[0;34m(\u001b[0m\u001b[0msum\u001b[0m\u001b[0;34m(\u001b[0m\u001b[0;34m[\u001b[0m\u001b[0mm\u001b[0m\u001b[0;34m.\u001b[0m\u001b[0mwmap\u001b[0m\u001b[0;34m[\u001b[0m\u001b[0mg\u001b[0m\u001b[0;34m]\u001b[0m \u001b[0;32mfor\u001b[0m \u001b[0mg\u001b[0m \u001b[0;32min\u001b[0m \u001b[0mm\u001b[0m\u001b[0;34m.\u001b[0m\u001b[0mtrips\u001b[0m\u001b[0;34m[\u001b[0m\u001b[0mbad_trips\u001b[0m\u001b[0;34m[\u001b[0m\u001b[0mindex\u001b[0m\u001b[0;34m]\u001b[0m\u001b[0;34m]\u001b[0m\u001b[0;34m]\u001b[0m\u001b[0;34m)\u001b[0m \u001b[0;34m>\u001b[0m \u001b[0;36m990.\u001b[0m\u001b[0;34m)\u001b[0m\u001b[0;34m:\u001b[0m\u001b[0;34m\u001b[0m\u001b[0m\n\u001b[0m\u001b[1;32m     10\u001b[0m         \u001b[0;32mbreak\u001b[0m\u001b[0;34m\u001b[0m\u001b[0m\n",
      "\u001b[0;32m<ipython-input-136-3abf46de0b5e>\u001b[0m in \u001b[0;36m<listcomp>\u001b[0;34m(.0)\u001b[0m\n\u001b[1;32m      7\u001b[0m         \u001b[0mbads\u001b[0m\u001b[0;34m.\u001b[0m\u001b[0mappend\u001b[0m\u001b[0;34m(\u001b[0m\u001b[0mm\u001b[0m\u001b[0;34m.\u001b[0m\u001b[0mtrips\u001b[0m\u001b[0;34m[\u001b[0m\u001b[0mbad_trips\u001b[0m\u001b[0;34m[\u001b[0m\u001b[0mindex\u001b[0m\u001b[0;34m]\u001b[0m\u001b[0;34m]\u001b[0m\u001b[0;34m.\u001b[0m\u001b[0mpop\u001b[0m\u001b[0;34m(\u001b[0m\u001b[0;34m)\u001b[0m\u001b[0;34m)\u001b[0m\u001b[0;34m\u001b[0m\u001b[0m\n\u001b[1;32m      8\u001b[0m         \u001b[0mm\u001b[0m\u001b[0;34m.\u001b[0m\u001b[0mreindex_trip\u001b[0m\u001b[0;34m(\u001b[0m\u001b[0mbad_trips\u001b[0m\u001b[0;34m[\u001b[0m\u001b[0mindex\u001b[0m\u001b[0;34m]\u001b[0m\u001b[0;34m)\u001b[0m\u001b[0;34m\u001b[0m\u001b[0m\n\u001b[0;32m----> 9\u001b[0;31m     \u001b[0;32mif\u001b[0m \u001b[0;34m(\u001b[0m\u001b[0msum\u001b[0m\u001b[0;34m(\u001b[0m\u001b[0;34m[\u001b[0m\u001b[0mm\u001b[0m\u001b[0;34m.\u001b[0m\u001b[0mwmap\u001b[0m\u001b[0;34m[\u001b[0m\u001b[0mg\u001b[0m\u001b[0;34m]\u001b[0m \u001b[0;32mfor\u001b[0m \u001b[0mg\u001b[0m \u001b[0;32min\u001b[0m \u001b[0mm\u001b[0m\u001b[0;34m.\u001b[0m\u001b[0mtrips\u001b[0m\u001b[0;34m[\u001b[0m\u001b[0mbad_trips\u001b[0m\u001b[0;34m[\u001b[0m\u001b[0mindex\u001b[0m\u001b[0;34m]\u001b[0m\u001b[0;34m]\u001b[0m\u001b[0;34m]\u001b[0m\u001b[0;34m)\u001b[0m \u001b[0;34m>\u001b[0m \u001b[0;36m990.\u001b[0m\u001b[0;34m)\u001b[0m\u001b[0;34m:\u001b[0m\u001b[0;34m\u001b[0m\u001b[0m\n\u001b[0m\u001b[1;32m     10\u001b[0m         \u001b[0;32mbreak\u001b[0m\u001b[0;34m\u001b[0m\u001b[0m\n",
      "\u001b[0;31mKeyboardInterrupt\u001b[0m: "
     ]
    }
   ],
   "source": [
    "bads=[]\n",
    "index=3\n",
    "while (True):\n",
    "    try:\n",
    "        m.check_trip_load(m.trips[bad_trips[index]],bad_trips[index])\n",
    "    except:\n",
    "        bads.append(m.trips[bad_trips[index]].pop())\n",
    "        m.reindex_trip(bad_trips[index])\n",
    "    if (sum([m.wmap[g] for g in m.trips[bad_trips[index]]]) > 990.):\n",
    "        break"
   ]
  },
  {
   "cell_type": "code",
   "execution_count": 104,
   "metadata": {
    "collapsed": false
   },
   "outputs": [],
   "source": [
    "bads=[]\n",
    "try:\n",
    "    m.check_trip_load(m.trips[bad_trips[0]],bad_trips[0])\n",
    "except:\n",
    "    bads.append(m.trips[bad_trips[0]].pop())\n",
    "    m.reindex_trip(0)\n",
    "#    m.trips.append([top])"
   ]
  },
  {
   "cell_type": "code",
   "execution_count": 105,
   "metadata": {
    "collapsed": false
   },
   "outputs": [
    {
     "data": {
      "text/plain": [
       "[[1287, 40.398779194100001],\n",
       " [2249, 40.641965859499997],\n",
       " [2611, 43.797077742700004],\n",
       " [8733, 5.6492767303299996],\n",
       " [9599, 16.3068438098],\n",
       " [9866, 13.8530161476],\n",
       " [10966, 50.0],\n",
       " [11009, 3.9304626900999997],\n",
       " [12365, 1.0],\n",
       " [13173, 1.0],\n",
       " [18232, 1.0],\n",
       " [18363, 15.723155459400001],\n",
       " [18913, 1.0],\n",
       " [19625, 1.0],\n",
       " [20776, 17.534406908499999],\n",
       " [21833, 18.047353406300001],\n",
       " [22406, 1.0],\n",
       " [23298, 1.3438771444199999],\n",
       " [24014, 6.0124244133699998],\n",
       " [24958, 14.1033177656],\n",
       " [26489, 24.848004879299999],\n",
       " [26504, 1.0],\n",
       " [26925, 1.0],\n",
       " [27283, 1.0],\n",
       " [27489, 8.1174582313600006],\n",
       " [28717, 1.0],\n",
       " [29071, 1.0],\n",
       " [30516, 18.873619140100001],\n",
       " [31930, 24.292151685],\n",
       " [32841, 1.0],\n",
       " [34504, 1.0],\n",
       " [35206, 11.3650614377],\n",
       " [35613, 14.1221863683],\n",
       " [37132, 1.0],\n",
       " [42578, 35.492193298700002],\n",
       " [44948, 1.7777430943000001],\n",
       " [48074, 1.0],\n",
       " [50816, 1.0],\n",
       " [51851, 1.0],\n",
       " [56299, 31.011212075300001],\n",
       " [56879, 31.173277021300002],\n",
       " [56938, 20.853644018699999],\n",
       " [57292, 1.0],\n",
       " [57457, 23.162629556500001],\n",
       " [60246, 1.0],\n",
       " [61902, 1.0],\n",
       " [62966, 50.0],\n",
       " [63490, 11.130587906700001],\n",
       " [63891, 7.4760431933699998],\n",
       " [65224, 2.49965984455],\n",
       " [65931, 1.0],\n",
       " [66487, 1.0],\n",
       " [66588, 18.857413244500002],\n",
       " [66955, 44.453800754300005],\n",
       " [68893, 7.0897424806199991],\n",
       " [69139, 3.0059744742699999],\n",
       " [69158, 1.0],\n",
       " [70615, 1.0],\n",
       " [73148, 1.0],\n",
       " [75392, 21.739742817],\n",
       " [77805, 2.60060930676],\n",
       " [78015, 21.802830440600001],\n",
       " [78107, 50.0],\n",
       " [79009, 1.0],\n",
       " [79159, 18.922325884599999],\n",
       " [82484, 2.2103521986000003],\n",
       " [83118, 14.326425045000001],\n",
       " [84432, 4.6157313758900003],\n",
       " [84462, 1.0],\n",
       " [86199, 7.1308127481800012],\n",
       " [86232, 13.4646090741],\n",
       " [86356, 8.8189506652999992],\n",
       " [87467, 12.798492364100001],\n",
       " [88165, 29.3495506396],\n",
       " [88423, 2.0963070845500003],\n",
       " [88751, 28.847877666599999],\n",
       " [90022, 1.4906274526600001],\n",
       " [90242, 27.4157422838],\n",
       " [91245, 25.704935705500002],\n",
       " [94810, 1.0],\n",
       " [95789, 1.0],\n",
       " [96226, 1.0],\n",
       " [96695, 1.0]]"
      ]
     },
     "execution_count": 105,
     "metadata": {},
     "output_type": "execute_result"
    }
   ],
   "source": [
    "[[g,m.wmap[g]] for g in m.trips[bad_trips[0]]]"
   ]
  },
  {
   "cell_type": "code",
   "execution_count": null,
   "metadata": {
    "collapsed": true
   },
   "outputs": [],
   "source": []
  }
 ],
 "metadata": {
  "kernelspec": {
   "display_name": "Python 3",
   "language": "python",
   "name": "python3"
  },
  "language_info": {
   "codemirror_mode": {
    "name": "ipython",
    "version": 3
   },
   "file_extension": ".py",
   "mimetype": "text/x-python",
   "name": "python",
   "nbconvert_exporter": "python",
   "pygments_lexer": "ipython3",
   "version": "3.5.1"
  }
 },
 "nbformat": 4,
 "nbformat_minor": 0
}
