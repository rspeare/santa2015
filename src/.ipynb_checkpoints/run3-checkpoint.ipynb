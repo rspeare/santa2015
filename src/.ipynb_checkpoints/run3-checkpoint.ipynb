{
 "cells": [
  {
   "cell_type": "code",
   "execution_count": 1,
   "metadata": {
    "collapsed": true
   },
   "outputs": [],
   "source": [
    "import numpy as np\n",
    "import pickle"
   ]
  },
  {
   "cell_type": "code",
   "execution_count": 2,
   "metadata": {
    "collapsed": false
   },
   "outputs": [
    {
     "data": {
      "text/plain": [
       "<module 'mTSP' from '/Users/rspeare/Code/python/kaggle/santa/src/mTSP.py'>"
      ]
     },
     "execution_count": 2,
     "metadata": {},
     "output_type": "execute_result"
    }
   ],
   "source": [
    "import mTSP\n",
    "import imp\n",
    "imp.reload(mTSP)"
   ]
  },
  {
   "cell_type": "code",
   "execution_count": 3,
   "metadata": {
    "collapsed": true
   },
   "outputs": [],
   "source": [
    "best=12395763029"
   ]
  },
  {
   "cell_type": "code",
   "execution_count": 4,
   "metadata": {
    "collapsed": false
   },
   "outputs": [
    {
     "data": {
      "text/plain": [
       "11.869287204005971"
      ]
     },
     "execution_count": 4,
     "metadata": {},
     "output_type": "execute_result"
    }
   ],
   "source": [
    "me=147128871504\n",
    "me/best"
   ]
  },
  {
   "cell_type": "code",
   "execution_count": 5,
   "metadata": {
    "collapsed": false
   },
   "outputs": [
    {
     "data": {
      "text/plain": [
       "10.073623659057125"
      ]
     },
     "execution_count": 5,
     "metadata": {},
     "output_type": "execute_result"
    }
   ],
   "source": [
    "124870251721.0/best"
   ]
  },
  {
   "cell_type": "code",
   "execution_count": 6,
   "metadata": {
    "collapsed": false
   },
   "outputs": [],
   "source": [
    "m=mTSP.mission(20)"
   ]
  },
  {
   "cell_type": "code",
   "execution_count": 11,
   "metadata": {
    "collapsed": false
   },
   "outputs": [
    {
     "name": "stdout",
     "output_type": "stream",
     "text": [
      "trying initial trips of size,  5\n"
     ]
    },
    {
     "data": {
      "text/plain": [
       "45397254195.420479"
      ]
     },
     "execution_count": 11,
     "metadata": {},
     "output_type": "execute_result"
    }
   ],
   "source": [
    "m.init_trips(5)"
   ]
  },
  {
   "cell_type": "code",
   "execution_count": 16,
   "metadata": {
    "collapsed": false
   },
   "outputs": [
    {
     "data": {
      "text/plain": [
       "1.4451460084567247"
      ]
     },
     "execution_count": 16,
     "metadata": {},
     "output_type": "execute_result"
    }
   ],
   "source": [
    "17913687463.13479/best"
   ]
  },
  {
   "cell_type": "code",
   "execution_count": null,
   "metadata": {
    "collapsed": false
   },
   "outputs": [
    {
     "name": "stdout",
     "output_type": "stream",
     "text": [
      "Log(T)=6.0 var=0.659943338419 score: 43647186237.3\n",
      "Log(T)=5.9956351946 var=0.627426212759 score: 42335365815.9\n",
      "Log(T)=5.9912703892 var=0.612866929663 score: 41225623908.1\n",
      "Log(T)=5.98690558379 var=0.610082013426 score: 40370315431.3\n",
      "Log(T)=5.98254077839 var=0.599235850851 score: 39690222809.5\n",
      "Log(T)=5.97817597299 var=0.589552520094 score: 39017228993.5\n",
      "Log(T)=5.97381116759 var=0.578979395391 score: 38529815601.6\n",
      "Log(T)=5.96944636218 var=0.577841599147 score: 38071286212.0\n",
      "Log(T)=5.96508155678 var=0.576548300952 score: 37776050689.8\n",
      "Log(T)=5.96071675138 var=0.601056165329 score: 37422992097.9\n",
      "Log(T)=5.95635194598 var=0.581642449817 score: 37069328946.7\n",
      "Log(T)=5.95198714057 var=0.575006089212 score: 36752239000.4\n",
      "Log(T)=5.94762233517 var=0.583266188785 score: 36473363169.5\n",
      "Log(T)=5.94325752977 var=0.568371593608 score: 36175451094.3\n",
      "Log(T)=5.93889272437 var=0.561236243531 score: 35921519490.1\n",
      "Log(T)=5.93452791896 var=0.559011357575 score: 35774483866.4\n",
      "Log(T)=5.93016311356 var=0.57812668722 score: 35640244160.1\n",
      "Log(T)=5.92579830816 var=0.577278229482 score: 35507998451.0\n",
      "Log(T)=5.92143350276 var=0.577014872849 score: 35355977164.1\n",
      "Log(T)=5.91706869735 var=0.576662620824 score: 35185768746.6\n",
      "Log(T)=5.91270389195 var=0.589939974863 score: 35200559282.5\n",
      "Log(T)=5.90833908655 var=0.590446394728 score: 35121465841.9\n",
      "Log(T)=5.90397428115 var=0.593978510537 score: 34911812819.2\n",
      "Log(T)=5.89960947574 var=0.598844776466 score: 34796918920.4\n",
      "Log(T)=5.89524467034 var=0.598752616589 score: 34754094374.6\n",
      "Log(T)=5.89087986494 var=0.575433532337 score: 34586661049.1\n",
      "Log(T)=5.88651505954 var=0.608682162473 score: 34459314851.5\n",
      "Log(T)=5.88215025413 var=0.595746865735 score: 34401680965.2\n",
      "Log(T)=5.87778544873 var=0.602633450915 score: 34320789152.7\n",
      "Log(T)=5.87342064333 var=0.605572233876 score: 34170136493.8\n",
      "Log(T)=5.86905583793 var=0.616401845799 score: 34094910112.0\n",
      "Log(T)=5.86469103252 var=0.619984697008 score: 34016076793.8\n",
      "Log(T)=5.86032622712 var=0.629926799585 score: 33918102255.4\n",
      "Log(T)=5.85596142172 var=0.622506091802 score: 33789010201.6\n",
      "Log(T)=5.85159661632 var=0.620270863573 score: 33632351736.6\n",
      "Log(T)=5.84723181091 var=0.615660425588 score: 33539823211.2\n",
      "Log(T)=5.84286700551 var=0.636688813833 score: 33451809196.6\n",
      "Log(T)=5.83850220011 var=0.62765788212 score: 33335428253.5\n",
      "Log(T)=5.83413739471 var=0.624705602616 score: 33250926227.8\n",
      "Log(T)=5.8297725893 var=0.625376568383 score: 33098131680.8\n",
      "Log(T)=5.8254077839 var=0.625852152911 score: 33045161639.2\n",
      "Log(T)=5.8210429785 var=0.636711742433 score: 32973082096.4\n",
      "Log(T)=5.8166781731 var=0.63184138345 score: 32922314510.4\n",
      "Log(T)=5.81231336769 var=0.641701286419 score: 32864544659.9\n",
      "Log(T)=5.80794856229 var=0.648616998714 score: 32802399545.2\n",
      "Log(T)=5.80358375689 var=0.638013688895 score: 32727861547.2\n",
      "Log(T)=5.79921895149 var=0.654279006464 score: 32594181902.9\n",
      "Log(T)=5.79485414608 var=0.64916078258 score: 32406995592.1\n",
      "Log(T)=5.79048934068 var=0.651052532716 score: 32315395339.9\n",
      "Log(T)=5.78612453528 var=0.656550099053 score: 32215803157.1\n",
      "Log(T)=5.78175972988 var=0.650038826914 score: 32062321550.0\n",
      "Log(T)=5.77739492448 var=0.639947707259 score: 31978531532.0\n",
      "Log(T)=5.77303011907 var=0.660510221156 score: 31908524962.0\n",
      "Log(T)=5.76866531367 var=0.65943352405 score: 31777195511.8\n",
      "Log(T)=5.76430050827 var=0.649383813459 score: 31681140898.3\n",
      "Log(T)=5.75993570287 var=0.66077082163 score: 31613152465.6\n",
      "Log(T)=5.75557089746 var=0.679062288508 score: 31556905445.9\n",
      "Log(T)=5.75120609206 var=0.667810315817 score: 31490829347.7\n",
      "Log(T)=5.74684128666 var=0.668905537382 score: 31390274875.1\n",
      "Log(T)=5.74247648126 var=0.661934145238 score: 31279450313.8\n",
      "Log(T)=5.73811167585 var=0.675625842673 score: 31165210465.5\n",
      "Log(T)=5.73374687045 var=0.67939575632 score: 31129794713.8\n",
      "Log(T)=5.72938206505 var=0.675611633363 score: 30997836671.3"
     ]
    }
   ],
   "source": [
    "t=10**6.\n",
    "m0=10**4\n",
    "for j in np.arange(100): \n",
    "    var=m.burn_in(m0,t)\n",
    "    print('Log(T)='+str(np.log(t)/np.log(10))+' var='+str(var)+' score: '+str(m.WRW()))\n",
    "    if(var < 3.0):\n",
    "        t*=.99"
   ]
  },
  {
   "cell_type": "code",
   "execution_count": null,
   "metadata": {
    "collapsed": true
   },
   "outputs": [],
   "source": []
  }
 ],
 "metadata": {
  "kernelspec": {
   "display_name": "Python 3",
   "language": "python",
   "name": "python3"
  },
  "language_info": {
   "codemirror_mode": {
    "name": "ipython",
    "version": 3
   },
   "file_extension": ".py",
   "mimetype": "text/x-python",
   "name": "python",
   "nbconvert_exporter": "python",
   "pygments_lexer": "ipython3",
   "version": "3.5.1"
  }
 },
 "nbformat": 4,
 "nbformat_minor": 0
}
