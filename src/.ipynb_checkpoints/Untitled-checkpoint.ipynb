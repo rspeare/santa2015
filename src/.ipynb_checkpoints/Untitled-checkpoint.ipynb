{
 "cells": [
  {
   "cell_type": "code",
   "execution_count": 11,
   "metadata": {
    "collapsed": true
   },
   "outputs": [],
   "source": [
    "import numpy as np\n",
    "from sklearn.cluster import KMeans\n",
    "import matplotlib.pyplot as plt\n",
    "import pandas as pd\n",
    "%matplotlib inline"
   ]
  },
  {
   "cell_type": "code",
   "execution_count": 12,
   "metadata": {
    "collapsed": true
   },
   "outputs": [],
   "source": [
    "giftsDF=pd.read_csv('../data/gifts.csv')\n",
    "sampleDF=pd.read_csv('../data/sample_submission.csv')"
   ]
  },
  {
   "cell_type": "code",
   "execution_count": 21,
   "metadata": {
    "collapsed": false
   },
   "outputs": [],
   "source": [
    "X=giftsDF[['Latitude','Longitude']].values"
   ]
  },
  {
   "cell_type": "code",
   "execution_count": 74,
   "metadata": {
    "collapsed": false
   },
   "outputs": [],
   "source": [
    "est=KMeans(3000)"
   ]
  },
  {
   "cell_type": "code",
   "execution_count": 75,
   "metadata": {
    "collapsed": false
   },
   "outputs": [
    {
     "data": {
      "text/plain": [
       "3000"
      ]
     },
     "execution_count": 75,
     "metadata": {},
     "output_type": "execute_result"
    }
   ],
   "source": [
    "est.n_clusters"
   ]
  },
  {
   "cell_type": "code",
   "execution_count": 76,
   "metadata": {
    "collapsed": false
   },
   "outputs": [
    {
     "data": {
      "text/plain": [
       "KMeans(copy_x=True, init='k-means++', max_iter=300, n_clusters=3000,\n",
       "    n_init=10, n_jobs=1, precompute_distances='auto', random_state=None,\n",
       "    tol=0.0001, verbose=0)"
      ]
     },
     "execution_count": 76,
     "metadata": {},
     "output_type": "execute_result"
    }
   ],
   "source": [
    "est.fit(X)"
   ]
  },
  {
   "cell_type": "code",
   "execution_count": 77,
   "metadata": {
    "collapsed": true
   },
   "outputs": [],
   "source": [
    "y=est.predict(X)"
   ]
  },
  {
   "cell_type": "code",
   "execution_count": 78,
   "metadata": {
    "collapsed": false
   },
   "outputs": [],
   "source": [
    "sampleDF.TripId=y"
   ]
  },
  {
   "cell_type": "code",
   "execution_count": 79,
   "metadata": {
    "collapsed": false
   },
   "outputs": [
    {
     "data": {
      "text/html": [
       "<div>\n",
       "<table border=\"1\" class=\"dataframe\">\n",
       "  <thead>\n",
       "    <tr style=\"text-align: right;\">\n",
       "      <th></th>\n",
       "      <th>GiftId</th>\n",
       "      <th>Latitude</th>\n",
       "      <th>Longitude</th>\n",
       "      <th>Weight</th>\n",
       "    </tr>\n",
       "  </thead>\n",
       "  <tbody>\n",
       "    <tr>\n",
       "      <th>0</th>\n",
       "      <td>1</td>\n",
       "      <td>16.345769</td>\n",
       "      <td>6.303545</td>\n",
       "      <td>1.000000</td>\n",
       "    </tr>\n",
       "    <tr>\n",
       "      <th>1</th>\n",
       "      <td>2</td>\n",
       "      <td>12.494749</td>\n",
       "      <td>28.626396</td>\n",
       "      <td>15.524480</td>\n",
       "    </tr>\n",
       "    <tr>\n",
       "      <th>2</th>\n",
       "      <td>3</td>\n",
       "      <td>27.794615</td>\n",
       "      <td>60.032495</td>\n",
       "      <td>8.058499</td>\n",
       "    </tr>\n",
       "    <tr>\n",
       "      <th>3</th>\n",
       "      <td>4</td>\n",
       "      <td>44.426992</td>\n",
       "      <td>110.114216</td>\n",
       "      <td>1.000000</td>\n",
       "    </tr>\n",
       "    <tr>\n",
       "      <th>4</th>\n",
       "      <td>5</td>\n",
       "      <td>-69.854088</td>\n",
       "      <td>87.946878</td>\n",
       "      <td>25.088892</td>\n",
       "    </tr>\n",
       "  </tbody>\n",
       "</table>\n",
       "</div>"
      ],
      "text/plain": [
       "   GiftId   Latitude   Longitude     Weight\n",
       "0       1  16.345769    6.303545   1.000000\n",
       "1       2  12.494749   28.626396  15.524480\n",
       "2       3  27.794615   60.032495   8.058499\n",
       "3       4  44.426992  110.114216   1.000000\n",
       "4       5 -69.854088   87.946878  25.088892"
      ]
     },
     "execution_count": 79,
     "metadata": {},
     "output_type": "execute_result"
    }
   ],
   "source": [
    "giftsDF.head()"
   ]
  },
  {
   "cell_type": "code",
   "execution_count": 80,
   "metadata": {
    "collapsed": false
   },
   "outputs": [],
   "source": [
    "XX=np.vstack([giftsDF.GiftId,y,giftsDF.Weight]).T"
   ]
  },
  {
   "cell_type": "code",
   "execution_count": 81,
   "metadata": {
    "collapsed": false
   },
   "outputs": [
    {
     "data": {
      "text/plain": [
       "array([[  1.00000000e+00,   2.65200000e+03,   1.00000000e+00],\n",
       "       [  2.00000000e+00,   2.62600000e+03,   1.55244796e+01],\n",
       "       [  3.00000000e+00,   1.99500000e+03,   8.05849862e+00],\n",
       "       ..., \n",
       "       [  9.99980000e+04,   5.17000000e+02,   1.00000000e+00],\n",
       "       [  9.99990000e+04,   2.98900000e+03,   1.00000000e+00],\n",
       "       [  1.00000000e+05,   2.07500000e+03,   1.00000000e+00]])"
      ]
     },
     "execution_count": 81,
     "metadata": {},
     "output_type": "execute_result"
    }
   ],
   "source": [
    "XX"
   ]
  },
  {
   "cell_type": "code",
   "execution_count": 82,
   "metadata": {
    "collapsed": false
   },
   "outputs": [
    {
     "data": {
      "text/plain": [
       "-107113.92974438409"
      ]
     },
     "execution_count": 82,
     "metadata": {},
     "output_type": "execute_result"
    }
   ],
   "source": [
    "est.score(X)"
   ]
  },
  {
   "cell_type": "code",
   "execution_count": 83,
   "metadata": {
    "collapsed": false
   },
   "outputs": [],
   "source": [
    "import mTSP"
   ]
  },
  {
   "cell_type": "code",
   "execution_count": 84,
   "metadata": {
    "collapsed": true
   },
   "outputs": [],
   "source": [
    "m=mTSP.mission(1)"
   ]
  },
  {
   "cell_type": "code",
   "execution_count": 85,
   "metadata": {
    "collapsed": false
   },
   "outputs": [],
   "source": [
    "sampleDF.to_csv('kmeans_sub.csv')"
   ]
  },
  {
   "cell_type": "code",
   "execution_count": 86,
   "metadata": {
    "collapsed": true
   },
   "outputs": [],
   "source": [
    "m.read_submission('kmeans_sub.csv')"
   ]
  },
  {
   "cell_type": "code",
   "execution_count": 108,
   "metadata": {
    "collapsed": false
   },
   "outputs": [
    {
     "name": "stdout",
     "output_type": "stream",
     "text": [
      "1036 1000.28028273\n",
      "1357 1006.9648191\n",
      "1616 1022.36882849\n",
      "1785 1074.37032389\n",
      "2045 1001.45943825\n",
      "2070 1027.70233017\n",
      "2085 1120.09716942\n",
      "2271 1023.44273016\n"
     ]
    }
   ],
   "source": [
    "bad_trips=[]\n",
    "for i in np.arange(len(m.trips)):\n",
    "    load=sum([m.wmap[g] for g in m.trips[i]])\n",
    "    if (load>990.):\n",
    "        print(i,load)\n",
    "        bad_trips.append(i)"
   ]
  },
  {
   "cell_type": "code",
   "execution_count": 107,
   "metadata": {
    "collapsed": false
   },
   "outputs": [],
   "source": [
    "bads=[]\n",
    "while (True):\n",
    "    try:\n",
    "        m.check_trip_load(m.trips[bad_trips[0]],bad_trips[0])\n",
    "    except:\n",
    "        bads.append(m.trips[bad_trips[0]].pop())\n",
    "        m.reindex_trip(0)\n",
    "    #    m.trips.append([top])"
   ]
  },
  {
   "cell_type": "code",
   "execution_count": 101,
   "metadata": {
    "collapsed": true
   },
   "outputs": [],
   "source": [
    "m.reindex_trip?"
   ]
  },
  {
   "cell_type": "code",
   "execution_count": 104,
   "metadata": {
    "collapsed": false
   },
   "outputs": [],
   "source": [
    "bads=[]\n",
    "try:\n",
    "    m.check_trip_load(m.trips[bad_trips[0]],bad_trips[0])\n",
    "except:\n",
    "    bads.append(m.trips[bad_trips[0]].pop())\n",
    "    m.reindex_trip(0)\n",
    "#    m.trips.append([top])"
   ]
  },
  {
   "cell_type": "code",
   "execution_count": 105,
   "metadata": {
    "collapsed": false
   },
   "outputs": [
    {
     "data": {
      "text/plain": [
       "[[1287, 40.398779194100001],\n",
       " [2249, 40.641965859499997],\n",
       " [2611, 43.797077742700004],\n",
       " [8733, 5.6492767303299996],\n",
       " [9599, 16.3068438098],\n",
       " [9866, 13.8530161476],\n",
       " [10966, 50.0],\n",
       " [11009, 3.9304626900999997],\n",
       " [12365, 1.0],\n",
       " [13173, 1.0],\n",
       " [18232, 1.0],\n",
       " [18363, 15.723155459400001],\n",
       " [18913, 1.0],\n",
       " [19625, 1.0],\n",
       " [20776, 17.534406908499999],\n",
       " [21833, 18.047353406300001],\n",
       " [22406, 1.0],\n",
       " [23298, 1.3438771444199999],\n",
       " [24014, 6.0124244133699998],\n",
       " [24958, 14.1033177656],\n",
       " [26489, 24.848004879299999],\n",
       " [26504, 1.0],\n",
       " [26925, 1.0],\n",
       " [27283, 1.0],\n",
       " [27489, 8.1174582313600006],\n",
       " [28717, 1.0],\n",
       " [29071, 1.0],\n",
       " [30516, 18.873619140100001],\n",
       " [31930, 24.292151685],\n",
       " [32841, 1.0],\n",
       " [34504, 1.0],\n",
       " [35206, 11.3650614377],\n",
       " [35613, 14.1221863683],\n",
       " [37132, 1.0],\n",
       " [42578, 35.492193298700002],\n",
       " [44948, 1.7777430943000001],\n",
       " [48074, 1.0],\n",
       " [50816, 1.0],\n",
       " [51851, 1.0],\n",
       " [56299, 31.011212075300001],\n",
       " [56879, 31.173277021300002],\n",
       " [56938, 20.853644018699999],\n",
       " [57292, 1.0],\n",
       " [57457, 23.162629556500001],\n",
       " [60246, 1.0],\n",
       " [61902, 1.0],\n",
       " [62966, 50.0],\n",
       " [63490, 11.130587906700001],\n",
       " [63891, 7.4760431933699998],\n",
       " [65224, 2.49965984455],\n",
       " [65931, 1.0],\n",
       " [66487, 1.0],\n",
       " [66588, 18.857413244500002],\n",
       " [66955, 44.453800754300005],\n",
       " [68893, 7.0897424806199991],\n",
       " [69139, 3.0059744742699999],\n",
       " [69158, 1.0],\n",
       " [70615, 1.0],\n",
       " [73148, 1.0],\n",
       " [75392, 21.739742817],\n",
       " [77805, 2.60060930676],\n",
       " [78015, 21.802830440600001],\n",
       " [78107, 50.0],\n",
       " [79009, 1.0],\n",
       " [79159, 18.922325884599999],\n",
       " [82484, 2.2103521986000003],\n",
       " [83118, 14.326425045000001],\n",
       " [84432, 4.6157313758900003],\n",
       " [84462, 1.0],\n",
       " [86199, 7.1308127481800012],\n",
       " [86232, 13.4646090741],\n",
       " [86356, 8.8189506652999992],\n",
       " [87467, 12.798492364100001],\n",
       " [88165, 29.3495506396],\n",
       " [88423, 2.0963070845500003],\n",
       " [88751, 28.847877666599999],\n",
       " [90022, 1.4906274526600001],\n",
       " [90242, 27.4157422838],\n",
       " [91245, 25.704935705500002],\n",
       " [94810, 1.0],\n",
       " [95789, 1.0],\n",
       " [96226, 1.0],\n",
       " [96695, 1.0]]"
      ]
     },
     "execution_count": 105,
     "metadata": {},
     "output_type": "execute_result"
    }
   ],
   "source": [
    "[[g,m.wmap[g]] for g in m.trips[bad_trips[0]]]"
   ]
  },
  {
   "cell_type": "code",
   "execution_count": null,
   "metadata": {
    "collapsed": true
   },
   "outputs": [],
   "source": []
  }
 ],
 "metadata": {
  "kernelspec": {
   "display_name": "Python 3",
   "language": "python",
   "name": "python3"
  },
  "language_info": {
   "codemirror_mode": {
    "name": "ipython",
    "version": 3
   },
   "file_extension": ".py",
   "mimetype": "text/x-python",
   "name": "python",
   "nbconvert_exporter": "python",
   "pygments_lexer": "ipython3",
   "version": "3.5.1"
  }
 },
 "nbformat": 4,
 "nbformat_minor": 0
}
