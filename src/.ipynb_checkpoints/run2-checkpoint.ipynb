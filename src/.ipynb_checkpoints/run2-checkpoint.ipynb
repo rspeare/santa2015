{
 "cells": [
  {
   "cell_type": "code",
   "execution_count": 1,
   "metadata": {
    "collapsed": true
   },
   "outputs": [],
   "source": [
    "import numpy as np\n",
    "import pickle"
   ]
  },
  {
   "cell_type": "code",
   "execution_count": 24,
   "metadata": {
    "collapsed": false
   },
   "outputs": [
    {
     "data": {
      "text/plain": [
       "<module 'mTSP' from '/Users/rspeare/Code/python/kaggle/santa/src/mTSP.py'>"
      ]
     },
     "execution_count": 24,
     "metadata": {},
     "output_type": "execute_result"
    }
   ],
   "source": [
    "import mTSP\n",
    "import imp\n",
    "imp.reload(mTSP)"
   ]
  },
  {
   "cell_type": "code",
   "execution_count": 25,
   "metadata": {
    "collapsed": true
   },
   "outputs": [],
   "source": [
    "best=12395763029"
   ]
  },
  {
   "cell_type": "code",
   "execution_count": 26,
   "metadata": {
    "collapsed": false
   },
   "outputs": [],
   "source": [
    "m1=mTSP.mission(20)"
   ]
  },
  {
   "cell_type": "code",
   "execution_count": 27,
   "metadata": {
    "collapsed": true
   },
   "outputs": [],
   "source": [
    "m1=m"
   ]
  },
  {
   "cell_type": "code",
   "execution_count": 31,
   "metadata": {
    "collapsed": false
   },
   "outputs": [
    {
     "data": {
      "text/plain": [
       "23441254819.229118"
      ]
     },
     "execution_count": 31,
     "metadata": {},
     "output_type": "execute_result"
    }
   ],
   "source": [
    "m=m1\n",
    "m.WRW()"
   ]
  },
  {
   "cell_type": "code",
   "execution_count": 28,
   "metadata": {
    "collapsed": false
   },
   "outputs": [],
   "source": [
    "#m.init_trips(10)"
   ]
  },
  {
   "cell_type": "code",
   "execution_count": 34,
   "metadata": {
    "collapsed": false
   },
   "outputs": [
    {
     "name": "stdout",
     "output_type": "stream",
     "text": [
      "Log(T)=4.5 var=1.91420078086 score: 23234211014.3\n",
      "Log(T)=4.49122607569 var=1.97316880761 score: 23134320501.2\n",
      "Log(T)=4.48245215138 var=1.97221643842 score: 23025910528.6\n",
      "Log(T)=4.47367822708 var=2.04251451611 score: 22927574850.4\n",
      "Log(T)=4.46490430277 var=1.97261932754 score: 22827066283.6\n"
     ]
    }
   ],
   "source": [
    "t=10**4.5\n",
    "m0=10**4\n",
    "for j in np.arange(5): \n",
    "    var=m.burn_in(m0,t)\n",
    "    print('Log(T)='+str(np.log(t)/np.log(10))+' var='+str(var)+' score: '+str(m.WRW()))\n",
    "    if(var < 3.0):\n",
    "        t*=.98"
   ]
  },
  {
   "cell_type": "code",
   "execution_count": 42,
   "metadata": {
    "collapsed": false
   },
   "outputs": [],
   "source": [
    "#f = open('../data/sub.csv', 'w')\n",
    "with open('../data/sub.csv', 'w') as f:\n",
    "    f.write('GiftId,TripId\\n')\n",
    "    for g in m.gifts:\n",
    "#    print(g)\n",
    "        f.writelines(str(g)+','+str(m.tmap[g][0])+'\\n')\n",
    "#        f.write(str(g)+','+str(i)+'\\n')"
   ]
  },
  {
   "cell_type": "code",
   "execution_count": null,
   "metadata": {
    "collapsed": true
   },
   "outputs": [],
   "source": []
  }
 ],
 "metadata": {
  "kernelspec": {
   "display_name": "Python 3",
   "language": "python",
   "name": "python3"
  },
  "language_info": {
   "codemirror_mode": {
    "name": "ipython",
    "version": 3
   },
   "file_extension": ".py",
   "mimetype": "text/x-python",
   "name": "python",
   "nbconvert_exporter": "python",
   "pygments_lexer": "ipython3",
   "version": "3.5.1"
  }
 },
 "nbformat": 4,
 "nbformat_minor": 0
}
