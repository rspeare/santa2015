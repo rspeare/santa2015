{
 "cells": [
  {
   "cell_type": "code",
   "execution_count": 60,
   "metadata": {
    "collapsed": true
   },
   "outputs": [],
   "source": [
    "import numpy as np\n",
    "import pickle"
   ]
  },
  {
   "cell_type": "code",
   "execution_count": 61,
   "metadata": {
    "collapsed": false
   },
   "outputs": [
    {
     "data": {
      "text/plain": [
       "<module 'mTSP' from '/Users/rspeare/Code/python/kaggle/santa/src/mTSP.py'>"
      ]
     },
     "execution_count": 61,
     "metadata": {},
     "output_type": "execute_result"
    }
   ],
   "source": [
    "import mTSP\n",
    "import imp\n",
    "imp.reload(mTSP)"
   ]
  },
  {
   "cell_type": "code",
   "execution_count": 62,
   "metadata": {
    "collapsed": false
   },
   "outputs": [
    {
     "data": {
      "text/plain": [
       "12395763029"
      ]
     },
     "execution_count": 62,
     "metadata": {},
     "output_type": "execute_result"
    }
   ],
   "source": [
    "12395763029"
   ]
  },
  {
   "cell_type": "code",
   "execution_count": 63,
   "metadata": {
    "collapsed": false
   },
   "outputs": [
    {
     "data": {
      "text/plain": [
       "147128871504"
      ]
     },
     "execution_count": 63,
     "metadata": {},
     "output_type": "execute_result"
    }
   ],
   "source": [
    "147128871504"
   ]
  },
  {
   "cell_type": "code",
   "execution_count": 64,
   "metadata": {
    "collapsed": false
   },
   "outputs": [],
   "source": [
    "m=mTSP.mission(20)"
   ]
  },
  {
   "cell_type": "code",
   "execution_count": 65,
   "metadata": {
    "collapsed": false
   },
   "outputs": [
    {
     "name": "stdout",
     "output_type": "stream",
     "text": [
      "trying initial trips of size,  10\n"
     ]
    },
    {
     "data": {
      "text/plain": [
       "83065666560.174667"
      ]
     },
     "execution_count": 65,
     "metadata": {},
     "output_type": "execute_result"
    }
   ],
   "source": [
    "m.init_trips(10)"
   ]
  },
  {
   "cell_type": "code",
   "execution_count": 66,
   "metadata": {
    "collapsed": false
   },
   "outputs": [
    {
     "data": {
      "text/plain": [
       "69473254013.634933"
      ]
     },
     "execution_count": 66,
     "metadata": {},
     "output_type": "execute_result"
    }
   ],
   "source": [
    "m.WRW2()"
   ]
  },
  {
   "cell_type": "code",
   "execution_count": 67,
   "metadata": {
    "collapsed": false
   },
   "outputs": [
    {
     "data": {
      "text/plain": [
       "0.56605818868425917"
      ]
     },
     "execution_count": 67,
     "metadata": {},
     "output_type": "execute_result"
    }
   ],
   "source": [
    "m.trip_weariness2(m.trips[0],0)/m.trip_weariness(m.trips[0],0)"
   ]
  },
  {
   "cell_type": "code",
   "execution_count": 68,
   "metadata": {
    "collapsed": false
   },
   "outputs": [
    {
     "name": "stdout",
     "output_type": "stream",
     "text": [
      "Log(T)=5.0 var=9.33839616803 score: 77960722474.3\n",
      "Log(T)=5.0 var=8.49953493674 score: 73688549747.3\n",
      "Log(T)=5.0 var=7.4667637144 score: 70071790565.6\n",
      "Log(T)=5.0 var=7.00400969594 score: 66829346488.2\n",
      "Log(T)=5.0 var=6.1227222317 score: 64113283485.8\n",
      "Log(T)=5.0 var=5.67502104529 score: 61717217714.2\n",
      "Log(T)=5.0 var=5.51662405137 score: 59481721902.6\n",
      "Log(T)=5.0 var=4.77998081503 score: 57605014833.6\n",
      "Log(T)=5.0 var=4.42125657892 score: 55913361545.9\n",
      "Log(T)=5.0 var=4.17041018571 score: 54358829654.3\n",
      "Log(T)=5.0 var=3.99168912026 score: 52903522193.1\n",
      "Log(T)=5.0 var=3.72916687079 score: 51566764055.7\n",
      "Log(T)=5.0 var=3.49647702171 score: 50398065181.9\n",
      "Log(T)=5.0 var=3.07247254414 score: 49391061697.6\n",
      "Log(T)=5.0 var=3.07796110704 score: 48394403392.0\n",
      "Log(T)=5.0 var=2.81752420349 score: 47520012314.7\n",
      "Log(T)=4.9956351946 var=2.82661379222 score: 46649140400.8\n",
      "Log(T)=4.9912703892 var=2.81784052144 score: 45829313138.9\n",
      "Log(T)=4.98690558379 var=2.61537074975 score: 45067395615.7\n",
      "Log(T)=4.98254077839 var=2.71665815604 score: 44305685184.3\n",
      "Log(T)=4.97817597299 var=2.50044307591 score: 43617106284.2\n",
      "Log(T)=4.97381116759 var=2.33086063318 score: 42992215319.4\n",
      "Log(T)=4.96944636218 var=2.3057178535 score: 42394887758.8\n",
      "Log(T)=4.96508155678 var=2.15111635073 score: 41846730213.6\n",
      "Log(T)=4.96071675138 var=2.19704240125 score: 41298423786.7\n",
      "Log(T)=4.95635194598 var=2.02515514772 score: 40815328710.2\n",
      "Log(T)=4.95198714057 var=2.10967786047 score: 40312117157.6\n",
      "Log(T)=4.94762233517 var=1.95474779632 score: 39868441097.0\n",
      "Log(T)=4.94325752977 var=2.06016553124 score: 39424553194.3\n",
      "Log(T)=4.93889272437 var=1.85580241823 score: 39038651058.7\n",
      "Log(T)=4.93452791896 var=1.87048811197 score: 38662302816.7\n",
      "Log(T)=4.93016311356 var=1.81457885479 score: 38286147776.9\n",
      "Log(T)=4.92579830816 var=1.80201495777 score: 37931114026.4\n",
      "Log(T)=4.92143350276 var=1.85714743083 score: 37567571606.0\n",
      "Log(T)=4.91706869735 var=1.73776175117 score: 37244558908.7\n",
      "Log(T)=4.91270389195 var=1.69605852764 score: 36933735612.2\n",
      "Log(T)=4.90833908655 var=1.76445091247 score: 36596066835.9\n",
      "Log(T)=4.90397428115 var=1.69033262054 score: 36281362671.1\n",
      "Log(T)=4.89960947574 var=1.63241606852 score: 35990265391.8\n",
      "Log(T)=4.89524467034 var=1.63941527127 score: 35715772947.6\n",
      "Log(T)=4.89087986494 var=1.59192197164 score: 35460561174.4\n",
      "Log(T)=4.88651505954 var=1.60727067893 score: 35182337193.2\n",
      "Log(T)=4.88215025413 var=1.43480271946 score: 34964419873.3\n",
      "Log(T)=4.87778544873 var=1.53849454986 score: 34727774547.2\n",
      "Log(T)=4.87342064333 var=1.47489734253 score: 34492528936.6\n",
      "Log(T)=4.86905583793 var=1.39378911452 score: 34277791855.7\n",
      "Log(T)=4.86469103252 var=1.54898392348 score: 34041756726.9\n",
      "Log(T)=4.86032622712 var=1.36252020912 score: 33850025222.7\n",
      "Log(T)=4.85596142172 var=1.42518756262 score: 33647302056.0\n",
      "Log(T)=4.85159661632 var=1.44299029092 score: 33445152786.8\n",
      "Log(T)=4.84723181091 var=1.31934201646 score: 33263792404.4\n",
      "Log(T)=4.84286700551 var=1.24961267892 score: 33095981204.0\n",
      "Log(T)=4.83850220011 var=1.4221898233 score: 32899455190.2\n",
      "Log(T)=4.83413739471 var=1.38974996594 score: 32713719213.0\n",
      "Log(T)=4.8297725893 var=1.36730737006 score: 32530413700.2\n",
      "Log(T)=4.8254077839 var=1.35584594128 score: 32361097656.7\n",
      "Log(T)=4.8210429785 var=1.41219225932 score: 32185800009.5\n",
      "Log(T)=4.8166781731 var=1.30900898489 score: 32026143468.9\n",
      "Log(T)=4.81231336769 var=1.28794658813 score: 31875265934.6\n",
      "Log(T)=4.80794856229 var=1.26587461589 score: 31729360785.4\n",
      "Log(T)=4.80358375689 var=1.18468314418 score: 31595352806.9\n",
      "Log(T)=4.79921895149 var=1.27883607441 score: 31444924065.9\n",
      "Log(T)=4.79485414608 var=1.21823038908 score: 31314412564.4\n",
      "Log(T)=4.79048934068 var=1.25081970946 score: 31170503169.9\n",
      "Log(T)=4.78612453528 var=1.21428390666 score: 31034504678.5\n",
      "Log(T)=4.78175972988 var=1.18972322927 score: 30907870163.8\n",
      "Log(T)=4.77739492448 var=1.26716390276 score: 30773386257.6\n",
      "Log(T)=4.77303011907 var=1.24455523975 score: 30644948799.8\n",
      "Log(T)=4.76866531367 var=1.27833068848 score: 30520255314.2\n",
      "Log(T)=4.76430050827 var=1.18539036089 score: 30396795359.9\n",
      "Log(T)=4.75993570287 var=1.17857142201 score: 30279471640.2\n",
      "Log(T)=4.75557089746 var=1.1104998955 score: 30176750924.3\n",
      "Log(T)=4.75120609206 var=1.11393450584 score: 30076254148.4\n",
      "Log(T)=4.74684128666 var=1.26523778595 score: 29960343871.7\n",
      "Log(T)=4.74247648126 var=1.1975591987 score: 29846458182.4\n",
      "Log(T)=4.73811167585 var=1.09010736618 score: 29745627788.5\n",
      "Log(T)=4.73374687045 var=1.25590018551 score: 29622537753.5\n",
      "Log(T)=4.72938206505 var=1.23227583747 score: 29512210107.9\n",
      "Log(T)=4.72501725965 var=1.20234335232 score: 29405016608.6\n"
     ]
    },
    {
     "ename": "KeyboardInterrupt",
     "evalue": "",
     "output_type": "error",
     "traceback": [
      "\u001b[0;31m---------------------------------------------------------------------------\u001b[0m",
      "\u001b[0;31mKeyboardInterrupt\u001b[0m                         Traceback (most recent call last)",
      "\u001b[0;32m<ipython-input-68-9df993925065>\u001b[0m in \u001b[0;36m<module>\u001b[0;34m()\u001b[0m\n\u001b[1;32m      2\u001b[0m \u001b[0mm0\u001b[0m\u001b[0;34m=\u001b[0m\u001b[0;36m10\u001b[0m\u001b[0;34m**\u001b[0m\u001b[0;36m4\u001b[0m\u001b[0;34m\u001b[0m\u001b[0m\n\u001b[1;32m      3\u001b[0m \u001b[0;32mfor\u001b[0m \u001b[0mj\u001b[0m \u001b[0;32min\u001b[0m \u001b[0mnp\u001b[0m\u001b[0;34m.\u001b[0m\u001b[0marange\u001b[0m\u001b[0;34m(\u001b[0m\u001b[0;36m100\u001b[0m\u001b[0;34m)\u001b[0m\u001b[0;34m:\u001b[0m\u001b[0;34m\u001b[0m\u001b[0m\n\u001b[0;32m----> 4\u001b[0;31m     \u001b[0mvar\u001b[0m\u001b[0;34m=\u001b[0m\u001b[0mm\u001b[0m\u001b[0;34m.\u001b[0m\u001b[0mburn_in\u001b[0m\u001b[0;34m(\u001b[0m\u001b[0mm0\u001b[0m\u001b[0;34m,\u001b[0m\u001b[0mt\u001b[0m\u001b[0;34m)\u001b[0m\u001b[0;34m\u001b[0m\u001b[0m\n\u001b[0m\u001b[1;32m      5\u001b[0m     \u001b[0mprint\u001b[0m\u001b[0;34m(\u001b[0m\u001b[0;34m'Log(T)='\u001b[0m\u001b[0;34m+\u001b[0m\u001b[0mstr\u001b[0m\u001b[0;34m(\u001b[0m\u001b[0mnp\u001b[0m\u001b[0;34m.\u001b[0m\u001b[0mlog\u001b[0m\u001b[0;34m(\u001b[0m\u001b[0mt\u001b[0m\u001b[0;34m)\u001b[0m\u001b[0;34m/\u001b[0m\u001b[0mnp\u001b[0m\u001b[0;34m.\u001b[0m\u001b[0mlog\u001b[0m\u001b[0;34m(\u001b[0m\u001b[0;36m10\u001b[0m\u001b[0;34m)\u001b[0m\u001b[0;34m)\u001b[0m\u001b[0;34m+\u001b[0m\u001b[0;34m' var='\u001b[0m\u001b[0;34m+\u001b[0m\u001b[0mstr\u001b[0m\u001b[0;34m(\u001b[0m\u001b[0mvar\u001b[0m\u001b[0;34m)\u001b[0m\u001b[0;34m+\u001b[0m\u001b[0;34m' score: '\u001b[0m\u001b[0;34m+\u001b[0m\u001b[0mstr\u001b[0m\u001b[0;34m(\u001b[0m\u001b[0mm\u001b[0m\u001b[0;34m.\u001b[0m\u001b[0mWRW\u001b[0m\u001b[0;34m(\u001b[0m\u001b[0;34m)\u001b[0m\u001b[0;34m)\u001b[0m\u001b[0;34m)\u001b[0m\u001b[0;34m\u001b[0m\u001b[0m\n\u001b[1;32m      6\u001b[0m     \u001b[0;32mif\u001b[0m\u001b[0;34m(\u001b[0m\u001b[0mvar\u001b[0m \u001b[0;34m<\u001b[0m \u001b[0;36m3.0\u001b[0m\u001b[0;34m)\u001b[0m\u001b[0;34m:\u001b[0m\u001b[0;34m\u001b[0m\u001b[0m\n",
      "\u001b[0;32m/Users/rspeare/Code/python/kaggle/santa/src/mTSP.py\u001b[0m in \u001b[0;36mburn_in\u001b[0;34m(self, m0, Temp)\u001b[0m\n\u001b[1;32m    138\u001b[0m         \u001b[0mmu\u001b[0m\u001b[0;34m=\u001b[0m\u001b[0mnp\u001b[0m\u001b[0;34m.\u001b[0m\u001b[0mzeros\u001b[0m\u001b[0;34m(\u001b[0m\u001b[0mm0\u001b[0m\u001b[0;34m)\u001b[0m\u001b[0;34m\u001b[0m\u001b[0m\n\u001b[1;32m    139\u001b[0m         \u001b[0;32mfor\u001b[0m \u001b[0mi\u001b[0m \u001b[0;32min\u001b[0m \u001b[0mnp\u001b[0m\u001b[0;34m.\u001b[0m\u001b[0marange\u001b[0m\u001b[0;34m(\u001b[0m\u001b[0mm0\u001b[0m\u001b[0;34m)\u001b[0m\u001b[0;34m:\u001b[0m\u001b[0;34m\u001b[0m\u001b[0m\n\u001b[0;32m--> 140\u001b[0;31m             \u001b[0mmu\u001b[0m\u001b[0;34m[\u001b[0m\u001b[0mi\u001b[0m\u001b[0;34m]\u001b[0m\u001b[0;34m=\u001b[0m\u001b[0mself\u001b[0m\u001b[0;34m.\u001b[0m\u001b[0mpropose_swap\u001b[0m\u001b[0;34m(\u001b[0m\u001b[0mTemp\u001b[0m\u001b[0;34m)\u001b[0m\u001b[0;34m\u001b[0m\u001b[0m\n\u001b[0m\u001b[1;32m    141\u001b[0m         \u001b[0;32mreturn\u001b[0m \u001b[0mnp\u001b[0m\u001b[0;34m.\u001b[0m\u001b[0mstd\u001b[0m\u001b[0;34m(\u001b[0m\u001b[0mmu\u001b[0m\u001b[0;34m/\u001b[0m\u001b[0mTemp\u001b[0m\u001b[0;34m)\u001b[0m\u001b[0;34m\u001b[0m\u001b[0m\n\u001b[1;32m    142\u001b[0m \u001b[0;34m\u001b[0m\u001b[0m\n",
      "\u001b[0;32m/Users/rspeare/Code/python/kaggle/santa/src/mTSP.py\u001b[0m in \u001b[0;36mpropose_swap\u001b[0;34m(self, Temp)\u001b[0m\n\u001b[1;32m    152\u001b[0m         \u001b[0mself\u001b[0m\u001b[0;34m.\u001b[0m\u001b[0mswap\u001b[0m\u001b[0;34m(\u001b[0m\u001b[0mg1\u001b[0m\u001b[0;34m,\u001b[0m\u001b[0mg2\u001b[0m\u001b[0;34m)\u001b[0m\u001b[0;34m\u001b[0m\u001b[0m\n\u001b[1;32m    153\u001b[0m         \u001b[0;32mtry\u001b[0m\u001b[0;34m:\u001b[0m\u001b[0;34m\u001b[0m\u001b[0m\n\u001b[0;32m--> 154\u001b[0;31m             \u001b[0md2\u001b[0m\u001b[0;34m=\u001b[0m\u001b[0mself\u001b[0m\u001b[0;34m.\u001b[0m\u001b[0mtrip_weariness\u001b[0m\u001b[0;34m(\u001b[0m\u001b[0mself\u001b[0m\u001b[0;34m.\u001b[0m\u001b[0mtrips\u001b[0m\u001b[0;34m[\u001b[0m\u001b[0mt1\u001b[0m\u001b[0;34m]\u001b[0m\u001b[0;34m,\u001b[0m\u001b[0mt1\u001b[0m\u001b[0;34m)\u001b[0m\u001b[0;34m+\u001b[0m\u001b[0mself\u001b[0m\u001b[0;34m.\u001b[0m\u001b[0mtrip_weariness\u001b[0m\u001b[0;34m(\u001b[0m\u001b[0mself\u001b[0m\u001b[0;34m.\u001b[0m\u001b[0mtrips\u001b[0m\u001b[0;34m[\u001b[0m\u001b[0mt2\u001b[0m\u001b[0;34m]\u001b[0m\u001b[0;34m,\u001b[0m\u001b[0mt2\u001b[0m\u001b[0;34m)\u001b[0m\u001b[0;34m\u001b[0m\u001b[0m\n\u001b[0m\u001b[1;32m    155\u001b[0m         \u001b[0;32mexcept\u001b[0m \u001b[0mValueError\u001b[0m\u001b[0;34m:\u001b[0m\u001b[0;34m\u001b[0m\u001b[0m\n\u001b[1;32m    156\u001b[0m             \u001b[0;31m# infeasible swap\u001b[0m\u001b[0;34m\u001b[0m\u001b[0;34m\u001b[0m\u001b[0m\n",
      "\u001b[0;32m/Users/rspeare/Code/python/kaggle/santa/src/mTSP.py\u001b[0m in \u001b[0;36mtrip_weariness\u001b[0;34m(self, gifts, ii)\u001b[0m\n\u001b[1;32m     73\u001b[0m \u001b[0;34m\u001b[0m\u001b[0m\n\u001b[1;32m     74\u001b[0m         \u001b[0;32mfor\u001b[0m \u001b[0mlocation\u001b[0m\u001b[0;34m,\u001b[0m\u001b[0mweight\u001b[0m \u001b[0;32min\u001b[0m \u001b[0mzip\u001b[0m\u001b[0;34m(\u001b[0m\u001b[0mtuples\u001b[0m\u001b[0;34m,\u001b[0m\u001b[0mweights\u001b[0m\u001b[0;34m)\u001b[0m\u001b[0;34m:\u001b[0m\u001b[0;34m\u001b[0m\u001b[0m\n\u001b[0;32m---> 75\u001b[0;31m             \u001b[0mdist\u001b[0m\u001b[0;34m=\u001b[0m\u001b[0mdist\u001b[0m\u001b[0;34m+\u001b[0m\u001b[0mhaversine\u001b[0m\u001b[0;34m(\u001b[0m\u001b[0mlocation\u001b[0m\u001b[0;34m,\u001b[0m\u001b[0mprev\u001b[0m\u001b[0;34m)\u001b[0m\u001b[0;34m*\u001b[0m\u001b[0mprev_weight\u001b[0m\u001b[0;34m\u001b[0m\u001b[0m\n\u001b[0m\u001b[1;32m     76\u001b[0m             \u001b[0mprev\u001b[0m\u001b[0;34m=\u001b[0m\u001b[0mlocation\u001b[0m\u001b[0;34m\u001b[0m\u001b[0m\n\u001b[1;32m     77\u001b[0m             \u001b[0mprev_weight\u001b[0m\u001b[0;34m-=\u001b[0m\u001b[0mweight\u001b[0m\u001b[0;34m\u001b[0m\u001b[0m\n",
      "\u001b[0;32m/Users/rspeare/anaconda/lib/python3.5/site-packages/haversine/__init__.py\u001b[0m in \u001b[0;36mhaversine\u001b[0;34m(point1, point2, miles)\u001b[0m\n\u001b[1;32m     22\u001b[0m \u001b[0;34m\u001b[0m\u001b[0m\n\u001b[1;32m     23\u001b[0m     \u001b[0;31m# convert all latitudes/longitudes from decimal degrees to radians\u001b[0m\u001b[0;34m\u001b[0m\u001b[0;34m\u001b[0m\u001b[0m\n\u001b[0;32m---> 24\u001b[0;31m     \u001b[0mlat1\u001b[0m\u001b[0;34m,\u001b[0m \u001b[0mlng1\u001b[0m\u001b[0;34m,\u001b[0m \u001b[0mlat2\u001b[0m\u001b[0;34m,\u001b[0m \u001b[0mlng2\u001b[0m \u001b[0;34m=\u001b[0m \u001b[0mmap\u001b[0m\u001b[0;34m(\u001b[0m\u001b[0mradians\u001b[0m\u001b[0;34m,\u001b[0m \u001b[0;34m(\u001b[0m\u001b[0mlat1\u001b[0m\u001b[0;34m,\u001b[0m \u001b[0mlng1\u001b[0m\u001b[0;34m,\u001b[0m \u001b[0mlat2\u001b[0m\u001b[0;34m,\u001b[0m \u001b[0mlng2\u001b[0m\u001b[0;34m)\u001b[0m\u001b[0;34m)\u001b[0m\u001b[0;34m\u001b[0m\u001b[0m\n\u001b[0m\u001b[1;32m     25\u001b[0m \u001b[0;34m\u001b[0m\u001b[0m\n\u001b[1;32m     26\u001b[0m     \u001b[0;31m# calculate haversine\u001b[0m\u001b[0;34m\u001b[0m\u001b[0;34m\u001b[0m\u001b[0m\n",
      "\u001b[0;31mKeyboardInterrupt\u001b[0m: "
     ]
    }
   ],
   "source": [
    "t=10**5.\n",
    "m0=10**4\n",
    "for j in np.arange(100): \n",
    "    var=m.burn_in(m0,t)\n",
    "    print('Log(T)='+str(np.log(t)/np.log(10))+' var='+str(var)+' score: '+str(m.WRW()))\n",
    "    if(var < 3.0):\n",
    "        t*=.99"
   ]
  },
  {
   "cell_type": "code",
   "execution_count": 69,
   "metadata": {
    "collapsed": false
   },
   "outputs": [],
   "source": [
    "#f = open('../data/sub.csv', 'w')\n",
    "with open('../data/sub.csv', 'w') as f:\n",
    "    f.write('GiftId,TripId\\n')\n",
    "    for i in np.arange(len(m.trips)):\n",
    "        for g in m.trips[i]:\n",
    "            f.writelines(str(g)+','+str(i)+'\\n')\n",
    "#        f.write(str(g)+','+str(i)+'\\n')"
   ]
  },
  {
   "cell_type": "code",
   "execution_count": 413,
   "metadata": {
    "collapsed": false
   },
   "outputs": [],
   "source": [
    "#m.trips"
   ]
  },
  {
   "cell_type": "code",
   "execution_count": 411,
   "metadata": {
    "collapsed": false
   },
   "outputs": [
    {
     "data": {
      "text/plain": [
       "100000"
      ]
     },
     "execution_count": 411,
     "metadata": {},
     "output_type": "execute_result"
    }
   ],
   "source": [
    "gifts=[item for sublist in m.trips for item in sublist]                                                          \n",
    "len(gifts)"
   ]
  },
  {
   "cell_type": "code",
   "execution_count": 408,
   "metadata": {
    "collapsed": false
   },
   "outputs": [
    {
     "data": {
      "text/plain": [
       "0"
      ]
     },
     "execution_count": 408,
     "metadata": {},
     "output_type": "execute_result"
    }
   ],
   "source": [
    "m.tmap[gifts[0]][0]"
   ]
  },
  {
   "cell_type": "code",
   "execution_count": 434,
   "metadata": {
    "collapsed": false
   },
   "outputs": [],
   "source": [
    "f = open('../data/sub.csv', 'w')\n",
    "f.write('GiftId,TripId\\n')\n",
    "for g in m.gifts:\n",
    "#    print(g)\n",
    "    f.writelines(str(g)+','+str(m.tmap[g][0])+'\\n')\n",
    "#        f.write(str(g)+','+str(i)+'\\n')"
   ]
  },
  {
   "cell_type": "code",
   "execution_count": 429,
   "metadata": {
    "collapsed": false
   },
   "outputs": [
    {
     "data": {
      "text/plain": [
       "0.30486488494257985"
      ]
     },
     "execution_count": 429,
     "metadata": {},
     "output_type": "execute_result"
    }
   ],
   "source": [
    "m.WRW()/311908901482.64100"
   ]
  },
  {
   "cell_type": "code",
   "execution_count": null,
   "metadata": {
    "collapsed": true
   },
   "outputs": [],
   "source": [
    "np.savetxt('submission0.csv',df1[df1['GiftId']!=-1][['GiftId','TripId']].values.astype(np.int),fmt='%2.0d',delimiter=',',header='GiftId,TripId')\n",
    "%more submission0.csv"
   ]
  }
 ],
 "metadata": {
  "kernelspec": {
   "display_name": "Python 3",
   "language": "python",
   "name": "python3"
  },
  "language_info": {
   "codemirror_mode": {
    "name": "ipython",
    "version": 3
   },
   "file_extension": ".py",
   "mimetype": "text/x-python",
   "name": "python",
   "nbconvert_exporter": "python",
   "pygments_lexer": "ipython3",
   "version": "3.5.1"
  }
 },
 "nbformat": 4,
 "nbformat_minor": 0
}
