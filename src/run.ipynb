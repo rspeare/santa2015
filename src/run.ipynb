{
 "cells": [
  {
   "cell_type": "code",
   "execution_count": 1,
   "metadata": {
    "collapsed": true
   },
   "outputs": [],
   "source": [
    "import pandas as pd\n",
    "import numpy as np\n",
    "import pickle"
   ]
  },
  {
   "cell_type": "code",
   "execution_count": 2,
   "metadata": {
    "collapsed": false
   },
   "outputs": [
    {
     "data": {
      "text/plain": [
       "<module 'mTSP' from '/Users/rspeare/Code/python/kaggle/santa/src/mTSP.py'>"
      ]
     },
     "execution_count": 2,
     "metadata": {},
     "output_type": "execute_result"
    }
   ],
   "source": [
    "import mTSP\n",
    "import imp\n",
    "imp.reload(mTSP)"
   ]
  },
  {
   "cell_type": "code",
   "execution_count": 3,
   "metadata": {
    "collapsed": false
   },
   "outputs": [],
   "source": [
    "import matplotlib.pyplot as plt\n",
    "%matplotlib inline"
   ]
  },
  {
   "cell_type": "code",
   "execution_count": 21,
   "metadata": {
    "collapsed": false
   },
   "outputs": [],
   "source": [
    "imp.reload(mTSP)\n",
    "m=mTSP.mission(20)\n",
    "#m.loss()"
   ]
  },
  {
   "cell_type": "code",
   "execution_count": 31,
   "metadata": {
    "collapsed": false
   },
   "outputs": [],
   "source": [
    "m.init_small_trips(1447)\n",
    "loads=m.check_loads()\n",
    "m.check_tmap()"
   ]
  },
  {
   "cell_type": "code",
   "execution_count": 32,
   "metadata": {
    "collapsed": false,
    "scrolled": true
   },
   "outputs": [
    {
     "data": {
      "image/png": "[encoded data removed]",
      "text/plain": [
       "<matplotlib.figure.Figure at 0x1112f5f28>"
      ]
     },
     "metadata": {},
     "output_type": "display_data"
    }
   ],
   "source": [
    "plt.hist(loads,30)\n",
    "plt.show()"
   ]
  },
  {
   "cell_type": "code",
   "execution_count": 34,
   "metadata": {
    "collapsed": false
   },
   "outputs": [
    {
     "data": {
      "text/plain": [
       "array([     1,      2,      3, ...,  99998,  99999, 100000])"
      ]
     },
     "execution_count": 34,
     "metadata": {},
     "output_type": "execute_result"
    }
   ],
   "source": [
    "m.gifts.values"
   ]
  },
  {
   "cell_type": "code",
   "execution_count": 19,
   "metadata": {
    "collapsed": false
   },
   "outputs": [
    {
     "data": {
      "text/plain": [
       "(array([   1.,    0.,    3.,    1.,    2.,    6.,    2.,    5.,    5.,\n",
       "          11.,    4.,   20.,   11.,   17.,   21.,   21.,   33.,   43.,\n",
       "          43.,   51.,   61.,   79.,   75.,   90.,  115.,  127.,  134.,\n",
       "         140.,  192.,  187.]),\n",
       " array([ 705.54737642,  715.35699129,  725.16660617,  734.97622104,\n",
       "         744.78583592,  754.59545079,  764.40506567,  774.21468054,\n",
       "         784.02429542,  793.83391029,  803.64352517,  813.45314004,\n",
       "         823.26275492,  833.07236979,  842.88198467,  852.69159954,\n",
       "         862.50121442,  872.31082929,  882.12044417,  891.93005904,\n",
       "         901.73967392,  911.54928879,  921.35890367,  931.16851854,\n",
       "         940.97813342,  950.78774829,  960.59736317,  970.40697804,\n",
       "         980.21659292,  990.02620779,  999.83582267]),\n",
       " <a list of 30 Patch objects>)"
      ]
     },
     "execution_count": 19,
     "metadata": {},
     "output_type": "execute_result"
    },
    {
     "data": {
      "image/png": "[encoded data removed]",
      "text/plain": [
       "<matplotlib.figure.Figure at 0x10f982080>"
      ]
     },
     "metadata": {},
     "output_type": "display_data"
    }
   ],
   "source": [
    "loads=m.check_loads()\n",
    "import matplotlib.pyplot as plt\n",
    "%matplotlib inline\n",
    "plt.hist(loads,30)"
   ]
  },
  {
   "cell_type": "code",
   "execution_count": 18,
   "metadata": {
    "collapsed": false
   },
   "outputs": [
    {
     "name": "stdout",
     "output_type": "stream",
     "text": [
      "score: 167564857309.0 var2: 1.79935207822\n",
      "Log(T) 5.53424250944\n",
      "score: 151499972108.0 var2: 1.4578199759\n",
      "Log(T) 5.48848501888\n",
      "score: 139660896705.0 var2: 1.26001686605\n",
      "Log(T) 5.44272752832\n",
      "score: 130678915966.0 var2: 1.16385941474\n",
      "Log(T) 5.39697003776\n",
      "score: 123367188377.0 var2: 1.07381475714\n",
      "Log(T) 5.3512125472\n",
      "score: 117551364299.0 var2: 1.0539476053\n",
      "Log(T) 5.30545505664\n",
      "score: 112652373615.0 var2: 1.01668544575\n",
      "Log(T) 5.25969756608\n",
      "score: 108285948637.0 var2: 0.965505923573\n",
      "Log(T) 5.21394007551\n",
      "score: 104591339136.0 var2: 0.984856539851\n",
      "Log(T) 5.16818258495\n",
      "score: 101119153575.0 var2: 1.0095405637\n",
      "Log(T) 5.12242509439\n"
     ]
    }
   ],
   "source": [
    "#m2=10**4\n",
    "t=10**5.58\n",
    "m3=10**5\n",
    "for i in np.arange(10):\n",
    "    var2=m.burn_swap(m3,t)\n",
    "#    var3=m.burn_swap3(m3,t)\n",
    "    var=m.burn_merge(m3,t)\n",
    "    print('score: '+str(m.loss())+' var2: '+str(var2))#\n",
    "    m.check_tmap()\n",
    "    m.check_loads()\n",
    "    if (var2<3.0):\n",
    "        t*=.9\n",
    "        print('Log(T)',np.log(t)/np.log(10))"
   ]
  },
  {
   "cell_type": "code",
   "execution_count": 11,
   "metadata": {
    "collapsed": false
   },
   "outputs": [
    {
     "name": "stdout",
     "output_type": "stream",
     "text": [
      "1500\n"
     ]
    }
   ],
   "source": [
    "print(len(m.trips))"
   ]
  },
  {
   "cell_type": "code",
   "execution_count": 20,
   "metadata": {
    "collapsed": true
   },
   "outputs": [],
   "source": [
    "m.write_submission('../data/1500trips_laptop.csv')"
   ]
  },
  {
   "cell_type": "code",
   "execution_count": null,
   "metadata": {
    "collapsed": true
   },
   "outputs": [],
   "source": []
  }
 ],
 "metadata": {
  "kernelspec": {
   "display_name": "Python 3",
   "language": "python",
   "name": "python3"
  },
  "language_info": {
   "codemirror_mode": {
    "name": "ipython",
    "version": 3
   },
   "file_extension": ".py",
   "mimetype": "text/x-python",
   "name": "python",
   "nbconvert_exporter": "python",
   "pygments_lexer": "ipython3",
   "version": "3.5.1"
  }
 },
 "nbformat": 4,
 "nbformat_minor": 0
}
