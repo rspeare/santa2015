{
 "cells": [
  {
   "cell_type": "code",
   "execution_count": 1,
   "metadata": {
    "collapsed": false
   },
   "outputs": [
    {
     "name": "stderr",
     "output_type": "stream",
     "text": [
      "/Users/rspeare/anaconda/lib/python3.5/site-packages/matplotlib/__init__.py:872: UserWarning: axes.color_cycle is deprecated and replaced with axes.prop_cycle; please use the latter.\n",
      "  warnings.warn(self.msg_depr % (key, alt_key))\n"
     ]
    }
   ],
   "source": [
    "import pandas as pd\n",
    "import numpy as np\n",
    "from haversine import haversine\n",
    "import matplotlib.pyplot as plt\n",
    "import seaborn as sns\n",
    "%matplotlib inline"
   ]
  },
  {
   "cell_type": "code",
   "execution_count": 2,
   "metadata": {
    "collapsed": true
   },
   "outputs": [],
   "source": [
    "north_pole = [90.,0.]\n",
    "weight_limit = 1000.\n",
    "sleigh_weight = 10."
   ]
  },
  {
   "cell_type": "code",
   "execution_count": 3,
   "metadata": {
    "collapsed": true
   },
   "outputs": [],
   "source": [
    "def weighted_trip_length(stops, weights): \n",
    "    tuples = [tuple(x) for x in stops.values]\n",
    "    # adding the last trip back to north pole, with just the sleigh weight\n",
    "    tuples.append(north_pole)\n",
    "    weights.append(sleigh_weight)\n",
    "    \n",
    "    dist = 0.0\n",
    "    prev_stop = north_pole\n",
    "    prev_weight = sum(weights)\n",
    "    for location, weight in zip(tuples, weights):\n",
    "        dist = dist + haversine(location, prev_stop) * prev_weight\n",
    "        prev_stop = location\n",
    "        prev_weight = prev_weight - weight\n",
    "    if (np.sum(weights)> weight_limit):\n",
    "        return np.inf\n",
    "    else:\n",
    "        return dist\n",
    "\n",
    "def weighted_reindeer_weariness(all_trips):\n",
    "    uniq_trips = all_trips.TripId.unique()\n",
    "    \n",
    "    if any(all_trips.groupby('TripId').Weight.sum() > weight_limit):\n",
    "        raise Exception(\"One of the sleighs over weight limit!\")\n",
    " \n",
    "    dist = 0.0\n",
    "    for t in uniq_trips:\n",
    "        this_trip = all_trips[all_trips.TripId==t]\n",
    "        dist = dist + weighted_trip_length(this_trip[['Latitude','Longitude']], this_trip.Weight.tolist())\n",
    "    \n",
    "    return dist    "
   ]
  },
  {
   "cell_type": "code",
   "execution_count": null,
   "metadata": {
    "collapsed": false
   },
   "outputs": [],
   "source": []
  },
  {
   "cell_type": "code",
   "execution_count": 4,
   "metadata": {
    "collapsed": false
   },
   "outputs": [],
   "source": [
    "gifts = pd.read_csv('gifts.csv')\n",
    "sample_sub = pd.read_csv('sample_submission.csv')\n",
    "\n",
    "all_trips = sample_sub.merge(gifts, on='GiftId')"
   ]
  },
  {
   "cell_type": "code",
   "execution_count": 5,
   "metadata": {
    "collapsed": true
   },
   "outputs": [],
   "source": [
    "naive_score=weighted_reindeer_weariness(all_trips)"
   ]
  },
  {
   "cell_type": "code",
   "execution_count": 6,
   "metadata": {
    "collapsed": false
   },
   "outputs": [
    {
     "name": "stdout",
     "output_type": "stream",
     "text": [
      "144525525772.0 12395765387.8785\n"
     ]
    }
   ],
   "source": [
    "best_score=12395765387.87850\n",
    "print(naive_score,best_score)"
   ]
  },
  {
   "cell_type": "markdown",
   "metadata": {},
   "source": [
    "# Initializiaton: Setup stops, Check for Validity"
   ]
  },
  {
   "cell_type": "code",
   "execution_count": 13,
   "metadata": {
    "collapsed": false
   },
   "outputs": [],
   "source": [
    "# Add lots of 'north pole' stops, concatenate them to the original gifts data frame\n",
    "def initialize(frac):\n",
    "    notValid=True\n",
    "    while (notValid):\n",
    "        seed1=np.insert(north_pole,0,-1)\n",
    "        seed1=np.insert(seed1,3,0.)\n",
    "        s=pd.DataFrame(seed1,index=gifts.columns.values).T\n",
    "        s.head()\n",
    "        s=pd.DataFrame(seed1,index=gifts.columns.values).T\n",
    "        for i in np.arange(np.log(len(gifts)*frac)/np.log(2.)):\n",
    "            s=pd.concat([s,s])\n",
    "        print(len(s))\n",
    "    \n",
    "        dfc=pd.concat([gifts,s])\n",
    "        dfc.head()\n",
    "        \n",
    "        # Now randomly distribute the stops\n",
    "        dfc=dfc.iloc[np.random.permutation(len(dfc))]\n",
    "        dfc.head()\n",
    "    \n",
    "        stops=np.where(dfc['GiftId']==-1)[0]\n",
    "        \n",
    "        dfc['tripW']=np.zeros(len(dfc))\n",
    "        dfc['TripId']=np.zeros(len(dfc))\n",
    "\n",
    "        ###### CHECK IF A VALID SET OF STOPS\n",
    "        cumWeights=[]\n",
    "    \n",
    "        np.insert(stops,0,0)\n",
    "        np.insert(stops,len(stops),len(dfc)+1)\n",
    "    \n",
    "        tripWeight=np.sum(dfc['Weight'].values[:stops[0]])\n",
    "        cumWeights.append(tripWeight)\n",
    "        dfc['tripW'].values[:stops[0]]=tripWeight\n",
    "        dfc['TripId'].values[:stops[0]]=0\n",
    "        \n",
    "        for i in np.arange(len(stops)-1):\n",
    "    #    print(i)\n",
    "            tripWeight=np.sum(dfc['Weight'].values[stops[i]:stops[i+1]])\n",
    "            cumWeights.append(tripWeight)\n",
    "            dfc['tripW'].values[stops[i]:stops[i+1]]=tripWeight\n",
    "            dfc['TripId'].values[stops[i]:stops[i+1]]=i\n",
    "        \n",
    "        tripWeight=np.sum(dfc['Weight'].values[stops[-1]:])\n",
    "        cumWeights.append(tripWeight)\n",
    "        dfc['tripW'].values[stops[-1]:]=tripWeight\n",
    "        dfc['TripId'].values[stops[-1]:]=i+1\n",
    "\n",
    "        cumWeights=np.array(cumWeights)\n",
    "        \n",
    "        if np.any(dfc['tripW'].values > 1000.-10.):\n",
    "            print('Too much weight in the sleigh!')\n",
    "            frac*=1.1\n",
    "        else:\n",
    "            print('legal set of stops')\n",
    "            notValid=False\n",
    "    if np.any(np.isnan(dfc)):\n",
    "        print('WARNING THERE ARE NAN TRIP IDS')\n",
    "    #print('calculating initial score fraction...relative to Naive')\n",
    "    return dfc\n",
    "   \n"
   ]
  },
  {
   "cell_type": "markdown",
   "metadata": {},
   "source": [
    "# Two Opt Code: Swap two stops, see if valid and check for improvement"
   ]
  },
  {
   "cell_type": "code",
   "execution_count": 14,
   "metadata": {
    "collapsed": false
   },
   "outputs": [],
   "source": [
    "def swap2(i,j,dfc):\n",
    "    for attr in ['GiftId','Latitude','Longitude','Weight']:\n",
    "        tmpi=dfc.iloc[i][attr]\n",
    "        tmpj=dfc.iloc[j][attr]\n",
    "        dfc.iloc[i][attr]=tmpj\n",
    "        dfc.iloc[j][attr]=tmpi"
   ]
  },
  {
   "cell_type": "code",
   "execution_count": 28,
   "metadata": {
    "collapsed": true
   },
   "outputs": [],
   "source": [
    "def propose_swap(dfc,Temp,lbound,hbound):\n",
    "    \"\"\"\n",
    "    Propose a random Swap of two cities in the traveling salesmen problem\n",
    "    \"\"\"\n",
    "    i1,i2=np.random.randint(lbound,high=hbound,size=2)\n",
    "    trip0ID=dfc.iloc[i1]['TripId']\n",
    "    trip1ID=dfc.iloc[i2]['TripId']\n",
    "    trip0=dfc[dfc['TripId']==trip0ID]\n",
    "    trip1=dfc[dfc['TripId']==trip1ID]\n",
    "\n",
    "    dist1=weighted_trip_length(trip0[['Latitude','Longitude']], trip0.Weight.tolist())+weighted_trip_length(trip1[['Latitude','Longitude']], trip1.Weight.tolist())\n",
    "    \n",
    "    swap2(i1,i2,dfc)\n",
    "    trip0ID=dfc.iloc[i1]['TripId']\n",
    "    trip1ID=dfc.iloc[i2]['TripId']\n",
    "    trip0=dfc[dfc['TripId']==trip0ID]\n",
    "    trip1=dfc[dfc['TripId']==trip1ID]\n",
    "\n",
    "    dist2=weighted_trip_length(trip0[['Latitude','Longitude']], trip0.Weight.tolist())+weighted_trip_length(trip1[['Latitude','Longitude']], trip1.Weight.tolist())\n",
    "\n",
    "    if (dist2 < dist1):\n",
    "#        print('accepted')\n",
    "#        print(dist2-dist1)\n",
    "        return (dist2 - dist1)\n",
    "    else:\n",
    "        prob=np.exp((dist1-dist2)/Temp)\n",
    "        sample=np.random.rand()\n",
    "        # Accept Swap with probability exp(-deltaD/T)\n",
    "        if (sample < prob):\n",
    "#            print('accepted with probability :',prob)\n",
    "#            print(dist2-dist1)\n",
    "            return (dist2 - dist1)\n",
    "        else:\n",
    "#            print('rejected with probability :',1.-prob)\n",
    "            swap2(i1,i2,dfc)\n",
    "            return 0.\n",
    "    # should never get here\n",
    "    return (dist2 - dist1)"
   ]
  },
  {
   "cell_type": "code",
   "execution_count": 29,
   "metadata": {
    "collapsed": true
   },
   "outputs": [],
   "source": [
    "def running_mean(x,N):\n",
    "    return np.convolve(x, np.ones((N,))/N, mode='valid')"
   ]
  },
  {
   "cell_type": "markdown",
   "metadata": {},
   "source": [
    "# The Burn In Process"
   ]
  },
  {
   "cell_type": "code",
   "execution_count": 25,
   "metadata": {
    "collapsed": false
   },
   "outputs": [
    {
     "name": "stdout",
     "output_type": "stream",
     "text": [
      "16384\n",
      "legal set of stops\n"
     ]
    },
    {
     "data": {
      "text/plain": [
       "8.2585999039398494"
      ]
     },
     "execution_count": 25,
     "metadata": {},
     "output_type": "execute_result"
    }
   ],
   "source": [
    "df0=initialize(0.1)\n",
    "weighted_reindeer_weariness(df0[all_trips.columns])/best_score"
   ]
  },
  {
   "cell_type": "code",
   "execution_count": 26,
   "metadata": {
    "collapsed": false
   },
   "outputs": [],
   "source": [
    "def burn_in(T,m,df,lbound,hbound):\n",
    "    c=[]\n",
    "    for i in np.arange(m):\n",
    "        delta=propose_swap(df,Temp,lbound,hbound)\n",
    "        c.append(delta)\n",
    "    return np.array(c)"
   ]
  },
  {
   "cell_type": "code",
   "execution_count": null,
   "metadata": {
    "collapsed": true
   },
   "outputs": [],
   "source": [
    "m0=1000\n",
    "count=0\n",
    "Temp=10**5.6\n",
    "var=100."
   ]
  },
  {
   "cell_type": "code",
   "execution_count": null,
   "metadata": {
    "collapsed": false
   },
   "outputs": [
    {
     "name": "stdout",
     "output_type": "stream",
     "text": [
      "log(T): 4.5475777171 var: 6.90262747606\n",
      "        equilibriation(0)  var: 6.20711133316\n",
      "41639739126.9\n",
      "        equilibriation(2000)  var: 5.46544401959"
     ]
    }
   ],
   "source": [
    "m0=2000\n",
    "print('log(T): '+str(np.log(Temp)/np.log(10.))+' var: '+str(var))\n",
    "for n in np.arange(100):\n",
    "    mu=burn_in(Temp,m0,df0,0,len(df0))\n",
    "    var=np.std(mu/Temp)\n",
    "    print('        equilibriation('+str(count)+')  var: '+str(var))\n",
    "    score2=weighted_reindeer_weariness(df0[all_trips.columns])\n",
    "    print(score2)\n",
    "    if (var < 5.):\n",
    "        Temp*=.9\n",
    "        print('log(T): '+str(np.log(Temp)/np.log(10.))+' var: '+str(var))\n",
    "        count=0\n",
    "    else:\n",
    "        count+=m0\n",
    "#    plt.plot(mu/Temp)\n",
    "#score2=weighted_reindeer_weariness(df0[all_trips.columns])\n",
    "#print(score2/best_score)\n",
    "plt.plot(mu/Temp)\n",
    "#print(np.mean(mu/Temp),np.std(mu/Temp))\n",
    "plt.show()"
   ]
  },
  {
   "cell_type": "code",
   "execution_count": 38,
   "metadata": {
    "collapsed": false
   },
   "outputs": [],
   "source": [
    "df0.to_csv('santas_route_2.csv')"
   ]
  },
  {
   "cell_type": "code",
   "execution_count": null,
   "metadata": {
    "collapsed": true
   },
   "outputs": [],
   "source": []
  },
  {
   "cell_type": "code",
   "execution_count": null,
   "metadata": {
    "collapsed": true
   },
   "outputs": [],
   "source": []
  },
  {
   "cell_type": "code",
   "execution_count": null,
   "metadata": {
    "collapsed": true
   },
   "outputs": [],
   "source": []
  },
  {
   "cell_type": "code",
   "execution_count": null,
   "metadata": {
    "collapsed": true
   },
   "outputs": [],
   "source": []
  },
  {
   "cell_type": "code",
   "execution_count": null,
   "metadata": {
    "collapsed": true
   },
   "outputs": [],
   "source": []
  },
  {
   "cell_type": "code",
   "execution_count": 1031,
   "metadata": {
    "collapsed": false
   },
   "outputs": [
    {
     "name": "stdout",
     "output_type": "stream",
     "text": [
      "6.60179278289\n"
     ]
    }
   ],
   "source": [
    "score2=weighted_reindeer_weariness(df0[all_trips.columns])\n",
    "print(score2/best_score)"
   ]
  },
  {
   "cell_type": "code",
   "execution_count": 1004,
   "metadata": {
    "collapsed": false
   },
   "outputs": [
    {
     "name": "stdout",
     "output_type": "stream",
     "text": [
      "7.19265499438\n"
     ]
    }
   ],
   "source": [
    "# former score 7.36279912599,6.81\n",
    "score2=weighted_reindeer_weariness(df0[all_trips.columns])\n",
    "print(score2/best_score)"
   ]
  },
  {
   "cell_type": "code",
   "execution_count": null,
   "metadata": {
    "collapsed": true
   },
   "outputs": [],
   "source": [
    "m0=500\n",
    "window=50\n",
    "deltaT=.01\n",
    "t=6."
   ]
  },
  {
   "cell_type": "code",
   "execution_count": 933,
   "metadata": {
    "collapsed": false
   },
   "outputs": [
    {
     "name": "stdout",
     "output_type": "stream",
     "text": [
      "log(Temperature): 5.0...acceptance probability:0.03mean correction: 0.633157458085\n",
      "log(Temperature): 4.99...acceptance probability:0.05mean correction: 0.419575638638\n",
      "log(Temperature): 4.98...acceptance probability:0.056mean correction: 0.466781222867\n",
      "log(Temperature): 4.970000000000001...acceptance probability:0.048mean correction: 0.321610997045\n",
      "log(Temperature): 4.960000000000001...acceptance probability:0.046mean correction: 0.505829201243\n",
      "log(Temperature): 4.950000000000001...acceptance probability:0.046mean correction: 0.549515077247\n",
      "log(Temperature): 4.940000000000001...acceptance probability:0.032mean correction: 0.618809328607\n",
      "log(Temperature): 4.9300000000000015...acceptance probability:0.042mean correction: 0.640549083314\n",
      "log(Temperature): 4.920000000000002...acceptance probability:0.056mean correction: 0.4038819483\n",
      "log(Temperature): 4.910000000000002...acceptance probability:0.044mean correction: 0.707050820525\n",
      "log(Temperature): 4.900000000000002...acceptance probability:0.05mean correction: 0.374741986294\n",
      "log(Temperature): 4.890000000000002...acceptance probability:0.046mean correction: 0.611478324045\n",
      "log(Temperature): 4.880000000000003...acceptance probability:0.052mean correction: 0.544761002288\n",
      "log(Temperature): 4.870000000000003...acceptance probability:0.046mean correction: 0.461289256616\n",
      "log(Temperature): 4.860000000000003...acceptance probability:0.062mean correction: 0.610666606944\n",
      "log(Temperature): 4.850000000000003...acceptance probability:0.04mean correction: 0.71523757655\n",
      "log(Temperature): 4.840000000000003...acceptance probability:0.03mean correction: 0.839365473203\n",
      "log(Temperature): 4.830000000000004...acceptance probability:0.04mean correction: 0.580437448878\n",
      "log(Temperature): 4.820000000000004...acceptance probability:0.052mean correction: 0.7583752557\n",
      "log(Temperature): 4.810000000000004...acceptance probability:0.056mean correction: 0.574566172746\n",
      "log(Temperature): 4.800000000000004...acceptance probability:0.048mean correction: 0.612456604129\n",
      "log(Temperature): 4.7900000000000045...acceptance probability:0.056mean correction: 0.622825515864\n",
      "log(Temperature): 4.780000000000005...acceptance probability:0.03mean correction: 0.935582851437\n",
      "log(Temperature): 4.770000000000005...acceptance probability:0.06mean correction: 0.674789271247\n",
      "log(Temperature): 4.760000000000005...acceptance probability:0.054mean correction: 0.570956953595\n",
      "log(Temperature): 4.750000000000005...acceptance probability:0.064mean correction: 0.862105823841\n",
      "log(Temperature): 4.7400000000000055...acceptance probability:0.062mean correction: 0.662871519364\n",
      "log(Temperature): 4.730000000000006...acceptance probability:0.052mean correction: 0.796254273979\n",
      "log(Temperature): 4.720000000000006...acceptance probability:0.05mean correction: 0.896682175543\n",
      "log(Temperature): 4.710000000000006...acceptance probability:0.056mean correction: 1.14579954472\n",
      "log(Temperature): 4.710000000000006...acceptance probability:0.052mean correction: 1.1629233442\n",
      "log(Temperature): 4.710000000000006...acceptance probability:0.054mean correction: 0.807610256327\n",
      "log(Temperature): 4.700000000000006...acceptance probability:0.042mean correction: 1.08523090034\n",
      "log(Temperature): 4.700000000000006...acceptance probability:0.044mean correction: 0.772293628611\n",
      "log(Temperature): 4.690000000000007...acceptance probability:0.04mean correction: 0.672863104267\n",
      "log(Temperature): 4.680000000000007...acceptance probability:0.066mean correction: 0.882253777692\n",
      "log(Temperature): 4.670000000000007...acceptance probability:0.048mean correction: 1.01048874105\n",
      "log(Temperature): 4.670000000000007...acceptance probability:0.05mean correction: 0.813675607335\n",
      "log(Temperature): 4.660000000000007...acceptance probability:0.046mean correction: 1.18866993717\n",
      "log(Temperature): 4.660000000000007...acceptance probability:0.046mean correction: 0.82398728096\n",
      "log(Temperature): 4.6500000000000075...acceptance probability:0.056mean correction: 0.800651689045\n",
      "log(Temperature): 4.640000000000008...acceptance probability:0.052mean correction: 0.73541127264\n",
      "log(Temperature): 4.630000000000008...acceptance probability:0.044mean correction: 1.05246792695\n",
      "log(Temperature): 4.630000000000008...acceptance probability:0.044mean correction: 1.2449662952\n",
      "log(Temperature): 4.630000000000008...acceptance probability:0.042mean correction: 1.34534452075\n",
      "log(Temperature): 4.630000000000008...acceptance probability:0.038mean correction: 1.09153250482\n",
      "log(Temperature): 4.630000000000008...acceptance probability:0.042mean correction: 1.10955797202\n",
      "log(Temperature): 4.630000000000008...acceptance probability:0.048mean correction: 1.03409757942\n",
      "log(Temperature): 4.630000000000008...acceptance probability:0.04mean correction: 1.39323214114\n",
      "log(Temperature): 4.630000000000008...acceptance probability:0.04mean correction: 1.16175314202\n",
      "log(Temperature): 4.630000000000008...acceptance probability:0.052mean correction: 0.797787389602\n",
      "log(Temperature): 4.620000000000008...acceptance probability:0.046mean correction: 0.99024600991\n",
      "log(Temperature): 4.610000000000008...acceptance probability:0.058mean correction: 1.01429209314\n",
      "log(Temperature): 4.610000000000008...acceptance probability:0.05mean correction: 1.27705883541\n",
      "log(Temperature): 4.610000000000008...acceptance probability:0.06mean correction: 0.829231243118\n",
      "log(Temperature): 4.6000000000000085...acceptance probability:0.046mean correction: 1.10248697784\n",
      "log(Temperature): 4.6000000000000085...acceptance probability:0.046mean correction: 1.95716138772\n",
      "log(Temperature): 4.6000000000000085...acceptance probability:0.044mean correction: 1.46180471208\n",
      "log(Temperature): 4.6000000000000085...acceptance probability:0.036mean correction: 1.36918407803\n",
      "log(Temperature): 4.6000000000000085...acceptance probability:0.06mean correction: 0.666626629793\n",
      "log(Temperature): 4.590000000000009...acceptance probability:0.056mean correction: 1.13900675809\n",
      "log(Temperature): 4.590000000000009...acceptance probability:0.038mean correction: 1.50115568695\n",
      "log(Temperature): 4.590000000000009...acceptance probability:0.054mean correction: 1.04297611554\n",
      "log(Temperature): 4.590000000000009...acceptance probability:0.07mean correction: 0.462668955638\n",
      "log(Temperature): 4.580000000000009...acceptance probability:0.042mean correction: 1.81451905752\n",
      "log(Temperature): 4.580000000000009...acceptance probability:0.038mean correction: 1.07966595806\n",
      "log(Temperature): 4.580000000000009...acceptance probability:0.058mean correction: 1.27050277598\n",
      "log(Temperature): 4.580000000000009...acceptance probability:0.062mean correction: 0.960413058584\n",
      "log(Temperature): 4.570000000000009...acceptance probability:0.062mean correction: 0.902115035853\n",
      "log(Temperature): 4.560000000000009...acceptance probability:0.054mean correction: 1.39336126775\n",
      "log(Temperature): 4.560000000000009...acceptance probability:0.042mean correction: 1.58730073888\n",
      "log(Temperature): 4.560000000000009...acceptance probability:0.056mean correction: 1.47797940932\n",
      "log(Temperature): 4.560000000000009...acceptance probability:0.05mean correction: 1.33686676545\n",
      "log(Temperature): 4.560000000000009...acceptance probability:0.032mean correction: 1.95194643701\n",
      "log(Temperature): 4.560000000000009...acceptance probability:0.042mean correction: 1.11162026279\n",
      "log(Temperature): 4.560000000000009...acceptance probability:0.038mean correction: 1.9027055245\n",
      "log(Temperature): 4.560000000000009...acceptance probability:0.056mean correction: 1.30734974908\n",
      "log(Temperature): 4.560000000000009...acceptance probability:0.04mean correction: 0.892976834212\n",
      "log(Temperature): 4.55000000000001...acceptance probability:0.066mean correction: 0.913285590231\n",
      "log(Temperature): 4.54000000000001...acceptance probability:0.046mean correction: 1.57223048537\n",
      "log(Temperature): 4.54000000000001...acceptance probability:0.024mean correction: 1.75127516621\n",
      "log(Temperature): 4.54000000000001...acceptance probability:0.046mean correction: 1.81614758984\n",
      "log(Temperature): 4.54000000000001...acceptance probability:0.042mean correction: 1.26640063456\n",
      "log(Temperature): 4.54000000000001...acceptance probability:0.058mean correction: 1.4477864911\n",
      "log(Temperature): 4.54000000000001...acceptance probability:0.05mean correction: 1.00003594886\n",
      "log(Temperature): 4.54000000000001...acceptance probability:0.036mean correction: 1.59208017388\n",
      "log(Temperature): 4.54000000000001...acceptance probability:0.04mean correction: 1.05984940552\n"
     ]
    },
    {
     "ename": "KeyboardInterrupt",
     "evalue": "",
     "output_type": "error",
     "traceback": [
      "\u001b[0;31m---------------------------------------------------------------------------\u001b[0m",
      "\u001b[0;31mKeyboardInterrupt\u001b[0m                         Traceback (most recent call last)",
      "\u001b[0;32m<ipython-input-933-465804266edc>\u001b[0m in \u001b[0;36m<module>\u001b[0;34m()\u001b[0m\n\u001b[1;32m      4\u001b[0m \u001b[0mt\u001b[0m\u001b[0;34m=\u001b[0m\u001b[0;36m5.\u001b[0m\u001b[0;34m\u001b[0m\u001b[0m\n\u001b[1;32m      5\u001b[0m \u001b[0;32mfor\u001b[0m \u001b[0mnn\u001b[0m \u001b[0;32min\u001b[0m \u001b[0mnp\u001b[0m\u001b[0;34m.\u001b[0m\u001b[0marange\u001b[0m\u001b[0;34m(\u001b[0m\u001b[0;36m100\u001b[0m\u001b[0;34m)\u001b[0m\u001b[0;34m:\u001b[0m\u001b[0;34m\u001b[0m\u001b[0m\n\u001b[0;32m----> 6\u001b[0;31m     \u001b[0mmu\u001b[0m\u001b[0;34m=\u001b[0m\u001b[0mburn_in\u001b[0m\u001b[0;34m(\u001b[0m\u001b[0;36m10\u001b[0m\u001b[0;34m**\u001b[0m\u001b[0mt\u001b[0m\u001b[0;34m,\u001b[0m\u001b[0mm0\u001b[0m\u001b[0;34m,\u001b[0m\u001b[0mdf0\u001b[0m\u001b[0;34m,\u001b[0m\u001b[0mwindow\u001b[0m\u001b[0;34m,\u001b[0m\u001b[0;36m0\u001b[0m\u001b[0;34m,\u001b[0m\u001b[0mlen\u001b[0m\u001b[0;34m(\u001b[0m\u001b[0mdf0\u001b[0m\u001b[0;34m)\u001b[0m\u001b[0;34m)\u001b[0m\u001b[0;34m\u001b[0m\u001b[0m\n\u001b[0m\u001b[1;32m      7\u001b[0m     \u001b[0;31m# equilibrum reached\u001b[0m\u001b[0;34m\u001b[0m\u001b[0;34m\u001b[0m\u001b[0m\n\u001b[1;32m      8\u001b[0m     \u001b[0mprint\u001b[0m\u001b[0;34m(\u001b[0m\u001b[0;34m'log(Temperature): '\u001b[0m\u001b[0;34m+\u001b[0m\u001b[0mstr\u001b[0m\u001b[0;34m(\u001b[0m\u001b[0mt\u001b[0m\u001b[0;34m)\u001b[0m\u001b[0;34m+\u001b[0m\u001b[0;34m'...acceptance probability:'\u001b[0m\u001b[0;34m+\u001b[0m\u001b[0mstr\u001b[0m\u001b[0;34m(\u001b[0m\u001b[0mlen\u001b[0m\u001b[0;34m(\u001b[0m\u001b[0mmu\u001b[0m\u001b[0;34m)\u001b[0m\u001b[0;34m/\u001b[0m\u001b[0mm0\u001b[0m\u001b[0;34m)\u001b[0m\u001b[0;34m+\u001b[0m\u001b[0;34m'mean correction: '\u001b[0m\u001b[0;34m+\u001b[0m\u001b[0mstr\u001b[0m\u001b[0;34m(\u001b[0m\u001b[0mnp\u001b[0m\u001b[0;34m.\u001b[0m\u001b[0mmean\u001b[0m\u001b[0;34m(\u001b[0m\u001b[0mmu\u001b[0m\u001b[0;34m)\u001b[0m\u001b[0;34m)\u001b[0m\u001b[0;34m)\u001b[0m\u001b[0;34m\u001b[0m\u001b[0m\n",
      "\u001b[0;32m<ipython-input-911-3960d725b195>\u001b[0m in \u001b[0;36mburn_in\u001b[0;34m(T, m, df, win, lbound, hbound)\u001b[0m\n\u001b[1;32m      2\u001b[0m     \u001b[0mc\u001b[0m\u001b[0;34m=\u001b[0m\u001b[0;34m[\u001b[0m\u001b[0;34m]\u001b[0m\u001b[0;34m\u001b[0m\u001b[0m\n\u001b[1;32m      3\u001b[0m     \u001b[0;32mfor\u001b[0m \u001b[0mi\u001b[0m \u001b[0;32min\u001b[0m \u001b[0mnp\u001b[0m\u001b[0;34m.\u001b[0m\u001b[0marange\u001b[0m\u001b[0;34m(\u001b[0m\u001b[0mm\u001b[0m\u001b[0;34m)\u001b[0m\u001b[0;34m:\u001b[0m\u001b[0;34m\u001b[0m\u001b[0m\n\u001b[0;32m----> 4\u001b[0;31m         \u001b[0mdelta\u001b[0m\u001b[0;34m=\u001b[0m\u001b[0mpropose_swap\u001b[0m\u001b[0;34m(\u001b[0m\u001b[0mdf\u001b[0m\u001b[0;34m,\u001b[0m\u001b[0mTemp\u001b[0m\u001b[0;34m,\u001b[0m\u001b[0mlbound\u001b[0m\u001b[0;34m,\u001b[0m\u001b[0mhbound\u001b[0m\u001b[0;34m)\u001b[0m\u001b[0;34m\u001b[0m\u001b[0m\n\u001b[0m\u001b[1;32m      5\u001b[0m         \u001b[0;32mif\u001b[0m \u001b[0;34m(\u001b[0m\u001b[0mdelta\u001b[0m \u001b[0;34m>\u001b[0m \u001b[0;36m0.\u001b[0m\u001b[0;34m)\u001b[0m\u001b[0;34m:\u001b[0m\u001b[0;34m\u001b[0m\u001b[0m\n\u001b[1;32m      6\u001b[0m             \u001b[0mc\u001b[0m\u001b[0;34m.\u001b[0m\u001b[0mappend\u001b[0m\u001b[0;34m(\u001b[0m\u001b[0mdelta\u001b[0m\u001b[0;34m)\u001b[0m\u001b[0;34m\u001b[0m\u001b[0m\n",
      "\u001b[0;32m<ipython-input-799-aa9c8c65030e>\u001b[0m in \u001b[0;36mpropose_swap\u001b[0;34m(dfc, Temp, lbound, hbound)\u001b[0m\n\u001b[1;32m      6\u001b[0m     \u001b[0mtrip1\u001b[0m\u001b[0;34m=\u001b[0m\u001b[0mdfc\u001b[0m\u001b[0;34m[\u001b[0m\u001b[0mdfc\u001b[0m\u001b[0;34m[\u001b[0m\u001b[0;34m'TripId'\u001b[0m\u001b[0;34m]\u001b[0m\u001b[0;34m==\u001b[0m\u001b[0mtrip1ID\u001b[0m\u001b[0;34m]\u001b[0m\u001b[0;34m\u001b[0m\u001b[0m\n\u001b[1;32m      7\u001b[0m \u001b[0;34m\u001b[0m\u001b[0m\n\u001b[0;32m----> 8\u001b[0;31m     \u001b[0mdist1\u001b[0m\u001b[0;34m=\u001b[0m\u001b[0mweighted_trip_length\u001b[0m\u001b[0;34m(\u001b[0m\u001b[0mtrip0\u001b[0m\u001b[0;34m[\u001b[0m\u001b[0;34m[\u001b[0m\u001b[0;34m'Latitude'\u001b[0m\u001b[0;34m,\u001b[0m\u001b[0;34m'Longitude'\u001b[0m\u001b[0;34m]\u001b[0m\u001b[0;34m]\u001b[0m\u001b[0;34m,\u001b[0m \u001b[0mtrip0\u001b[0m\u001b[0;34m.\u001b[0m\u001b[0mWeight\u001b[0m\u001b[0;34m.\u001b[0m\u001b[0mtolist\u001b[0m\u001b[0;34m(\u001b[0m\u001b[0;34m)\u001b[0m\u001b[0;34m)\u001b[0m\u001b[0;34m+\u001b[0m\u001b[0mweighted_trip_length\u001b[0m\u001b[0;34m(\u001b[0m\u001b[0mtrip1\u001b[0m\u001b[0;34m[\u001b[0m\u001b[0;34m[\u001b[0m\u001b[0;34m'Latitude'\u001b[0m\u001b[0;34m,\u001b[0m\u001b[0;34m'Longitude'\u001b[0m\u001b[0;34m]\u001b[0m\u001b[0;34m]\u001b[0m\u001b[0;34m,\u001b[0m \u001b[0mtrip1\u001b[0m\u001b[0;34m.\u001b[0m\u001b[0mWeight\u001b[0m\u001b[0;34m.\u001b[0m\u001b[0mtolist\u001b[0m\u001b[0;34m(\u001b[0m\u001b[0;34m)\u001b[0m\u001b[0;34m)\u001b[0m\u001b[0;34m\u001b[0m\u001b[0m\n\u001b[0m\u001b[1;32m      9\u001b[0m \u001b[0;34m\u001b[0m\u001b[0m\n\u001b[1;32m     10\u001b[0m     \u001b[0mswap2\u001b[0m\u001b[0;34m(\u001b[0m\u001b[0mi1\u001b[0m\u001b[0;34m,\u001b[0m\u001b[0mi2\u001b[0m\u001b[0;34m,\u001b[0m\u001b[0mdfc\u001b[0m\u001b[0;34m)\u001b[0m\u001b[0;34m\u001b[0m\u001b[0m\n",
      "\u001b[0;32m/Users/rspeare/anaconda/lib/python3.5/site-packages/pandas/core/frame.py\u001b[0m in \u001b[0;36m__getitem__\u001b[0;34m(self, key)\u001b[0m\n\u001b[1;32m   1961\u001b[0m         \u001b[0;32mif\u001b[0m \u001b[0misinstance\u001b[0m\u001b[0;34m(\u001b[0m\u001b[0mkey\u001b[0m\u001b[0;34m,\u001b[0m \u001b[0;34m(\u001b[0m\u001b[0mSeries\u001b[0m\u001b[0;34m,\u001b[0m \u001b[0mnp\u001b[0m\u001b[0;34m.\u001b[0m\u001b[0mndarray\u001b[0m\u001b[0;34m,\u001b[0m \u001b[0mIndex\u001b[0m\u001b[0;34m,\u001b[0m \u001b[0mlist\u001b[0m\u001b[0;34m)\u001b[0m\u001b[0;34m)\u001b[0m\u001b[0;34m:\u001b[0m\u001b[0;34m\u001b[0m\u001b[0m\n\u001b[1;32m   1962\u001b[0m             \u001b[0;31m# either boolean or fancy integer index\u001b[0m\u001b[0;34m\u001b[0m\u001b[0;34m\u001b[0m\u001b[0m\n\u001b[0;32m-> 1963\u001b[0;31m             \u001b[0;32mreturn\u001b[0m \u001b[0mself\u001b[0m\u001b[0;34m.\u001b[0m\u001b[0m_getitem_array\u001b[0m\u001b[0;34m(\u001b[0m\u001b[0mkey\u001b[0m\u001b[0;34m)\u001b[0m\u001b[0;34m\u001b[0m\u001b[0m\n\u001b[0m\u001b[1;32m   1964\u001b[0m         \u001b[0;32melif\u001b[0m \u001b[0misinstance\u001b[0m\u001b[0;34m(\u001b[0m\u001b[0mkey\u001b[0m\u001b[0;34m,\u001b[0m \u001b[0mDataFrame\u001b[0m\u001b[0;34m)\u001b[0m\u001b[0;34m:\u001b[0m\u001b[0;34m\u001b[0m\u001b[0m\n\u001b[1;32m   1965\u001b[0m             \u001b[0;32mreturn\u001b[0m \u001b[0mself\u001b[0m\u001b[0;34m.\u001b[0m\u001b[0m_getitem_frame\u001b[0m\u001b[0;34m(\u001b[0m\u001b[0mkey\u001b[0m\u001b[0;34m)\u001b[0m\u001b[0;34m\u001b[0m\u001b[0m\n",
      "\u001b[0;32m/Users/rspeare/anaconda/lib/python3.5/site-packages/pandas/core/frame.py\u001b[0m in \u001b[0;36m_getitem_array\u001b[0;34m(self, key)\u001b[0m\n\u001b[1;32m   2006\u001b[0m         \u001b[0;32melse\u001b[0m\u001b[0;34m:\u001b[0m\u001b[0;34m\u001b[0m\u001b[0m\n\u001b[1;32m   2007\u001b[0m             \u001b[0mindexer\u001b[0m \u001b[0;34m=\u001b[0m \u001b[0mself\u001b[0m\u001b[0;34m.\u001b[0m\u001b[0mix\u001b[0m\u001b[0;34m.\u001b[0m\u001b[0m_convert_to_indexer\u001b[0m\u001b[0;34m(\u001b[0m\u001b[0mkey\u001b[0m\u001b[0;34m,\u001b[0m \u001b[0maxis\u001b[0m\u001b[0;34m=\u001b[0m\u001b[0;36m1\u001b[0m\u001b[0;34m)\u001b[0m\u001b[0;34m\u001b[0m\u001b[0m\n\u001b[0;32m-> 2008\u001b[0;31m             \u001b[0;32mreturn\u001b[0m \u001b[0mself\u001b[0m\u001b[0;34m.\u001b[0m\u001b[0mtake\u001b[0m\u001b[0;34m(\u001b[0m\u001b[0mindexer\u001b[0m\u001b[0;34m,\u001b[0m \u001b[0maxis\u001b[0m\u001b[0;34m=\u001b[0m\u001b[0;36m1\u001b[0m\u001b[0;34m,\u001b[0m \u001b[0mconvert\u001b[0m\u001b[0;34m=\u001b[0m\u001b[0;32mTrue\u001b[0m\u001b[0;34m)\u001b[0m\u001b[0;34m\u001b[0m\u001b[0m\n\u001b[0m\u001b[1;32m   2009\u001b[0m \u001b[0;34m\u001b[0m\u001b[0m\n\u001b[1;32m   2010\u001b[0m     \u001b[0;32mdef\u001b[0m \u001b[0m_getitem_multilevel\u001b[0m\u001b[0;34m(\u001b[0m\u001b[0mself\u001b[0m\u001b[0;34m,\u001b[0m \u001b[0mkey\u001b[0m\u001b[0;34m)\u001b[0m\u001b[0;34m:\u001b[0m\u001b[0;34m\u001b[0m\u001b[0m\n",
      "\u001b[0;32m/Users/rspeare/anaconda/lib/python3.5/site-packages/pandas/core/generic.py\u001b[0m in \u001b[0;36mtake\u001b[0;34m(self, indices, axis, convert, is_copy)\u001b[0m\n\u001b[1;32m   1369\u001b[0m         new_data = self._data.take(indices,\n\u001b[1;32m   1370\u001b[0m                                    \u001b[0maxis\u001b[0m\u001b[0;34m=\u001b[0m\u001b[0mself\u001b[0m\u001b[0;34m.\u001b[0m\u001b[0m_get_block_manager_axis\u001b[0m\u001b[0;34m(\u001b[0m\u001b[0maxis\u001b[0m\u001b[0;34m)\u001b[0m\u001b[0;34m,\u001b[0m\u001b[0;34m\u001b[0m\u001b[0m\n\u001b[0;32m-> 1371\u001b[0;31m                                    convert=True, verify=True)\n\u001b[0m\u001b[1;32m   1372\u001b[0m         \u001b[0mresult\u001b[0m \u001b[0;34m=\u001b[0m \u001b[0mself\u001b[0m\u001b[0;34m.\u001b[0m\u001b[0m_constructor\u001b[0m\u001b[0;34m(\u001b[0m\u001b[0mnew_data\u001b[0m\u001b[0;34m)\u001b[0m\u001b[0;34m.\u001b[0m\u001b[0m__finalize__\u001b[0m\u001b[0;34m(\u001b[0m\u001b[0mself\u001b[0m\u001b[0;34m)\u001b[0m\u001b[0;34m\u001b[0m\u001b[0m\n\u001b[1;32m   1373\u001b[0m \u001b[0;34m\u001b[0m\u001b[0m\n",
      "\u001b[0;32m/Users/rspeare/anaconda/lib/python3.5/site-packages/pandas/core/internals.py\u001b[0m in \u001b[0;36mtake\u001b[0;34m(self, indexer, axis, verify, convert)\u001b[0m\n\u001b[1;32m   3606\u001b[0m         \u001b[0;32mreturn\u001b[0m \u001b[0mmake_block\u001b[0m\u001b[0;34m(\u001b[0m\u001b[0mblock_values\u001b[0m\u001b[0;34m,\u001b[0m \u001b[0mplacement\u001b[0m\u001b[0;34m=\u001b[0m\u001b[0mplacement\u001b[0m\u001b[0;34m)\u001b[0m\u001b[0;34m\u001b[0m\u001b[0m\n\u001b[1;32m   3607\u001b[0m \u001b[0;34m\u001b[0m\u001b[0m\n\u001b[0;32m-> 3608\u001b[0;31m     \u001b[0;32mdef\u001b[0m \u001b[0mtake\u001b[0m\u001b[0;34m(\u001b[0m\u001b[0mself\u001b[0m\u001b[0;34m,\u001b[0m \u001b[0mindexer\u001b[0m\u001b[0;34m,\u001b[0m \u001b[0maxis\u001b[0m\u001b[0;34m=\u001b[0m\u001b[0;36m1\u001b[0m\u001b[0;34m,\u001b[0m \u001b[0mverify\u001b[0m\u001b[0;34m=\u001b[0m\u001b[0;32mTrue\u001b[0m\u001b[0;34m,\u001b[0m \u001b[0mconvert\u001b[0m\u001b[0;34m=\u001b[0m\u001b[0;32mTrue\u001b[0m\u001b[0;34m)\u001b[0m\u001b[0;34m:\u001b[0m\u001b[0;34m\u001b[0m\u001b[0m\n\u001b[0m\u001b[1;32m   3609\u001b[0m         \"\"\"\n\u001b[1;32m   3610\u001b[0m         \u001b[0mTake\u001b[0m \u001b[0mitems\u001b[0m \u001b[0malong\u001b[0m \u001b[0many\u001b[0m \u001b[0maxis\u001b[0m\u001b[0;34m.\u001b[0m\u001b[0;34m\u001b[0m\u001b[0m\n",
      "\u001b[0;31mKeyboardInterrupt\u001b[0m: "
     ]
    }
   ],
   "source": [
    "for nn in np.arange(100):\n",
    "    mu=burn_in(10**t,m0,df0,0,len(df0))\n",
    "    # equilibrum reached\n",
    "    print('log(Temperature): '+str(t)+'; acceptance probability:'+str(len(mu)/m0)+'; mean correction: '+str(np.mean(mu)))\n",
    "    if ((np.mean(mu) < 1.)):\n",
    "        t-=deltaT"
   ]
  },
  {
   "cell_type": "markdown",
   "metadata": {},
   "source": [
    "# Parellelized Burn in"
   ]
  },
  {
   "cell_type": "code",
   "execution_count": null,
   "metadata": {
    "collapsed": true
   },
   "outputs": [],
   "source": [
    "from IPython import parallel\n",
    "\n",
    "rc = parallel.Client()\n",
    "all_engines = rc[:]\n",
    "lbv = rc.load_balanced_view()\n",
    "lbv.block = True"
   ]
  },
  {
   "cell_type": "code",
   "execution_count": null,
   "metadata": {
    "collapsed": true
   },
   "outputs": [],
   "source": [
    "@lbv.parallel()\n",
    "def f(x):\n",
    "    return 10.0*x**4"
   ]
  },
  {
   "cell_type": "code",
   "execution_count": null,
   "metadata": {
    "collapsed": true
   },
   "outputs": [],
   "source": [
    "f.map(np.arange(10**2))"
   ]
  },
  {
   "cell_type": "code",
   "execution_count": 908,
   "metadata": {
    "collapsed": true
   },
   "outputs": [],
   "source": [
    "def power(base, exponent):\n",
    "    return base ** exponent\n",
    "\n",
    "from functools import partial\n",
    "\n",
    "square = partial(power, exponent=2)\n",
    "cube = partial(power, exponent=3)\n",
    "\n",
    "def test_partials():\n",
    "    assert square(2) == 4\n",
    "    assert cube(2) == 8"
   ]
  },
  {
   "cell_type": "code",
   "execution_count": null,
   "metadata": {
    "collapsed": true
   },
   "outputs": [],
   "source": []
  }
 ],
 "metadata": {
  "kernelspec": {
   "display_name": "Python 3",
   "language": "python",
   "name": "python3"
  },
  "language_info": {
   "codemirror_mode": {
    "name": "ipython",
    "version": 3
   },
   "file_extension": ".py",
   "mimetype": "text/x-python",
   "name": "python",
   "nbconvert_exporter": "python",
   "pygments_lexer": "ipython3",
   "version": "3.5.1"
  }
 },
 "nbformat": 4,
 "nbformat_minor": 0
}
