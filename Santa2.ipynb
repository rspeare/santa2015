{
 "cells": [
  {
   "cell_type": "code",
   "execution_count": 1,
   "metadata": {
    "collapsed": false
   },
   "outputs": [
    {
     "name": "stderr",
     "output_type": "stream",
     "text": [
      "/Users/rspeare/miniconda3/lib/python3.4/site-packages/matplotlib/__init__.py:872: UserWarning: axes.color_cycle is deprecated and replaced with axes.prop_cycle; please use the latter.\n",
      "  warnings.warn(self.msg_depr % (key, alt_key))\n"
     ]
    }
   ],
   "source": [
    "import pandas as pd\n",
    "import numpy as np\n",
    "from haversine import haversine\n",
    "import matplotlib.pyplot as plt\n",
    "import seaborn as sns\n",
    "%matplotlib inline"
   ]
  },
  {
   "cell_type": "code",
   "execution_count": 2,
   "metadata": {
    "collapsed": true
   },
   "outputs": [],
   "source": [
    "north_pole = [90.,0.]\n",
    "weight_limit = 1000.\n",
    "sleigh_weight = 10."
   ]
  },
  {
   "cell_type": "code",
   "execution_count": null,
   "metadata": {
    "collapsed": true
   },
   "outputs": [],
   "source": [
    "chunks=[data[x:x+100] for x in xrange(0, len(data), 100)]\n"
   ]
  },
  {
   "cell_type": "code",
   "execution_count": 3,
   "metadata": {
    "collapsed": true
   },
   "outputs": [],
   "source": [
    "def weighted_trip_length(stops, weights): \n",
    "    tuples = [tuple(x) for x in stops.values]\n",
    "    # adding the last trip back to north pole, with just the sleigh weight\n",
    "    tuples.append(north_pole)\n",
    "    weights.append(sleigh_weight)\n",
    "    \n",
    "    dist = 0.0\n",
    "    prev_stop = north_pole\n",
    "    prev_weight = sum(weights)\n",
    "    for location, weight in zip(tuples, weights):\n",
    "        dist = dist + haversine(location, prev_stop) * prev_weight\n",
    "        prev_stop = location\n",
    "        prev_weight = prev_weight - weight\n",
    "    if (np.sum(weights)> weight_limit):\n",
    "        return np.inf\n",
    "    else:\n",
    "        return dist\n",
    "\n",
    "def weighted_reindeer_weariness(all_trips):\n",
    "    uniq_trips = all_trips.TripId.unique()\n",
    "    \n",
    "    if any(all_trips.groupby('TripId').Weight.sum() > weight_limit):\n",
    "        raise Exception(\"One of the sleighs over weight limit!\")\n",
    " \n",
    "    dist = 0.0\n",
    "    for t in uniq_trips:\n",
    "        this_trip = all_trips[all_trips.TripId==t]\n",
    "        dist = dist + weighted_trip_length(this_trip[['Latitude','Longitude']], this_trip.Weight.tolist())\n",
    "    \n",
    "    return dist    "
   ]
  },
  {
   "cell_type": "code",
   "execution_count": null,
   "metadata": {
    "collapsed": false
   },
   "outputs": [],
   "source": []
  },
  {
   "cell_type": "code",
   "execution_count": 4,
   "metadata": {
    "collapsed": false
   },
   "outputs": [],
   "source": [
    "gifts = pd.read_csv('gifts.csv')\n",
    "sample_sub = pd.read_csv('sample_submission.csv')\n",
    "\n",
    "all_trips = sample_sub.merge(gifts, on='GiftId')"
   ]
  },
  {
   "cell_type": "code",
   "execution_count": 5,
   "metadata": {
    "collapsed": true
   },
   "outputs": [],
   "source": [
    "naive_score=weighted_reindeer_weariness(all_trips)"
   ]
  },
  {
   "cell_type": "code",
   "execution_count": 6,
   "metadata": {
    "collapsed": false
   },
   "outputs": [
    {
     "name": "stdout",
     "output_type": "stream",
     "text": [
      "144525525772.0 12395765387.8785\n"
     ]
    }
   ],
   "source": [
    "best_score=12395765387.87850\n",
    "print(naive_score,best_score)"
   ]
  },
  {
   "cell_type": "markdown",
   "metadata": {},
   "source": [
    "# Initializiaton: Setup stops, Check for Validity"
   ]
  },
  {
   "cell_type": "code",
   "execution_count": 13,
   "metadata": {
    "collapsed": false
   },
   "outputs": [],
   "source": [
    "# Add lots of 'north pole' stops, concatenate them to the original gifts data frame\n",
    "def initialize(frac):\n",
    "    notValid=True\n",
    "    while (notValid):\n",
    "        seed1=np.insert(north_pole,0,-1)\n",
    "        seed1=np.insert(seed1,3,0.)\n",
    "        s=pd.DataFrame(seed1,index=gifts.columns.values).T\n",
    "        s.head()\n",
    "        s=pd.DataFrame(seed1,index=gifts.columns.values).T\n",
    "        for i in np.arange(np.log(len(gifts)*frac)/np.log(2.)):\n",
    "            s=pd.concat([s,s])\n",
    "        print(len(s))\n",
    "    \n",
    "        dfc=pd.concat([gifts,s])\n",
    "        dfc.head()\n",
    "        \n",
    "        # Now randomly distribute the stops\n",
    "        dfc=dfc.iloc[np.random.permutation(len(dfc))]\n",
    "        dfc.head()\n",
    "    \n",
    "        stops=np.where(dfc['GiftId']==-1)[0]\n",
    "        \n",
    "        dfc['tripW']=np.zeros(len(dfc))\n",
    "        dfc['TripId']=np.zeros(len(dfc))\n",
    "\n",
    "        ###### CHECK IF A VALID SET OF STOPS\n",
    "        cumWeights=[]\n",
    "    \n",
    "        np.insert(stops,0,0)\n",
    "        np.insert(stops,len(stops),len(dfc)+1)\n",
    "    \n",
    "        tripWeight=np.sum(dfc['Weight'].values[:stops[0]])\n",
    "        cumWeights.append(tripWeight)\n",
    "        dfc['tripW'].values[:stops[0]]=tripWeight\n",
    "        dfc['TripId'].values[:stops[0]]=0\n",
    "        \n",
    "        for i in np.arange(len(stops)-1):\n",
    "    #    print(i)\n",
    "            tripWeight=np.sum(dfc['Weight'].values[stops[i]:stops[i+1]])\n",
    "            cumWeights.append(tripWeight)\n",
    "            dfc['tripW'].values[stops[i]:stops[i+1]]=tripWeight\n",
    "            dfc['TripId'].values[stops[i]:stops[i+1]]=i\n",
    "        \n",
    "        tripWeight=np.sum(dfc['Weight'].values[stops[-1]:])\n",
    "        cumWeights.append(tripWeight)\n",
    "        dfc['tripW'].values[stops[-1]:]=tripWeight\n",
    "        dfc['TripId'].values[stops[-1]:]=i+1\n",
    "\n",
    "        cumWeights=np.array(cumWeights)\n",
    "        \n",
    "        if np.any(dfc['tripW'].values > 1000.-10.):\n",
    "            print('Too much weight in the sleigh!')\n",
    "            frac*=1.1\n",
    "        else:\n",
    "            print('legal set of stops')\n",
    "            notValid=False\n",
    "    if np.any(np.isnan(dfc)):\n",
    "        print('WARNING THERE ARE NAN TRIP IDS')\n",
    "    #print('calculating initial score fraction...relative to Naive')\n",
    "    return dfc\n",
    "   \n"
   ]
  },
  {
   "cell_type": "markdown",
   "metadata": {},
   "source": [
    "# Two Opt Code: Swap two stops, see if valid and check for improvement"
   ]
  },
  {
   "cell_type": "code",
   "execution_count": 14,
   "metadata": {
    "collapsed": false
   },
   "outputs": [],
   "source": [
    "def swap2(i,j,dfc):\n",
    "    for attr in ['GiftId','Latitude','Longitude','Weight']:\n",
    "        tmpi=dfc.iloc[i][attr]\n",
    "        tmpj=dfc.iloc[j][attr]\n",
    "        dfc.iloc[i][attr]=tmpj\n",
    "        dfc.iloc[j][attr]=tmpi"
   ]
  },
  {
   "cell_type": "code",
   "execution_count": 28,
   "metadata": {
    "collapsed": true
   },
   "outputs": [],
   "source": [
    "def propose_swap(dfc,Temp,lbound,hbound):\n",
    "    \"\"\"\n",
    "    Propose a random Swap of two cities in the traveling salesmen problem\n",
    "    \"\"\"\n",
    "    i1,i2=np.random.randint(lbound,high=hbound,size=2)\n",
    "    trip0ID=dfc.iloc[i1]['TripId']\n",
    "    trip1ID=dfc.iloc[i2]['TripId']\n",
    "    trip0=dfc[dfc['TripId']==trip0ID]\n",
    "    trip1=dfc[dfc['TripId']==trip1ID]\n",
    "\n",
    "    dist1=weighted_trip_length(trip0[['Latitude','Longitude']], trip0.Weight.tolist())+weighted_trip_length(trip1[['Latitude','Longitude']], trip1.Weight.tolist())\n",
    "    \n",
    "    swap2(i1,i2,dfc)\n",
    "    trip0ID=dfc.iloc[i1]['TripId']\n",
    "    trip1ID=dfc.iloc[i2]['TripId']\n",
    "    trip0=dfc[dfc['TripId']==trip0ID]\n",
    "    trip1=dfc[dfc['TripId']==trip1ID]\n",
    "\n",
    "    dist2=weighted_trip_length(trip0[['Latitude','Longitude']], trip0.Weight.tolist())+weighted_trip_length(trip1[['Latitude','Longitude']], trip1.Weight.tolist())\n",
    "\n",
    "    if (dist2 < dist1):\n",
    "#        print('accepted')\n",
    "#        print(dist2-dist1)\n",
    "        return (dist2 - dist1)\n",
    "    else:\n",
    "        prob=np.exp((dist1-dist2)/Temp)\n",
    "        sample=np.random.rand()\n",
    "        # Accept Swap with probability exp(-deltaD/T)\n",
    "        if (sample < prob):\n",
    "#            print('accepted with probability :',prob)\n",
    "#            print(dist2-dist1)\n",
    "            return (dist2 - dist1)\n",
    "        else:\n",
    "#            print('rejected with probability :',1.-prob)\n",
    "            swap2(i1,i2,dfc)\n",
    "            return 0.\n",
    "    # should never get here\n",
    "    return (dist2 - dist1)"
   ]
  },
  {
   "cell_type": "code",
   "execution_count": 29,
   "metadata": {
    "collapsed": true
   },
   "outputs": [],
   "source": [
    "def running_mean(x,N):\n",
    "    return np.convolve(x, np.ones((N,))/N, mode='valid')"
   ]
  },
  {
   "cell_type": "markdown",
   "metadata": {},
   "source": [
    "# The Burn In Process"
   ]
  },
  {
   "cell_type": "code",
   "execution_count": 25,
   "metadata": {
    "collapsed": false
   },
   "outputs": [
    {
     "name": "stdout",
     "output_type": "stream",
     "text": [
      "16384\n",
      "legal set of stops\n"
     ]
    },
    {
     "data": {
      "text/plain": [
       "8.2585999039398494"
      ]
     },
     "execution_count": 25,
     "metadata": {},
     "output_type": "execute_result"
    }
   ],
   "source": [
    "df0=initialize(0.1)\n",
    "weighted_reindeer_weariness(df0[all_trips.columns])/best_score"
   ]
  },
  {
   "cell_type": "code",
   "execution_count": 26,
   "metadata": {
    "collapsed": false
   },
   "outputs": [],
   "source": [
    "def burn_in(T,m,df,lbound,hbound):\n",
    "    c=[]\n",
    "    for i in np.arange(m):\n",
    "        delta=propose_swap(df,Temp,lbound,hbound)\n",
    "        c.append(delta)\n",
    "    return np.array(c)"
   ]
  },
  {
   "cell_type": "code",
   "execution_count": null,
   "metadata": {
    "collapsed": true
   },
   "outputs": [],
   "source": [
    "m0=1000\n",
    "count=0\n",
    "Temp=10**5.6\n",
    "var=100."
   ]
  },
  {
   "cell_type": "code",
   "execution_count": 55,
   "metadata": {
    "collapsed": false
   },
   "outputs": [
    {
     "name": "stdout",
     "output_type": "stream",
     "text": [
      "log(T): 3.76970037757 var: 5.01\n",
      "        equilibriation(21214.168814)  var: 5.70074133946\n",
      "25878692897.9\n",
      "        equilibriation(43686.8197488)  var: 5.17250814746\n"
     ]
    },
    {
     "ename": "KeyboardInterrupt",
     "evalue": "",
     "output_type": "error",
     "traceback": [
      "\u001b[0;31m---------------------------------------------------------------------------\u001b[0m",
      "\u001b[0;31mKeyboardInterrupt\u001b[0m                         Traceback (most recent call last)",
      "\u001b[0;32m<ipython-input-55-d6fd09d1234d>\u001b[0m in \u001b[0;36m<module>\u001b[0;34m()\u001b[0m\n\u001b[1;32m      7\u001b[0m     \u001b[0mvar\u001b[0m\u001b[0;34m=\u001b[0m\u001b[0mnp\u001b[0m\u001b[0;34m.\u001b[0m\u001b[0mstd\u001b[0m\u001b[0;34m(\u001b[0m\u001b[0mmu\u001b[0m\u001b[0;34m/\u001b[0m\u001b[0mTemp\u001b[0m\u001b[0;34m)\u001b[0m\u001b[0;34m\u001b[0m\u001b[0m\n\u001b[1;32m      8\u001b[0m     \u001b[0mprint\u001b[0m\u001b[0;34m(\u001b[0m\u001b[0;34m'        equilibriation('\u001b[0m\u001b[0;34m+\u001b[0m\u001b[0mstr\u001b[0m\u001b[0;34m(\u001b[0m\u001b[0mcount\u001b[0m\u001b[0;34m)\u001b[0m\u001b[0;34m+\u001b[0m\u001b[0;34m')  var: '\u001b[0m\u001b[0;34m+\u001b[0m\u001b[0mstr\u001b[0m\u001b[0;34m(\u001b[0m\u001b[0mvar\u001b[0m\u001b[0;34m)\u001b[0m\u001b[0;34m)\u001b[0m\u001b[0;34m\u001b[0m\u001b[0m\n\u001b[0;32m----> 9\u001b[0;31m     \u001b[0mscore2\u001b[0m\u001b[0;34m=\u001b[0m\u001b[0mweighted_reindeer_weariness\u001b[0m\u001b[0;34m(\u001b[0m\u001b[0mdf0\u001b[0m\u001b[0;34m[\u001b[0m\u001b[0mall_trips\u001b[0m\u001b[0;34m.\u001b[0m\u001b[0mcolumns\u001b[0m\u001b[0;34m]\u001b[0m\u001b[0;34m)\u001b[0m\u001b[0;34m\u001b[0m\u001b[0m\n\u001b[0m\u001b[1;32m     10\u001b[0m     \u001b[0mprint\u001b[0m\u001b[0;34m(\u001b[0m\u001b[0mscore2\u001b[0m\u001b[0;34m)\u001b[0m\u001b[0;34m\u001b[0m\u001b[0m\n\u001b[1;32m     11\u001b[0m     \u001b[0;32mif\u001b[0m \u001b[0;34m(\u001b[0m\u001b[0mvar\u001b[0m \u001b[0;34m<\u001b[0m \u001b[0;36m5.\u001b[0m\u001b[0;34m)\u001b[0m\u001b[0;34m:\u001b[0m\u001b[0;34m\u001b[0m\u001b[0m\n",
      "\u001b[0;32m<ipython-input-3-64dea471874f>\u001b[0m in \u001b[0;36mweighted_reindeer_weariness\u001b[0;34m(all_trips)\u001b[0m\n\u001b[1;32m     25\u001b[0m     \u001b[0mdist\u001b[0m \u001b[0;34m=\u001b[0m \u001b[0;36m0.0\u001b[0m\u001b[0;34m\u001b[0m\u001b[0m\n\u001b[1;32m     26\u001b[0m     \u001b[0;32mfor\u001b[0m \u001b[0mt\u001b[0m \u001b[0;32min\u001b[0m \u001b[0muniq_trips\u001b[0m\u001b[0;34m:\u001b[0m\u001b[0;34m\u001b[0m\u001b[0m\n\u001b[0;32m---> 27\u001b[0;31m         \u001b[0mthis_trip\u001b[0m \u001b[0;34m=\u001b[0m \u001b[0mall_trips\u001b[0m\u001b[0;34m[\u001b[0m\u001b[0mall_trips\u001b[0m\u001b[0;34m.\u001b[0m\u001b[0mTripId\u001b[0m\u001b[0;34m==\u001b[0m\u001b[0mt\u001b[0m\u001b[0;34m]\u001b[0m\u001b[0;34m\u001b[0m\u001b[0m\n\u001b[0m\u001b[1;32m     28\u001b[0m         \u001b[0mdist\u001b[0m \u001b[0;34m=\u001b[0m \u001b[0mdist\u001b[0m \u001b[0;34m+\u001b[0m \u001b[0mweighted_trip_length\u001b[0m\u001b[0;34m(\u001b[0m\u001b[0mthis_trip\u001b[0m\u001b[0;34m[\u001b[0m\u001b[0;34m[\u001b[0m\u001b[0;34m'Latitude'\u001b[0m\u001b[0;34m,\u001b[0m\u001b[0;34m'Longitude'\u001b[0m\u001b[0;34m]\u001b[0m\u001b[0;34m]\u001b[0m\u001b[0;34m,\u001b[0m \u001b[0mthis_trip\u001b[0m\u001b[0;34m.\u001b[0m\u001b[0mWeight\u001b[0m\u001b[0;34m.\u001b[0m\u001b[0mtolist\u001b[0m\u001b[0;34m(\u001b[0m\u001b[0;34m)\u001b[0m\u001b[0;34m)\u001b[0m\u001b[0;34m\u001b[0m\u001b[0m\n\u001b[1;32m     29\u001b[0m \u001b[0;34m\u001b[0m\u001b[0m\n",
      "\u001b[0;32m/Users/rspeare/anaconda/lib/python3.5/site-packages/pandas/core/frame.py\u001b[0m in \u001b[0;36m__getitem__\u001b[0;34m(self, key)\u001b[0m\n\u001b[1;32m   1961\u001b[0m         \u001b[0;32mif\u001b[0m \u001b[0misinstance\u001b[0m\u001b[0;34m(\u001b[0m\u001b[0mkey\u001b[0m\u001b[0;34m,\u001b[0m \u001b[0;34m(\u001b[0m\u001b[0mSeries\u001b[0m\u001b[0;34m,\u001b[0m \u001b[0mnp\u001b[0m\u001b[0;34m.\u001b[0m\u001b[0mndarray\u001b[0m\u001b[0;34m,\u001b[0m \u001b[0mIndex\u001b[0m\u001b[0;34m,\u001b[0m \u001b[0mlist\u001b[0m\u001b[0;34m)\u001b[0m\u001b[0;34m)\u001b[0m\u001b[0;34m:\u001b[0m\u001b[0;34m\u001b[0m\u001b[0m\n\u001b[1;32m   1962\u001b[0m             \u001b[0;31m# either boolean or fancy integer index\u001b[0m\u001b[0;34m\u001b[0m\u001b[0;34m\u001b[0m\u001b[0m\n\u001b[0;32m-> 1963\u001b[0;31m             \u001b[0;32mreturn\u001b[0m \u001b[0mself\u001b[0m\u001b[0;34m.\u001b[0m\u001b[0m_getitem_array\u001b[0m\u001b[0;34m(\u001b[0m\u001b[0mkey\u001b[0m\u001b[0;34m)\u001b[0m\u001b[0;34m\u001b[0m\u001b[0m\n\u001b[0m\u001b[1;32m   1964\u001b[0m         \u001b[0;32melif\u001b[0m \u001b[0misinstance\u001b[0m\u001b[0;34m(\u001b[0m\u001b[0mkey\u001b[0m\u001b[0;34m,\u001b[0m \u001b[0mDataFrame\u001b[0m\u001b[0;34m)\u001b[0m\u001b[0;34m:\u001b[0m\u001b[0;34m\u001b[0m\u001b[0m\n\u001b[1;32m   1965\u001b[0m             \u001b[0;32mreturn\u001b[0m \u001b[0mself\u001b[0m\u001b[0;34m.\u001b[0m\u001b[0m_getitem_frame\u001b[0m\u001b[0;34m(\u001b[0m\u001b[0mkey\u001b[0m\u001b[0;34m)\u001b[0m\u001b[0;34m\u001b[0m\u001b[0m\n",
      "\u001b[0;32m/Users/rspeare/anaconda/lib/python3.5/site-packages/pandas/core/frame.py\u001b[0m in \u001b[0;36m_getitem_array\u001b[0;34m(self, key)\u001b[0m\n\u001b[1;32m   2003\u001b[0m             \u001b[0mkey\u001b[0m \u001b[0;34m=\u001b[0m \u001b[0mcheck_bool_indexer\u001b[0m\u001b[0;34m(\u001b[0m\u001b[0mself\u001b[0m\u001b[0;34m.\u001b[0m\u001b[0mindex\u001b[0m\u001b[0;34m,\u001b[0m \u001b[0mkey\u001b[0m\u001b[0;34m)\u001b[0m\u001b[0;34m\u001b[0m\u001b[0m\n\u001b[1;32m   2004\u001b[0m             \u001b[0mindexer\u001b[0m \u001b[0;34m=\u001b[0m \u001b[0mkey\u001b[0m\u001b[0;34m.\u001b[0m\u001b[0mnonzero\u001b[0m\u001b[0;34m(\u001b[0m\u001b[0;34m)\u001b[0m\u001b[0;34m[\u001b[0m\u001b[0;36m0\u001b[0m\u001b[0;34m]\u001b[0m\u001b[0;34m\u001b[0m\u001b[0m\n\u001b[0;32m-> 2005\u001b[0;31m             \u001b[0;32mreturn\u001b[0m \u001b[0mself\u001b[0m\u001b[0;34m.\u001b[0m\u001b[0mtake\u001b[0m\u001b[0;34m(\u001b[0m\u001b[0mindexer\u001b[0m\u001b[0;34m,\u001b[0m \u001b[0maxis\u001b[0m\u001b[0;34m=\u001b[0m\u001b[0;36m0\u001b[0m\u001b[0;34m,\u001b[0m \u001b[0mconvert\u001b[0m\u001b[0;34m=\u001b[0m\u001b[0;32mFalse\u001b[0m\u001b[0;34m)\u001b[0m\u001b[0;34m\u001b[0m\u001b[0m\n\u001b[0m\u001b[1;32m   2006\u001b[0m         \u001b[0;32melse\u001b[0m\u001b[0;34m:\u001b[0m\u001b[0;34m\u001b[0m\u001b[0m\n\u001b[1;32m   2007\u001b[0m             \u001b[0mindexer\u001b[0m \u001b[0;34m=\u001b[0m \u001b[0mself\u001b[0m\u001b[0;34m.\u001b[0m\u001b[0mix\u001b[0m\u001b[0;34m.\u001b[0m\u001b[0m_convert_to_indexer\u001b[0m\u001b[0;34m(\u001b[0m\u001b[0mkey\u001b[0m\u001b[0;34m,\u001b[0m \u001b[0maxis\u001b[0m\u001b[0;34m=\u001b[0m\u001b[0;36m1\u001b[0m\u001b[0;34m)\u001b[0m\u001b[0;34m\u001b[0m\u001b[0m\n",
      "\u001b[0;32m/Users/rspeare/anaconda/lib/python3.5/site-packages/pandas/core/generic.py\u001b[0m in \u001b[0;36mtake\u001b[0;34m(self, indices, axis, convert, is_copy)\u001b[0m\n\u001b[1;32m   1374\u001b[0m         \u001b[0;31m# maybe set copy if we didn't actually change the index\u001b[0m\u001b[0;34m\u001b[0m\u001b[0;34m\u001b[0m\u001b[0m\n\u001b[1;32m   1375\u001b[0m         \u001b[0;32mif\u001b[0m \u001b[0mis_copy\u001b[0m\u001b[0;34m:\u001b[0m\u001b[0;34m\u001b[0m\u001b[0m\n\u001b[0;32m-> 1376\u001b[0;31m             \u001b[0;32mif\u001b[0m \u001b[0;32mnot\u001b[0m \u001b[0mresult\u001b[0m\u001b[0;34m.\u001b[0m\u001b[0m_get_axis\u001b[0m\u001b[0;34m(\u001b[0m\u001b[0maxis\u001b[0m\u001b[0;34m)\u001b[0m\u001b[0;34m.\u001b[0m\u001b[0mequals\u001b[0m\u001b[0;34m(\u001b[0m\u001b[0mself\u001b[0m\u001b[0;34m.\u001b[0m\u001b[0m_get_axis\u001b[0m\u001b[0;34m(\u001b[0m\u001b[0maxis\u001b[0m\u001b[0;34m)\u001b[0m\u001b[0;34m)\u001b[0m\u001b[0;34m:\u001b[0m\u001b[0;34m\u001b[0m\u001b[0m\n\u001b[0m\u001b[1;32m   1377\u001b[0m                 \u001b[0mresult\u001b[0m\u001b[0;34m.\u001b[0m\u001b[0m_set_is_copy\u001b[0m\u001b[0;34m(\u001b[0m\u001b[0mself\u001b[0m\u001b[0;34m)\u001b[0m\u001b[0;34m\u001b[0m\u001b[0m\n\u001b[1;32m   1378\u001b[0m \u001b[0;34m\u001b[0m\u001b[0m\n",
      "\u001b[0;32m/Users/rspeare/anaconda/lib/python3.5/site-packages/pandas/core/index.py\u001b[0m in \u001b[0;36mequals\u001b[0;34m(self, other)\u001b[0m\n\u001b[1;32m   3744\u001b[0m         \u001b[0mDetermines\u001b[0m \u001b[0;32mif\u001b[0m \u001b[0mtwo\u001b[0m \u001b[0mIndex\u001b[0m \u001b[0mobjects\u001b[0m \u001b[0mcontain\u001b[0m \u001b[0mthe\u001b[0m \u001b[0msame\u001b[0m \u001b[0melements\u001b[0m\u001b[0;34m.\u001b[0m\u001b[0;34m\u001b[0m\u001b[0m\n\u001b[1;32m   3745\u001b[0m         \"\"\"\n\u001b[0;32m-> 3746\u001b[0;31m         \u001b[0;32mif\u001b[0m \u001b[0mself\u001b[0m\u001b[0;34m.\u001b[0m\u001b[0mis_\u001b[0m\u001b[0;34m(\u001b[0m\u001b[0mother\u001b[0m\u001b[0;34m)\u001b[0m\u001b[0;34m:\u001b[0m\u001b[0;34m\u001b[0m\u001b[0m\n\u001b[0m\u001b[1;32m   3747\u001b[0m             \u001b[0;32mreturn\u001b[0m \u001b[0;32mTrue\u001b[0m\u001b[0;34m\u001b[0m\u001b[0m\n\u001b[1;32m   3748\u001b[0m \u001b[0;34m\u001b[0m\u001b[0m\n",
      "\u001b[0;32m/Users/rspeare/anaconda/lib/python3.5/site-packages/pandas/core/index.py\u001b[0m in \u001b[0;36mis_\u001b[0;34m(self, other)\u001b[0m\n\u001b[1;32m    255\u001b[0m         \"\"\"\n\u001b[1;32m    256\u001b[0m         \u001b[0;31m# use something other than None to be clearer\u001b[0m\u001b[0;34m\u001b[0m\u001b[0;34m\u001b[0m\u001b[0m\n\u001b[0;32m--> 257\u001b[0;31m         \u001b[0;32mreturn\u001b[0m \u001b[0mself\u001b[0m\u001b[0;34m.\u001b[0m\u001b[0m_id\u001b[0m \u001b[0;32mis\u001b[0m \u001b[0mgetattr\u001b[0m\u001b[0;34m(\u001b[0m\u001b[0mother\u001b[0m\u001b[0;34m,\u001b[0m \u001b[0;34m'_id'\u001b[0m\u001b[0;34m,\u001b[0m \u001b[0mEllipsis\u001b[0m\u001b[0;34m)\u001b[0m\u001b[0;34m\u001b[0m\u001b[0m\n\u001b[0m\u001b[1;32m    258\u001b[0m \u001b[0;34m\u001b[0m\u001b[0m\n\u001b[1;32m    259\u001b[0m     \u001b[0;32mdef\u001b[0m \u001b[0m_reset_identity\u001b[0m\u001b[0;34m(\u001b[0m\u001b[0mself\u001b[0m\u001b[0;34m)\u001b[0m\u001b[0;34m:\u001b[0m\u001b[0;34m\u001b[0m\u001b[0m\n",
      "\u001b[0;31mKeyboardInterrupt\u001b[0m: "
     ]
    }
   ],
   "source": [
    "m0=20000\n",
    "var=5.01\n",
    "print('log(T): '+str(np.log(Temp)/np.log(10.))+' var: '+str(var))\n",
    "for n in np.arange(100):\n",
    "    m0=np.amax([var,1.])**2.5*400\n",
    "    mu=burn_in(Temp,m0,df0,0,len(df0))\n",
    "    var=np.std(mu/Temp)\n",
    "    print('        equilibriation('+str(count)+')  var: '+str(var))\n",
    "    score2=weighted_reindeer_weariness(df0[all_trips.columns])\n",
    "    print(score2)\n",
    "    if (var < 5.):\n",
    "        Temp*=.9\n",
    "        print('log(T): '+str(np.log(Temp)/np.log(10.))+' var: '+str(var))\n",
    "        count=0\n",
    "    else:\n",
    "        count+=m0"
   ]
  },
  {
   "cell_type": "code",
   "execution_count": 56,
   "metadata": {
    "collapsed": false
   },
   "outputs": [],
   "source": [
    "df0.to_csv('santas_route_2.csv')"
   ]
  },
  {
   "cell_type": "code",
   "execution_count": 57,
   "metadata": {
    "collapsed": false
   },
   "outputs": [],
   "source": [
    "np.savetxt('submission3.csv',df0[df0['GiftId']!=-1][['GiftId','TripId']].values.astype(np.int),fmt='%2.0d',delimiter=',',header='GiftId,TripId')\n",
    "%more submission1.csv"
   ]
  },
  {
   "cell_type": "code",
   "execution_count": null,
   "metadata": {
    "collapsed": true
   },
   "outputs": [],
   "source": []
  },
  {
   "cell_type": "code",
   "execution_count": null,
   "metadata": {
    "collapsed": true
   },
   "outputs": [],
   "source": []
  },
  {
   "cell_type": "code",
   "execution_count": null,
   "metadata": {
    "collapsed": true
   },
   "outputs": [],
   "source": []
  },
  {
   "cell_type": "code",
   "execution_count": null,
   "metadata": {
    "collapsed": true
   },
   "outputs": [],
   "source": []
  },
  {
   "cell_type": "markdown",
   "metadata": {},
   "source": [
    "# Parellelized Burn in"
   ]
  },
  {
   "cell_type": "code",
   "execution_count": null,
   "metadata": {
    "collapsed": true
   },
   "outputs": [],
   "source": [
    "from IPython import parallel\n",
    "\n",
    "rc = parallel.Client()\n",
    "all_engines = rc[:]\n",
    "lbv = rc.load_balanced_view()\n",
    "lbv.block = True"
   ]
  },
  {
   "cell_type": "code",
   "execution_count": null,
   "metadata": {
    "collapsed": true
   },
   "outputs": [],
   "source": [
    "@lbv.parallel()\n",
    "def f(x):\n",
    "    return 10.0*x**4"
   ]
  },
  {
   "cell_type": "code",
   "execution_count": null,
   "metadata": {
    "collapsed": true
   },
   "outputs": [],
   "source": [
    "f.map(np.arange(10**2))"
   ]
  },
  {
   "cell_type": "code",
   "execution_count": 908,
   "metadata": {
    "collapsed": true
   },
   "outputs": [],
   "source": [
    "def power(base, exponent):\n",
    "    return base ** exponent\n",
    "\n",
    "from functools import partial\n",
    "\n",
    "square = partial(power, exponent=2)\n",
    "cube = partial(power, exponent=3)\n",
    "\n",
    "def test_partials():\n",
    "    assert square(2) == 4\n",
    "    assert cube(2) == 8"
   ]
  },
  {
   "cell_type": "code",
   "execution_count": null,
   "metadata": {
    "collapsed": true
   },
   "outputs": [],
   "source": []
  }
 ],
 "metadata": {
  "kernelspec": {
   "display_name": "Python 3",
   "language": "python",
   "name": "python3"
  },
  "language_info": {
   "codemirror_mode": {
    "name": "ipython",
    "version": 3
   },
   "file_extension": ".py",
   "mimetype": "text/x-python",
   "name": "python",
   "nbconvert_exporter": "python",
   "pygments_lexer": "ipython3",
   "version": "3.4.3"
  }
 },
 "nbformat": 4,
 "nbformat_minor": 0
}
